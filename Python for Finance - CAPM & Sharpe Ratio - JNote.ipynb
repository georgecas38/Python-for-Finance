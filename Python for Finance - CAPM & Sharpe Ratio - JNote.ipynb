{
 "cells": [
  {
   "cell_type": "markdown",
   "id": "b97cfcc5",
   "metadata": {},
   "source": [
    "# Understanding and Calculating the CAPM"
   ]
  },
  {
   "cell_type": "code",
   "execution_count": null,
   "id": "39224f5e",
   "metadata": {},
   "outputs": [],
   "source": [
    "## Beta = Cov(Rx, Rm)/ var(m)\n",
    "\n",
    "## Beta measures the market risk that cannot be \n",
    "## avoided through diversification\n",
    "\n",
    "## The relationshio between a stock and the market\n",
    "\n",
    "## B = 0 => No Relationship\n",
    "## B < 1 => Defensive - stocks do better when the market is down\n",
    "## B > 1 => Aggresive - stocks do better when the market is bullinsh\n",
    "## B = 1 => perform the same as the market\n",
    "\n",
    "## where Rx is the return of the stock\n",
    "##       Rm is the return of the market\n",
    "##       var(m) is the variance of the market"
   ]
  },
  {
   "cell_type": "markdown",
   "id": "a948270f",
   "metadata": {},
   "source": [
    "# Calculating the Beta of a Stock"
   ]
  },
  {
   "cell_type": "code",
   "execution_count": 2,
   "id": "37a24f05",
   "metadata": {},
   "outputs": [],
   "source": [
    "import numpy as np\n",
    "import pandas as pd\n",
    "from pandas_datareader import data as wb\n",
    "\n",
    "tickers = ['PG', '^GSPC']\n",
    "data = pd.DataFrame()\n",
    "for t in tickers:\n",
    "    data[t] = wb.DataReader(t, data_source = 'yahoo', start = '2012-1-1', end = '2016-12-31')['Adj Close']"
   ]
  },
  {
   "cell_type": "code",
   "execution_count": 10,
   "id": "bb654886",
   "metadata": {},
   "outputs": [],
   "source": [
    "sec_returns = np.log(data/data.shift(1))\n"
   ]
  },
  {
   "cell_type": "code",
   "execution_count": 11,
   "id": "cb2a45dc",
   "metadata": {},
   "outputs": [
    {
     "data": {
      "text/html": [
       "<div>\n",
       "<style scoped>\n",
       "    .dataframe tbody tr th:only-of-type {\n",
       "        vertical-align: middle;\n",
       "    }\n",
       "\n",
       "    .dataframe tbody tr th {\n",
       "        vertical-align: top;\n",
       "    }\n",
       "\n",
       "    .dataframe thead th {\n",
       "        text-align: right;\n",
       "    }\n",
       "</style>\n",
       "<table border=\"1\" class=\"dataframe\">\n",
       "  <thead>\n",
       "    <tr style=\"text-align: right;\">\n",
       "      <th></th>\n",
       "      <th>PG</th>\n",
       "      <th>^GSPC</th>\n",
       "    </tr>\n",
       "  </thead>\n",
       "  <tbody>\n",
       "    <tr>\n",
       "      <th>PG</th>\n",
       "      <td>0.020409</td>\n",
       "      <td>0.010078</td>\n",
       "    </tr>\n",
       "    <tr>\n",
       "      <th>^GSPC</th>\n",
       "      <td>0.010078</td>\n",
       "      <td>0.016362</td>\n",
       "    </tr>\n",
       "  </tbody>\n",
       "</table>\n",
       "</div>"
      ],
      "text/plain": [
       "             PG     ^GSPC\n",
       "PG     0.020409  0.010078\n",
       "^GSPC  0.010078  0.016362"
      ]
     },
     "execution_count": 11,
     "metadata": {},
     "output_type": "execute_result"
    }
   ],
   "source": [
    "cov = sec_returns.cov() *250\n",
    "cov"
   ]
  },
  {
   "cell_type": "code",
   "execution_count": 12,
   "id": "88886c49",
   "metadata": {},
   "outputs": [
    {
     "data": {
      "text/plain": [
       "0.010078089100404707"
      ]
     },
     "execution_count": 12,
     "metadata": {},
     "output_type": "execute_result"
    }
   ],
   "source": [
    "cov_with_market = cov.iloc[0,1]\n",
    "cov_with_market"
   ]
  },
  {
   "cell_type": "code",
   "execution_count": 13,
   "id": "da75a47b",
   "metadata": {},
   "outputs": [
    {
     "data": {
      "text/plain": [
       "0.016361631002308474"
      ]
     },
     "execution_count": 13,
     "metadata": {},
     "output_type": "execute_result"
    }
   ],
   "source": [
    "market_var = sec_returns['^GSPC'].var() * 250\n",
    "market_var"
   ]
  },
  {
   "cell_type": "markdown",
   "id": "31b0c931",
   "metadata": {},
   "source": [
    "# Beta"
   ]
  },
  {
   "cell_type": "markdown",
   "id": "01bfa44e",
   "metadata": {},
   "source": [
    "$$\n",
    "\\beta_{pg} = \\frac{\\sigma_{pg,m}}{\\sigma_{m}^2}\n",
    "$$"
   ]
  },
  {
   "cell_type": "code",
   "execution_count": 15,
   "id": "a2ce1457",
   "metadata": {},
   "outputs": [
    {
     "data": {
      "text/plain": [
       "0.6159587084553357"
      ]
     },
     "execution_count": 15,
     "metadata": {},
     "output_type": "execute_result"
    }
   ],
   "source": [
    "PG_beta = cov_with_market / market_var\n",
    "PG_beta"
   ]
  },
  {
   "cell_type": "markdown",
   "id": "7fc21c57",
   "metadata": {},
   "source": [
    "# CAPM Formula"
   ]
  },
  {
   "cell_type": "code",
   "execution_count": 17,
   "id": "c10ed833",
   "metadata": {},
   "outputs": [],
   "source": [
    "## Capital Asset Pricing\n",
    "\n",
    "## Assumptions:\n",
    "## Investors are retional, risk averse, and optimize their portfolios\n",
    "\n",
    "## Investors can choose between a risk-free asset and the market portfolio\n",
    "\n",
    "## Investors make their decisions based on the risk appetite\n",
    "\n",
    "## Beta measures the relationship between a stock and the market portfolio"
   ]
  },
  {
   "cell_type": "code",
   "execution_count": 20,
   "id": "00fdf446",
   "metadata": {},
   "outputs": [],
   "source": [
    "## CAPM formula\n",
    "## Return of asset i = return of the risk free asset + Beta(asset i and market)*(Risk Free Premium = return of market - return of the risk free\n",
    "## Market risk premium = Return of the market - Return of the Risk free asset\n",
    "## Equity risk Premium = Beta between the stock and the market times the market risk premium\n",
    "\n",
    "\n",
    "## For Risk Free  - 2.5% - 10 yr US gov bond yield\n",
    "## Market Risk Premium = historically, it has been between 4.5% and 5.5%"
   ]
  },
  {
   "cell_type": "markdown",
   "id": "6666bba1",
   "metadata": {},
   "source": [
    "# Calculating the expected return of P&G (CAPM)"
   ]
  },
  {
   "cell_type": "markdown",
   "id": "748d4ee0",
   "metadata": {},
   "source": [
    "**Calculate the expected return of P&G (CAPM):**\n",
    "\n",
    "$$\n",
    "\\overline{r_{pg}} = r_f + \\beta_{pg}(\\overline{r_{m}} - r_f) \n",
    "$$"
   ]
  },
  {
   "cell_type": "code",
   "execution_count": 24,
   "id": "850215e8",
   "metadata": {},
   "outputs": [
    {
     "data": {
      "text/plain": [
       "0.05579793542276679"
      ]
     },
     "execution_count": 24,
     "metadata": {},
     "output_type": "execute_result"
    }
   ],
   "source": [
    "PG_er = 0.025 + PG_beta * 0.05\n",
    "PG_er"
   ]
  },
  {
   "cell_type": "markdown",
   "id": "2f2aabd4",
   "metadata": {},
   "source": [
    "# Introduction of Sharpe Ratio"
   ]
  },
  {
   "cell_type": "code",
   "execution_count": null,
   "id": "ff4ee5d0",
   "metadata": {},
   "outputs": [],
   "source": [
    "## The sharpe ratio is a tool to calculate a risk adjusted return\n",
    "## A risk adjusted return is beneficial when comparing\n",
    "## companies across different sectors\n",
    "\n",
    "## Sharpe ratio is a great way to compare stocks and portfolios\n",
    "\n",
    "## Sharpe Ration = (ri-rf)/stad dev(i)\n",
    "\n",
    "## rf = risk-free rate\n",
    "## ri = rate of return of the stock \"i\"\n",
    "## stad dev(i) = standard deviation of the stock \"i\"\n",
    "\n",
    "## Increase ri and the sharpe ratio increases\n",
    "## Decrease the stad dev(i) and the sharpe ratio increases"
   ]
  },
  {
   "cell_type": "markdown",
   "id": "8085adf8",
   "metadata": {},
   "source": [
    "**Sharpe ratio:**\n",
    "### $$\n",
    "Sharpe = \\frac{\\overline{r_{pg}} - r_f}{\\sigma_{pg}}\n",
    "$$"
   ]
  },
  {
   "cell_type": "code",
   "execution_count": 26,
   "id": "1921818f",
   "metadata": {},
   "outputs": [
    {
     "data": {
      "text/plain": [
       "0.21558123403036722"
      ]
     },
     "execution_count": 26,
     "metadata": {},
     "output_type": "execute_result"
    }
   ],
   "source": [
    "Sharpe = (PG_er - 0.025)/(sec_returns['PG'].std() * 250 ** 0.5)\n",
    "Sharpe"
   ]
  },
  {
   "cell_type": "markdown",
   "id": "5d597705",
   "metadata": {},
   "source": [
    "# Measuring Alpha"
   ]
  },
  {
   "cell_type": "code",
   "execution_count": null,
   "id": "0a19567e",
   "metadata": {},
   "outputs": [],
   "source": [
    "## measuring alpha quantifies how well an asset manager is doing\n",
    "## We can only compare the alpha of investments with a\n",
    "## similar risk profile\n",
    "\n",
    "## ri = alpha + rf +B(im)(rm-rf)\n",
    "\n",
    "## William Sharpe should in\n",
    "## Only 2% of funds have a positive alpha consistantly different than zero \n",
    "\n"
   ]
  }
 ],
 "metadata": {
  "kernelspec": {
   "display_name": "Python 3",
   "language": "python",
   "name": "python3"
  },
  "language_info": {
   "codemirror_mode": {
    "name": "ipython",
    "version": 3
   },
   "file_extension": ".py",
   "mimetype": "text/x-python",
   "name": "python",
   "nbconvert_exporter": "python",
   "pygments_lexer": "ipython3",
   "version": "3.8.8"
  }
 },
 "nbformat": 4,
 "nbformat_minor": 5
}
