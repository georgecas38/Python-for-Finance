{
 "cells": [
  {
   "cell_type": "code",
   "execution_count": 1,
   "id": "333b0d2b",
   "metadata": {},
   "outputs": [
    {
     "name": "stdout",
     "output_type": "stream",
     "text": [
      "8\n"
     ]
    }
   ],
   "source": [
    "# The following program consists of two lines of code:\n",
    "x = 5+3\n",
    "print(x)"
   ]
  },
  {
   "cell_type": "code",
   "execution_count": 2,
   "id": "a6e5d806",
   "metadata": {},
   "outputs": [
    {
     "name": "stdout",
     "output_type": "stream",
     "text": [
      "7\n"
     ]
    }
   ],
   "source": [
    "print(x-1)"
   ]
  },
  {
   "cell_type": "code",
   "execution_count": 3,
   "id": "dfd0b38f",
   "metadata": {},
   "outputs": [
    {
     "name": "stdout",
     "output_type": "stream",
     "text": [
      "9\n"
     ]
    }
   ],
   "source": [
    "print(x+1)"
   ]
  },
  {
   "cell_type": "markdown",
   "id": "68a0cd79",
   "metadata": {},
   "source": [
    "# Variables"
   ]
  },
  {
   "cell_type": "code",
   "execution_count": 4,
   "id": "2c568214",
   "metadata": {},
   "outputs": [],
   "source": [
    "# this is a command that assins 5 to the variable x\n",
    "x = 5"
   ]
  },
  {
   "cell_type": "code",
   "execution_count": 5,
   "id": "8877a9ff",
   "metadata": {},
   "outputs": [
    {
     "data": {
      "text/plain": [
       "5"
      ]
     },
     "execution_count": 5,
     "metadata": {},
     "output_type": "execute_result"
    }
   ],
   "source": [
    "x"
   ]
  },
  {
   "cell_type": "code",
   "execution_count": 6,
   "id": "417c1574",
   "metadata": {},
   "outputs": [],
   "source": [
    "y=8"
   ]
  },
  {
   "cell_type": "code",
   "execution_count": 7,
   "id": "41beffc8",
   "metadata": {},
   "outputs": [
    {
     "data": {
      "text/plain": [
       "8"
      ]
     },
     "execution_count": 7,
     "metadata": {},
     "output_type": "execute_result"
    }
   ],
   "source": [
    "y\n"
   ]
  },
  {
   "cell_type": "code",
   "execution_count": 8,
   "id": "1f0d6cf3",
   "metadata": {},
   "outputs": [
    {
     "ename": "SyntaxError",
     "evalue": "Missing parentheses in call to 'print'. Did you mean print(y)? (<ipython-input-8-3bd31d684b1f>, line 1)",
     "output_type": "error",
     "traceback": [
      "\u001b[1;36m  File \u001b[1;32m\"<ipython-input-8-3bd31d684b1f>\"\u001b[1;36m, line \u001b[1;32m1\u001b[0m\n\u001b[1;33m    print y\u001b[0m\n\u001b[1;37m          ^\u001b[0m\n\u001b[1;31mSyntaxError\u001b[0m\u001b[1;31m:\u001b[0m Missing parentheses in call to 'print'. Did you mean print(y)?\n"
     ]
    }
   ],
   "source": [
    "print y"
   ]
  },
  {
   "cell_type": "code",
   "execution_count": null,
   "id": "81ad05e5",
   "metadata": {},
   "outputs": [],
   "source": [
    "# print y is a command vs print (y) is a function\n",
    "print (y)\n"
   ]
  },
  {
   "cell_type": "code",
   "execution_count": null,
   "id": "4c60e41b",
   "metadata": {},
   "outputs": [],
   "source": [
    "x,y = (1,2)"
   ]
  },
  {
   "cell_type": "code",
   "execution_count": null,
   "id": "1f058fcc",
   "metadata": {},
   "outputs": [],
   "source": [
    "x"
   ]
  },
  {
   "cell_type": "code",
   "execution_count": null,
   "id": "c19d99ba",
   "metadata": {},
   "outputs": [],
   "source": [
    "y"
   ]
  },
  {
   "cell_type": "code",
   "execution_count": null,
   "id": "698fec0f",
   "metadata": {},
   "outputs": [],
   "source": [
    "x1 = 5"
   ]
  },
  {
   "cell_type": "code",
   "execution_count": null,
   "id": "c9760828",
   "metadata": {},
   "outputs": [],
   "source": [
    "type(x1)"
   ]
  },
  {
   "cell_type": "code",
   "execution_count": null,
   "id": "dda9fcaf",
   "metadata": {},
   "outputs": [],
   "source": [
    "type(-6)"
   ]
  },
  {
   "cell_type": "code",
   "execution_count": null,
   "id": "05dbedd8",
   "metadata": {},
   "outputs": [],
   "source": [
    "x2 = 4.75\n",
    "# floating points (floats): are real numbers; with a decimal point"
   ]
  },
  {
   "cell_type": "code",
   "execution_count": null,
   "id": "70b7be49",
   "metadata": {},
   "outputs": [],
   "source": [
    "type(x2)"
   ]
  },
  {
   "cell_type": "code",
   "execution_count": null,
   "id": "e074653e",
   "metadata": {},
   "outputs": [],
   "source": [
    "int(x2)\n",
    "# int() is a built in function that transforms floats into intergers"
   ]
  },
  {
   "cell_type": "code",
   "execution_count": null,
   "id": "144fa364",
   "metadata": {},
   "outputs": [],
   "source": [
    "float(5)\n",
    "#float() transforms the variable into a float"
   ]
  },
  {
   "cell_type": "code",
   "execution_count": null,
   "id": "2cf5b386",
   "metadata": {},
   "outputs": [],
   "source": [
    "# Boolean Values: a \"true\" or \"false\" value ; 1 or 0 ; on or off\n",
    "x3 = True"
   ]
  },
  {
   "cell_type": "code",
   "execution_count": null,
   "id": "3e0e3e0e",
   "metadata": {},
   "outputs": [],
   "source": [
    "type (x3)"
   ]
  },
  {
   "cell_type": "code",
   "execution_count": null,
   "id": "848453da",
   "metadata": {},
   "outputs": [],
   "source": [
    "# Strings: Text values composed of a sequence of characters\n",
    "# Strings: The quotes can come into play"
   ]
  },
  {
   "cell_type": "code",
   "execution_count": null,
   "id": "180c7e5c",
   "metadata": {},
   "outputs": [],
   "source": [
    "'George'"
   ]
  },
  {
   "cell_type": "code",
   "execution_count": null,
   "id": "9c71c406",
   "metadata": {},
   "outputs": [],
   "source": [
    "\"George\""
   ]
  },
  {
   "cell_type": "code",
   "execution_count": null,
   "id": "48375064",
   "metadata": {},
   "outputs": [],
   "source": [
    "print(\"George\")"
   ]
  },
  {
   "cell_type": "code",
   "execution_count": null,
   "id": "9d2ab466",
   "metadata": {},
   "outputs": [],
   "source": [
    "print('George')"
   ]
  },
  {
   "cell_type": "code",
   "execution_count": null,
   "id": "aa002f27",
   "metadata": {},
   "outputs": [],
   "source": [
    "x4 = 'George'"
   ]
  },
  {
   "cell_type": "code",
   "execution_count": null,
   "id": "4a132762",
   "metadata": {},
   "outputs": [],
   "source": [
    "x4"
   ]
  },
  {
   "cell_type": "code",
   "execution_count": null,
   "id": "c401bdcb",
   "metadata": {},
   "outputs": [],
   "source": [
    "print(x4)"
   ]
  },
  {
   "cell_type": "markdown",
   "id": "c00c5351",
   "metadata": {},
   "source": [
    "# # Example"
   ]
  },
  {
   "cell_type": "code",
   "execution_count": null,
   "id": "eab197ac",
   "metadata": {},
   "outputs": [],
   "source": [
    "# y - the number of dollars you have in your pocket\n",
    "# Computer: y dollars"
   ]
  },
  {
   "cell_type": "code",
   "execution_count": 9,
   "id": "700f7aec",
   "metadata": {},
   "outputs": [
    {
     "name": "stdout",
     "output_type": "stream",
     "text": [
      "$10 the number of dollars you have in your pocket\n"
     ]
    }
   ],
   "source": [
    "y = 10\n",
    "print (\"$\"+str(y) + \" the number of dollars you have in your pocket\")"
   ]
  },
  {
   "cell_type": "code",
   "execution_count": 10,
   "id": "794e66d1",
   "metadata": {},
   "outputs": [
    {
     "ename": "SyntaxError",
     "evalue": "invalid syntax (<ipython-input-10-4b03f9290adb>, line 1)",
     "output_type": "error",
     "traceback": [
      "\u001b[1;36m  File \u001b[1;32m\"<ipython-input-10-4b03f9290adb>\"\u001b[1;36m, line \u001b[1;32m1\u001b[0m\n\u001b[1;33m    'I'm fine'\u001b[0m\n\u001b[1;37m       ^\u001b[0m\n\u001b[1;31mSyntaxError\u001b[0m\u001b[1;31m:\u001b[0m invalid syntax\n"
     ]
    }
   ],
   "source": [
    "'I'm fine'"
   ]
  },
  {
   "cell_type": "code",
   "execution_count": null,
   "id": "312e32bc",
   "metadata": {},
   "outputs": [],
   "source": [
    "\"I'm fine\""
   ]
  },
  {
   "cell_type": "code",
   "execution_count": null,
   "id": "886d3ab0",
   "metadata": {},
   "outputs": [],
   "source": [
    "'I\\'m fine'\n",
    "#The \\ is an escape character"
   ]
  },
  {
   "cell_type": "code",
   "execution_count": null,
   "id": "e5c1a23b",
   "metadata": {},
   "outputs": [],
   "source": [
    "'Press \"Enter\"'"
   ]
  },
  {
   "cell_type": "code",
   "execution_count": null,
   "id": "daaf146a",
   "metadata": {},
   "outputs": [],
   "source": [
    "'Red' 'car'"
   ]
  },
  {
   "cell_type": "code",
   "execution_count": null,
   "id": "273acaa6",
   "metadata": {},
   "outputs": [],
   "source": [
    "'Red ''car'"
   ]
  },
  {
   "cell_type": "code",
   "execution_count": null,
   "id": "cb3b4d06",
   "metadata": {},
   "outputs": [],
   "source": [
    "'Red ' + 'car'"
   ]
  },
  {
   "cell_type": "code",
   "execution_count": 96,
   "id": "747b1f6c",
   "metadata": {},
   "outputs": [
    {
     "name": "stdout",
     "output_type": "stream",
     "text": [
      "Red car\n"
     ]
    }
   ],
   "source": [
    "print('Red '+'car')"
   ]
  },
  {
   "cell_type": "code",
   "execution_count": 97,
   "id": "ad045068",
   "metadata": {},
   "outputs": [
    {
     "name": "stdout",
     "output_type": "stream",
     "text": [
      "Red car\n"
     ]
    }
   ],
   "source": [
    "print('Red','car')\n",
    "# when you put the , \"trailing comma\" python prints the first string a space followed by the second word\n"
   ]
  },
  {
   "cell_type": "code",
   "execution_count": null,
   "id": "fed9e168",
   "metadata": {},
   "outputs": [],
   "source": [
    "print(3,5)"
   ]
  },
  {
   "cell_type": "code",
   "execution_count": null,
   "id": "4d43b788",
   "metadata": {},
   "outputs": [],
   "source": [
    "3,5,6.9,7.0,'car'\n"
   ]
  },
  {
   "cell_type": "markdown",
   "id": "007397e2",
   "metadata": {},
   "source": [
    "# Arithmetic Operators of Python"
   ]
  },
  {
   "cell_type": "code",
   "execution_count": null,
   "id": "d8c9a12d",
   "metadata": {},
   "outputs": [],
   "source": [
    "1+2\n",
    "# the 1 & 2 are operands"
   ]
  },
  {
   "cell_type": "code",
   "execution_count": null,
   "id": "1500b5b3",
   "metadata": {},
   "outputs": [],
   "source": [
    "3-5\n",
    "# the +,-, /, *, ** are Arithmetic Operators "
   ]
  },
  {
   "cell_type": "code",
   "execution_count": null,
   "id": "f6d0d0e8",
   "metadata": {},
   "outputs": [],
   "source": [
    "int(15/3)"
   ]
  },
  {
   "cell_type": "code",
   "execution_count": null,
   "id": "e7eabf12",
   "metadata": {},
   "outputs": [],
   "source": [
    "16/3\n",
    "\n",
    "# the / is used for division"
   ]
  },
  {
   "cell_type": "code",
   "execution_count": null,
   "id": "02e8c81c",
   "metadata": {},
   "outputs": [],
   "source": [
    "16 % 3\n",
    "# the % sign used for division will return the reminder of the division\n"
   ]
  },
  {
   "cell_type": "code",
   "execution_count": null,
   "id": "ea755360",
   "metadata": {},
   "outputs": [],
   "source": [
    "16 % 4"
   ]
  },
  {
   "cell_type": "code",
   "execution_count": null,
   "id": "1e513936",
   "metadata": {},
   "outputs": [],
   "source": [
    "5 * 3\n",
    "\n",
    "# the * is used as an operator for multiplication"
   ]
  },
  {
   "cell_type": "code",
   "execution_count": null,
   "id": "b0eb828e",
   "metadata": {},
   "outputs": [],
   "source": [
    "x = 5 * 3"
   ]
  },
  {
   "cell_type": "code",
   "execution_count": null,
   "id": "733e2ce6",
   "metadata": {},
   "outputs": [],
   "source": [
    "x"
   ]
  },
  {
   "cell_type": "code",
   "execution_count": null,
   "id": "eaddeb2f",
   "metadata": {},
   "outputs": [],
   "source": [
    "5 ** 3\n",
    "\n",
    "# the \"**\" is used as an exponent sign ex: 5**3 is 5^3\n",
    "# in the example 5 ** 3 the ** Raises the left operand by the power of the right operand\n"
   ]
  },
  {
   "cell_type": "markdown",
   "id": "c9cfeb6d",
   "metadata": {},
   "source": [
    "# The equality and double equality sign"
   ]
  },
  {
   "cell_type": "code",
   "execution_count": null,
   "id": "1f2b9007",
   "metadata": {},
   "outputs": [],
   "source": [
    "y = 5 ** 3\n",
    "# the equality sign binds y to the 5 ** 3"
   ]
  },
  {
   "cell_type": "code",
   "execution_count": null,
   "id": "f34f38fa",
   "metadata": {},
   "outputs": [],
   "source": [
    "y"
   ]
  },
  {
   "cell_type": "code",
   "execution_count": null,
   "id": "33d13cd6",
   "metadata": {},
   "outputs": [],
   "source": [
    "y == 125\n",
    "# == means \"equals\"\n",
    "# So, the way to read the code \"is y equal to 125?\"\n",
    "# the double equality sign question equality between two values\n",
    "# converseley, the equal signs values to variables"
   ]
  },
  {
   "cell_type": "code",
   "execution_count": null,
   "id": "00d9e934",
   "metadata": {},
   "outputs": [],
   "source": [
    "y == 126"
   ]
  },
  {
   "cell_type": "markdown",
   "id": "f9f83960",
   "metadata": {},
   "source": [
    "# Reassing values"
   ]
  },
  {
   "cell_type": "code",
   "execution_count": null,
   "id": "93b39ee2",
   "metadata": {},
   "outputs": [],
   "source": [
    "z = 1\n",
    "z"
   ]
  },
  {
   "cell_type": "code",
   "execution_count": null,
   "id": "8a24d20f",
   "metadata": {},
   "outputs": [],
   "source": [
    "z = 3\n",
    "z"
   ]
  },
  {
   "cell_type": "code",
   "execution_count": null,
   "id": "e65524a4",
   "metadata": {},
   "outputs": [],
   "source": [
    "z + 5\n"
   ]
  },
  {
   "cell_type": "code",
   "execution_count": null,
   "id": "497f0cfe",
   "metadata": {},
   "outputs": [],
   "source": [
    "z = 7\n",
    "z\n",
    "# in these examples I learned how to reasign values to variables and\n",
    "# demonstrated how the variables have been overwritten"
   ]
  },
  {
   "cell_type": "markdown",
   "id": "18e1d118",
   "metadata": {},
   "source": [
    "# Line continuation"
   ]
  },
  {
   "cell_type": "code",
   "execution_count": null,
   "id": "f8dee13a",
   "metadata": {},
   "outputs": [],
   "source": [
    "2 *\\\n",
    "1.5 +5\n",
    "# the \\ \"Back lash\" is used as an indicator of line continuation"
   ]
  },
  {
   "cell_type": "markdown",
   "id": "435a5c5a",
   "metadata": {},
   "source": [
    "# Indexing Elements"
   ]
  },
  {
   "cell_type": "code",
   "execution_count": null,
   "id": "53e2f518",
   "metadata": {},
   "outputs": [],
   "source": [
    "\"Friday\"[3]\n",
    "# indexing format \"Name_of_variable\"[index_of_element]\n",
    "# Recall that in Python we count from 0 not from 1\n",
    "# F R I D A Y\n",
    "# 0 1 2 3 4 5\n",
    "# So the square brackets are used for indexing"
   ]
  },
  {
   "cell_type": "markdown",
   "id": "6bac8b90",
   "metadata": {},
   "source": [
    "# Structure your code with Indentation"
   ]
  },
  {
   "cell_type": "code",
   "execution_count": null,
   "id": "de9aa036",
   "metadata": {},
   "outputs": [],
   "source": [
    "def five(x):\n",
    "    x = 5\n",
    "    return x\n",
    "print (five(3))\n",
    "\n",
    "# indentation and blank rows creates blocks of code and commands"
   ]
  },
  {
   "cell_type": "markdown",
   "id": "192a5c34",
   "metadata": {},
   "source": [
    "\n",
    "# Ch 5 "
   ]
  },
  {
   "cell_type": "markdown",
   "id": "553ebc5e",
   "metadata": {},
   "source": [
    "# Comparison Operators"
   ]
  },
  {
   "cell_type": "code",
   "execution_count": null,
   "id": "ae78b48c",
   "metadata": {},
   "outputs": [],
   "source": [
    "10 == 20 / 2"
   ]
  },
  {
   "cell_type": "code",
   "execution_count": null,
   "id": "cefd7667",
   "metadata": {},
   "outputs": [],
   "source": [
    "10 != 10\n",
    "# ! and = translates to \"not equal to\" "
   ]
  },
  {
   "cell_type": "code",
   "execution_count": null,
   "id": "5493d389",
   "metadata": {},
   "outputs": [],
   "source": [
    "10 != 15"
   ]
  },
  {
   "cell_type": "code",
   "execution_count": null,
   "id": "f1304d11",
   "metadata": {},
   "outputs": [],
   "source": [
    "# > \"Greater than\"\n",
    "# < \"Less than\"\n",
    "100 > 50"
   ]
  },
  {
   "cell_type": "code",
   "execution_count": null,
   "id": "cf137701",
   "metadata": {},
   "outputs": [],
   "source": [
    "100 < 50"
   ]
  },
  {
   "cell_type": "code",
   "execution_count": null,
   "id": "0c74e77c",
   "metadata": {},
   "outputs": [],
   "source": [
    "# >= \"Greater than or equal to\"\n",
    "# <= \"Less than or equal to\"\n",
    "15 >= 10 + 10"
   ]
  },
  {
   "cell_type": "code",
   "execution_count": null,
   "id": "0e921fc4",
   "metadata": {},
   "outputs": [],
   "source": [
    "15 <= 10 + 5"
   ]
  },
  {
   "cell_type": "markdown",
   "id": "d31cbc53",
   "metadata": {},
   "source": [
    "#Logical Operators = Boolean Operators"
   ]
  },
  {
   "cell_type": "code",
   "execution_count": null,
   "id": "1e4ee7da",
   "metadata": {},
   "outputs": [],
   "source": [
    "# NOT - AND - OR"
   ]
  },
  {
   "cell_type": "code",
   "execution_count": null,
   "id": "857f87e2",
   "metadata": {},
   "outputs": [],
   "source": [
    "# AND : Checks whether the two statements around it are True\n",
    "True and True"
   ]
  },
  {
   "cell_type": "code",
   "execution_count": null,
   "id": "5c40a7a0",
   "metadata": {},
   "outputs": [],
   "source": [
    "True and False"
   ]
  },
  {
   "cell_type": "code",
   "execution_count": null,
   "id": "0a1af346",
   "metadata": {},
   "outputs": [],
   "source": [
    "False and False"
   ]
  },
  {
   "cell_type": "code",
   "execution_count": null,
   "id": "c42c1dc9",
   "metadata": {},
   "outputs": [],
   "source": [
    "# OR : Checks whether at least one of the two statements are True\n",
    "False or False"
   ]
  },
  {
   "cell_type": "code",
   "execution_count": null,
   "id": "da597d36",
   "metadata": {},
   "outputs": [],
   "source": [
    "True or True"
   ]
  },
  {
   "cell_type": "code",
   "execution_count": null,
   "id": "43d09cf4",
   "metadata": {},
   "outputs": [],
   "source": [
    "True or False"
   ]
  },
  {
   "cell_type": "code",
   "execution_count": null,
   "id": "14656116",
   "metadata": {},
   "outputs": [],
   "source": [
    "False or True"
   ]
  },
  {
   "cell_type": "code",
   "execution_count": null,
   "id": "3bd8c12b",
   "metadata": {},
   "outputs": [],
   "source": [
    "# NOT : not leads to the opposite of the statement\n",
    "not True"
   ]
  },
  {
   "cell_type": "code",
   "execution_count": 11,
   "id": "d20c54d8",
   "metadata": {},
   "outputs": [
    {
     "data": {
      "text/plain": [
       "True"
      ]
     },
     "execution_count": 11,
     "metadata": {},
     "output_type": "execute_result"
    }
   ],
   "source": [
    "not False"
   ]
  },
  {
   "cell_type": "code",
   "execution_count": 12,
   "id": "d8c5b0be",
   "metadata": {},
   "outputs": [
    {
     "data": {
      "text/plain": [
       "False"
      ]
     },
     "execution_count": 12,
     "metadata": {},
     "output_type": "execute_result"
    }
   ],
   "source": [
    "not not False"
   ]
  },
  {
   "cell_type": "code",
   "execution_count": 13,
   "id": "eb36765d",
   "metadata": {},
   "outputs": [
    {
     "data": {
      "text/plain": [
       "False"
      ]
     },
     "execution_count": 13,
     "metadata": {},
     "output_type": "execute_result"
    }
   ],
   "source": [
    "# False and True\n",
    "3 > 5 and 10 <= 20"
   ]
  },
  {
   "cell_type": "code",
   "execution_count": 14,
   "id": "9edfb800",
   "metadata": {},
   "outputs": [
    {
     "data": {
      "text/plain": [
       "False"
      ]
     },
     "execution_count": 14,
     "metadata": {},
     "output_type": "execute_result"
    }
   ],
   "source": [
    "True and not True\n",
    "# T and F => F"
   ]
  },
  {
   "cell_type": "code",
   "execution_count": 15,
   "id": "7aa72963",
   "metadata": {},
   "outputs": [
    {
     "data": {
      "text/plain": [
       "False"
      ]
     },
     "execution_count": 15,
     "metadata": {},
     "output_type": "execute_result"
    }
   ],
   "source": [
    "False or not True and True\n",
    "# And has an advantage over or\n",
    "# False or False\n"
   ]
  },
  {
   "cell_type": "code",
   "execution_count": null,
   "id": "b19ea216",
   "metadata": {},
   "outputs": [],
   "source": []
  },
  {
   "cell_type": "code",
   "execution_count": 16,
   "id": "505c1639",
   "metadata": {},
   "outputs": [
    {
     "data": {
      "text/plain": [
       "True"
      ]
     },
     "execution_count": 16,
     "metadata": {},
     "output_type": "execute_result"
    }
   ],
   "source": [
    "True and not True or True\n",
    "# False or True"
   ]
  },
  {
   "cell_type": "code",
   "execution_count": 17,
   "id": "9c45163b",
   "metadata": {},
   "outputs": [],
   "source": [
    "# T and T - T\n",
    "# F and T - F\n",
    "# T and F - F\n",
    "# F and F - F\n",
    "#\n",
    "# T or T - T\n",
    "# F or T - T\n",
    "# T or F - T\n",
    "# F or F - F"
   ]
  },
  {
   "cell_type": "markdown",
   "id": "2bffbe2c",
   "metadata": {},
   "source": [
    "# Identity Operators:"
   ]
  },
  {
   "cell_type": "code",
   "execution_count": 18,
   "id": "b5ef7fb7",
   "metadata": {},
   "outputs": [],
   "source": [
    "## is and is not\n",
    "## similar to == and !="
   ]
  },
  {
   "cell_type": "code",
   "execution_count": 19,
   "id": "26e4e270",
   "metadata": {},
   "outputs": [
    {
     "name": "stderr",
     "output_type": "stream",
     "text": [
      "<>:1: SyntaxWarning: \"is\" with a literal. Did you mean \"==\"?\n",
      "<>:1: SyntaxWarning: \"is\" with a literal. Did you mean \"==\"?\n",
      "<ipython-input-19-635fcd361971>:1: SyntaxWarning: \"is\" with a literal. Did you mean \"==\"?\n",
      "  5 is 6\n"
     ]
    },
    {
     "data": {
      "text/plain": [
       "False"
      ]
     },
     "execution_count": 19,
     "metadata": {},
     "output_type": "execute_result"
    }
   ],
   "source": [
    "5 is 6"
   ]
  },
  {
   "cell_type": "code",
   "execution_count": 20,
   "id": "84ab967b",
   "metadata": {},
   "outputs": [
    {
     "data": {
      "text/plain": [
       "False"
      ]
     },
     "execution_count": 20,
     "metadata": {},
     "output_type": "execute_result"
    }
   ],
   "source": [
    "5 == 6"
   ]
  },
  {
   "cell_type": "code",
   "execution_count": 21,
   "id": "c76b2dd1",
   "metadata": {},
   "outputs": [
    {
     "name": "stderr",
     "output_type": "stream",
     "text": [
      "<>:1: SyntaxWarning: \"is not\" with a literal. Did you mean \"!=\"?\n",
      "<>:1: SyntaxWarning: \"is not\" with a literal. Did you mean \"!=\"?\n",
      "<ipython-input-21-d7a89cdfaf51>:1: SyntaxWarning: \"is not\" with a literal. Did you mean \"!=\"?\n",
      "  5 is not 6\n"
     ]
    },
    {
     "data": {
      "text/plain": [
       "True"
      ]
     },
     "execution_count": 21,
     "metadata": {},
     "output_type": "execute_result"
    }
   ],
   "source": [
    "5 is not 6"
   ]
  },
  {
   "cell_type": "code",
   "execution_count": 22,
   "id": "5a2df558",
   "metadata": {},
   "outputs": [
    {
     "data": {
      "text/plain": [
       "True"
      ]
     },
     "execution_count": 22,
     "metadata": {},
     "output_type": "execute_result"
    }
   ],
   "source": [
    "5!= 6"
   ]
  },
  {
   "cell_type": "markdown",
   "id": "733583d4",
   "metadata": {},
   "source": [
    "# Conditional Statements"
   ]
  },
  {
   "cell_type": "markdown",
   "id": "b4cf4847",
   "metadata": {},
   "source": [
    "### IF Statements"
   ]
  },
  {
   "cell_type": "code",
   "execution_count": 23,
   "id": "dadaaa99",
   "metadata": {},
   "outputs": [],
   "source": [
    "# if 5 = 15/3 then print Hooray!\n",
    "# Format\n",
    "# if contiong:\n",
    "#      conditional code"
   ]
  },
  {
   "cell_type": "code",
   "execution_count": 24,
   "id": "71bdb060",
   "metadata": {},
   "outputs": [
    {
     "name": "stdout",
     "output_type": "stream",
     "text": [
      "Hooray!\n"
     ]
    }
   ],
   "source": [
    "if 5 == 15/3:\n",
    "    print(\"Hooray!\")"
   ]
  },
  {
   "cell_type": "code",
   "execution_count": 25,
   "id": "3ae037c3",
   "metadata": {},
   "outputs": [
    {
     "name": "stdout",
     "output_type": "stream",
     "text": [
      "Hooray!\n"
     ]
    }
   ],
   "source": [
    "if 5 != 18/3:\n",
    "    print(\"Hooray!\")"
   ]
  },
  {
   "cell_type": "code",
   "execution_count": 26,
   "id": "1370f2fd",
   "metadata": {},
   "outputs": [
    {
     "name": "stdout",
     "output_type": "stream",
     "text": [
      "Hooray!\n"
     ]
    }
   ],
   "source": [
    "if 5 != 3 * 6:\n",
    "    print(\"Hooray!\")"
   ]
  },
  {
   "cell_type": "markdown",
   "id": "e24d160d",
   "metadata": {},
   "source": [
    "## Else If"
   ]
  },
  {
   "cell_type": "code",
   "execution_count": 27,
   "id": "7f902bfc",
   "metadata": {},
   "outputs": [
    {
     "name": "stdout",
     "output_type": "stream",
     "text": [
      "Case 2\n"
     ]
    }
   ],
   "source": [
    "x = 1\n",
    "\n",
    "#block of code 1\n",
    "#   Command code 1\n",
    "\n",
    "#block of code 2\n",
    "#   Command code 2\n",
    "\n",
    "\n",
    "if x > 3:\n",
    "    print(\"Case 1\")\n",
    "else:\n",
    "    print(\"Case 2\")"
   ]
  },
  {
   "cell_type": "markdown",
   "id": "500cc4bb",
   "metadata": {},
   "source": [
    "## Elif"
   ]
  },
  {
   "cell_type": "code",
   "execution_count": 28,
   "id": "bd920acd",
   "metadata": {},
   "outputs": [],
   "source": [
    "# Elif statements is an elegent way to\n",
    "# add a second if statement"
   ]
  },
  {
   "cell_type": "code",
   "execution_count": 29,
   "id": "6c08e1bb",
   "metadata": {},
   "outputs": [],
   "source": [
    "def compare_to_five(y):\n",
    "    if y > 5:\n",
    "        return \"Greater\"\n",
    "    elif y < 0:\n",
    "        return \"Negative\"\n",
    "    elif y < 5:\n",
    "        return \"Less\"\n",
    "    else:\n",
    "        return \"Equal\""
   ]
  },
  {
   "cell_type": "code",
   "execution_count": 30,
   "id": "159d6158",
   "metadata": {},
   "outputs": [
    {
     "name": "stdout",
     "output_type": "stream",
     "text": [
      "Greater\n"
     ]
    }
   ],
   "source": [
    "print (compare_to_five(10))"
   ]
  },
  {
   "cell_type": "code",
   "execution_count": 31,
   "id": "29df51b9",
   "metadata": {},
   "outputs": [
    {
     "name": "stdout",
     "output_type": "stream",
     "text": [
      "Less\n"
     ]
    }
   ],
   "source": [
    "print (compare_to_five(2))"
   ]
  },
  {
   "cell_type": "code",
   "execution_count": 32,
   "id": "508f5b0e",
   "metadata": {},
   "outputs": [
    {
     "name": "stdout",
     "output_type": "stream",
     "text": [
      "Equal\n"
     ]
    }
   ],
   "source": [
    "print (compare_to_five(5))"
   ]
  },
  {
   "cell_type": "code",
   "execution_count": 33,
   "id": "62be830e",
   "metadata": {},
   "outputs": [
    {
     "name": "stdout",
     "output_type": "stream",
     "text": [
      "Negative\n"
     ]
    }
   ],
   "source": [
    "print (compare_to_five(-1))"
   ]
  },
  {
   "cell_type": "code",
   "execution_count": 34,
   "id": "3120523c",
   "metadata": {},
   "outputs": [],
   "source": [
    "# Make sure to arrange the conditional statements\n",
    "# in the proper flow\n",
    "\n",
    "def compare_2_five(z):\n",
    "    if z > 5:\n",
    "        return \"Greater\"\n",
    "    elif z < 5:\n",
    "        return \"Less\"\n",
    "    elif z < 0:\n",
    "        return \"Negative\"\n",
    "    else:\n",
    "        return \"Equal\""
   ]
  },
  {
   "cell_type": "code",
   "execution_count": 35,
   "id": "3aefe7bb",
   "metadata": {},
   "outputs": [
    {
     "name": "stdout",
     "output_type": "stream",
     "text": [
      "Less\n"
     ]
    }
   ],
   "source": [
    "print (compare_2_five(-3))"
   ]
  },
  {
   "cell_type": "markdown",
   "id": "5daa3a10",
   "metadata": {},
   "source": [
    "## A note on Boolean Values"
   ]
  },
  {
   "cell_type": "code",
   "execution_count": 36,
   "id": "9a4ac395",
   "metadata": {},
   "outputs": [
    {
     "name": "stdout",
     "output_type": "stream",
     "text": [
      "Incorrect\n"
     ]
    }
   ],
   "source": [
    "x = 2\n",
    "\n",
    "if x > 4:\n",
    "    print (\"correct\")\n",
    "else:\n",
    "    print (\"Incorrect\")"
   ]
  },
  {
   "cell_type": "markdown",
   "id": "b0d2daea",
   "metadata": {},
   "source": [
    "# How to define a Function"
   ]
  },
  {
   "cell_type": "code",
   "execution_count": 37,
   "id": "8ec656e1",
   "metadata": {},
   "outputs": [],
   "source": [
    "# def is a keyword\n",
    "# function synthax is def function_name(parameters):\n",
    "# <--------------------> fuction body"
   ]
  },
  {
   "cell_type": "code",
   "execution_count": 38,
   "id": "70f9b150",
   "metadata": {},
   "outputs": [],
   "source": [
    "def simple():\n",
    "    print(\"My first function\")"
   ]
  },
  {
   "cell_type": "code",
   "execution_count": 39,
   "id": "2d79e76f",
   "metadata": {},
   "outputs": [],
   "source": [
    "# Now we must call the function\n",
    "# so function_name(arguments)\n"
   ]
  },
  {
   "cell_type": "code",
   "execution_count": 40,
   "id": "0b272983",
   "metadata": {},
   "outputs": [
    {
     "name": "stdout",
     "output_type": "stream",
     "text": [
      "My first function\n"
     ]
    }
   ],
   "source": [
    "simple()"
   ]
  },
  {
   "cell_type": "code",
   "execution_count": 41,
   "id": "5353b317",
   "metadata": {},
   "outputs": [],
   "source": [
    "# plus_ten(a) is a function a+10\n",
    "def plus_ten(a):\n",
    "    return a + 10\n",
    "    "
   ]
  },
  {
   "cell_type": "code",
   "execution_count": 42,
   "id": "d9ebaa12",
   "metadata": {},
   "outputs": [
    {
     "data": {
      "text/plain": [
       "12"
      ]
     },
     "execution_count": 42,
     "metadata": {},
     "output_type": "execute_result"
    }
   ],
   "source": [
    "plus_ten(2)"
   ]
  },
  {
   "cell_type": "code",
   "execution_count": 43,
   "id": "4cb0f70b",
   "metadata": {},
   "outputs": [
    {
     "data": {
      "text/plain": [
       "15"
      ]
     },
     "execution_count": 43,
     "metadata": {},
     "output_type": "execute_result"
    }
   ],
   "source": [
    "plus_ten(5)"
   ]
  },
  {
   "cell_type": "code",
   "execution_count": 44,
   "id": "861b32e9",
   "metadata": {},
   "outputs": [],
   "source": [
    "# input:     f(x)     output:\n",
    "#   x  ---->  x+10 ---> y\n",
    "\n",
    "# input (x) -----> function (return) ----> output y\n",
    "\n",
    "# return can be used only once in a function\n",
    "\n",
    "# You can also assign a more intuitive name to a function:\n",
    "# plus_ten\n",
    "# addition_of_ten"
   ]
  },
  {
   "cell_type": "markdown",
   "id": "f6634149",
   "metadata": {},
   "source": [
    "# Another way to define a function"
   ]
  },
  {
   "cell_type": "code",
   "execution_count": 45,
   "id": "99448ca8",
   "metadata": {},
   "outputs": [],
   "source": [
    "def plus_ten(a):\n",
    "    result = a + 10\n",
    "    print (\"Outcome\")\n",
    "    return result"
   ]
  },
  {
   "cell_type": "code",
   "execution_count": 46,
   "id": "3b14892e",
   "metadata": {},
   "outputs": [
    {
     "name": "stdout",
     "output_type": "stream",
     "text": [
      "Outcome\n"
     ]
    },
    {
     "data": {
      "text/plain": [
       "12"
      ]
     },
     "execution_count": 46,
     "metadata": {},
     "output_type": "execute_result"
    }
   ],
   "source": [
    "plus_ten(2)"
   ]
  },
  {
   "cell_type": "code",
   "execution_count": 47,
   "id": "fb0dd6f2",
   "metadata": {},
   "outputs": [],
   "source": [
    "#In this lesson we learned that we can\n",
    "# return only a single result out of a function"
   ]
  },
  {
   "cell_type": "code",
   "execution_count": 48,
   "id": "0cca3d8e",
   "metadata": {},
   "outputs": [],
   "source": [
    "# print takes an object and provides it printed\n",
    "# representation in the output cell\n",
    "# it makes a certain statement visibel to the programer\n",
    "# a good reason to do that is when you have a huge amount of\n",
    "# code and you want to see the intermediary\n",
    "# steps of your program printed out\n",
    "# so you can follow the control flow\n",
    "# print does not affect the calculation of the output \n",
    "\n",
    "#          print          vs       return\n",
    "#   does not affect            does not visualize\n",
    "#   the calculation                 the output\n",
    "#   of the output\n",
    "#                                it specifies what a\n",
    "#                               certain function is supposed\n",
    "#                                to give back\n",
    "#"
   ]
  },
  {
   "cell_type": "markdown",
   "id": "ffde84b8",
   "metadata": {},
   "source": [
    "# Using a function in another function\n",
    "# f(g(x))"
   ]
  },
  {
   "cell_type": "code",
   "execution_count": 49,
   "id": "7046c0e5",
   "metadata": {},
   "outputs": [],
   "source": [
    "def wage(w_hours):\n",
    "    return w_hours * 25\n",
    "\n",
    "def with_bonus(w_hours):\n",
    "    return wage(w_hours) + 50"
   ]
  },
  {
   "cell_type": "code",
   "execution_count": 50,
   "id": "81297399",
   "metadata": {},
   "outputs": [
    {
     "data": {
      "text/plain": [
       "(200, 250)"
      ]
     },
     "execution_count": 50,
     "metadata": {},
     "output_type": "execute_result"
    }
   ],
   "source": [
    "wage(8), with_bonus(8)"
   ]
  },
  {
   "cell_type": "code",
   "execution_count": 51,
   "id": "ccec106d",
   "metadata": {},
   "outputs": [
    {
     "data": {
      "text/plain": [
       "225"
      ]
     },
     "execution_count": 51,
     "metadata": {},
     "output_type": "execute_result"
    }
   ],
   "source": [
    "with_bonus(7)"
   ]
  },
  {
   "cell_type": "markdown",
   "id": "a2093fc9",
   "metadata": {},
   "source": [
    "# Use conditional statements and functions together"
   ]
  },
  {
   "cell_type": "code",
   "execution_count": 52,
   "id": "8e7d378c",
   "metadata": {},
   "outputs": [],
   "source": [
    "# Scenario: If Johnny has saved at least \n",
    "#           $100 by the end of the week\n",
    "#           Then, Johnny gets an extra $10\n",
    "#           If not, Johnny gets $0\n",
    "#Let m - the money Johnny saved by the end of the week\n",
    "# if m >= 100 then m + 10\n",
    "# if m < 100 then print \"Save more!\"\n",
    "# recall that the \"=\" means \"assign\" or \"bind to\"\n",
    "\n",
    "def add_10(m):\n",
    "    if m >= 100:\n",
    "        m = m + 10\n",
    "        return m\n",
    "    else:\n",
    "        return \"Save more!\"\n",
    "    "
   ]
  },
  {
   "cell_type": "code",
   "execution_count": 53,
   "id": "bff93aee",
   "metadata": {},
   "outputs": [
    {
     "data": {
      "text/plain": [
       "'Save more!'"
      ]
     },
     "execution_count": 53,
     "metadata": {},
     "output_type": "execute_result"
    }
   ],
   "source": [
    "add_10(99)"
   ]
  },
  {
   "cell_type": "code",
   "execution_count": 54,
   "id": "6debdfb6",
   "metadata": {},
   "outputs": [
    {
     "data": {
      "text/plain": [
       "130"
      ]
     },
     "execution_count": 54,
     "metadata": {},
     "output_type": "execute_result"
    }
   ],
   "source": [
    "add_10(120)"
   ]
  },
  {
   "cell_type": "markdown",
   "id": "1aeafd18",
   "metadata": {},
   "source": [
    "# How to create functions that contain a few arguments"
   ]
  },
  {
   "cell_type": "code",
   "execution_count": 55,
   "id": "c9f4e090",
   "metadata": {},
   "outputs": [],
   "source": [
    "def subtract_bc(a,b,c):\n",
    "    result = a - b*c\n",
    "    print ('Parameter a equals', a)\n",
    "    print ('Parameter b equals', b)\n",
    "    print ('Parameter c equals', c)\n",
    "    return result\n",
    "    "
   ]
  },
  {
   "cell_type": "code",
   "execution_count": 56,
   "id": "3df62669",
   "metadata": {},
   "outputs": [
    {
     "name": "stdout",
     "output_type": "stream",
     "text": [
      "Parameter a equals 10\n",
      "Parameter b equals 3\n",
      "Parameter c equals 2\n"
     ]
    },
    {
     "data": {
      "text/plain": [
       "4"
      ]
     },
     "execution_count": 56,
     "metadata": {},
     "output_type": "execute_result"
    }
   ],
   "source": [
    "subtract_bc(10,3,2)"
   ]
  },
  {
   "cell_type": "code",
   "execution_count": 57,
   "id": "73b7e58a",
   "metadata": {},
   "outputs": [
    {
     "name": "stdout",
     "output_type": "stream",
     "text": [
      "Parameter a equals 10\n",
      "Parameter b equals 3\n",
      "Parameter c equals 2\n"
     ]
    },
    {
     "data": {
      "text/plain": [
       "4"
      ]
     },
     "execution_count": 57,
     "metadata": {},
     "output_type": "execute_result"
    }
   ],
   "source": [
    "subtract_bc(c=2,b=3,a=10)"
   ]
  },
  {
   "cell_type": "markdown",
   "id": "5cb1908c",
   "metadata": {},
   "source": [
    "# Notable Built-In Fuctions in Python"
   ]
  },
  {
   "cell_type": "code",
   "execution_count": 58,
   "id": "2812d062",
   "metadata": {},
   "outputs": [
    {
     "data": {
      "text/plain": [
       "int"
      ]
     },
     "execution_count": 58,
     "metadata": {},
     "output_type": "execute_result"
    }
   ],
   "source": [
    "# Type () obtains the type of variable you use as an argument\n",
    "\n",
    "type(10)"
   ]
  },
  {
   "cell_type": "code",
   "execution_count": 59,
   "id": "75e156a9",
   "metadata": {},
   "outputs": [],
   "source": [
    "# int(), float(), str() \n",
    "# all transform their arguments in an \n",
    "# interger, float, and string data type, respectively"
   ]
  },
  {
   "cell_type": "code",
   "execution_count": 60,
   "id": "50179893",
   "metadata": {},
   "outputs": [
    {
     "data": {
      "text/plain": [
       "5"
      ]
     },
     "execution_count": 60,
     "metadata": {},
     "output_type": "execute_result"
    }
   ],
   "source": [
    "int(5.0)"
   ]
  },
  {
   "cell_type": "code",
   "execution_count": 61,
   "id": "9464f98c",
   "metadata": {},
   "outputs": [
    {
     "data": {
      "text/plain": [
       "3.0"
      ]
     },
     "execution_count": 61,
     "metadata": {},
     "output_type": "execute_result"
    }
   ],
   "source": [
    "float(3)"
   ]
  },
  {
   "cell_type": "code",
   "execution_count": 62,
   "id": "610f6f13",
   "metadata": {},
   "outputs": [
    {
     "data": {
      "text/plain": [
       "'500'"
      ]
     },
     "execution_count": 62,
     "metadata": {},
     "output_type": "execute_result"
    }
   ],
   "source": [
    "str(500)"
   ]
  },
  {
   "cell_type": "code",
   "execution_count": 63,
   "id": "565cc72f",
   "metadata": {},
   "outputs": [],
   "source": [
    "# max() returns the highest value from a \n",
    "# sequence of numbers"
   ]
  },
  {
   "cell_type": "code",
   "execution_count": 64,
   "id": "c75f84b0",
   "metadata": {},
   "outputs": [],
   "source": [
    "# min() returns the lowest value from a \n",
    "# sequence of numbers"
   ]
  },
  {
   "cell_type": "code",
   "execution_count": 65,
   "id": "d21c72ec",
   "metadata": {},
   "outputs": [
    {
     "data": {
      "text/plain": [
       "66"
      ]
     },
     "execution_count": 65,
     "metadata": {},
     "output_type": "execute_result"
    }
   ],
   "source": [
    "max(50,66,44)"
   ]
  },
  {
   "cell_type": "code",
   "execution_count": 66,
   "id": "b91ce9db",
   "metadata": {},
   "outputs": [
    {
     "data": {
      "text/plain": [
       "33"
      ]
     },
     "execution_count": 66,
     "metadata": {},
     "output_type": "execute_result"
    }
   ],
   "source": [
    "min(66,50,56,33)"
   ]
  },
  {
   "cell_type": "code",
   "execution_count": 67,
   "id": "68eab162",
   "metadata": {},
   "outputs": [
    {
     "data": {
      "text/plain": [
       "20"
      ]
     },
     "execution_count": 67,
     "metadata": {},
     "output_type": "execute_result"
    }
   ],
   "source": [
    "# abs() allows you to obtain the absolute\n",
    "#       value of its argument\n",
    "z = -20\n",
    "abs(z)"
   ]
  },
  {
   "cell_type": "code",
   "execution_count": 68,
   "id": "9afa0f28",
   "metadata": {},
   "outputs": [
    {
     "data": {
      "text/plain": [
       "10"
      ]
     },
     "execution_count": 68,
     "metadata": {},
     "output_type": "execute_result"
    }
   ],
   "source": [
    "# sum() calculates the sum of all the elements in a list\n",
    "# designated as an argument\n",
    "\n",
    "list_1 = [1,2,3,4]\n",
    "sum(list_1)"
   ]
  },
  {
   "cell_type": "code",
   "execution_count": 69,
   "id": "d75f97dc",
   "metadata": {},
   "outputs": [
    {
     "data": {
      "text/plain": [
       "3.56"
      ]
     },
     "execution_count": 69,
     "metadata": {},
     "output_type": "execute_result"
    }
   ],
   "source": [
    "# round(x,y) returns the float of its argument (x), rounded\n",
    "# to a sprcified number of digits (y) after the decimal point\n",
    "\n",
    "round(3.555,2)"
   ]
  },
  {
   "cell_type": "code",
   "execution_count": 70,
   "id": "dfe2bdec",
   "metadata": {},
   "outputs": [
    {
     "data": {
      "text/plain": [
       "3"
      ]
     },
     "execution_count": 70,
     "metadata": {},
     "output_type": "execute_result"
    }
   ],
   "source": [
    "round(3.2)"
   ]
  },
  {
   "cell_type": "code",
   "execution_count": 71,
   "id": "846cd57e",
   "metadata": {},
   "outputs": [
    {
     "data": {
      "text/plain": [
       "1024"
      ]
     },
     "execution_count": 71,
     "metadata": {},
     "output_type": "execute_result"
    }
   ],
   "source": [
    "2 ** 10"
   ]
  },
  {
   "cell_type": "code",
   "execution_count": 72,
   "id": "6d24fbfd",
   "metadata": {},
   "outputs": [
    {
     "data": {
      "text/plain": [
       "1024"
      ]
     },
     "execution_count": 72,
     "metadata": {},
     "output_type": "execute_result"
    }
   ],
   "source": [
    "# pow (x,Y) returns x to the power y\n",
    "pow (2,10)"
   ]
  },
  {
   "cell_type": "code",
   "execution_count": 73,
   "id": "19b37c76",
   "metadata": {},
   "outputs": [
    {
     "data": {
      "text/plain": [
       "11"
      ]
     },
     "execution_count": 73,
     "metadata": {},
     "output_type": "execute_result"
    }
   ],
   "source": [
    "# len() returns the number of elements in an object\n",
    "len('Mathematics')"
   ]
  },
  {
   "cell_type": "markdown",
   "id": "00450727",
   "metadata": {},
   "source": [
    "# Intoduction to lists"
   ]
  },
  {
   "cell_type": "code",
   "execution_count": 75,
   "id": "99892d31",
   "metadata": {},
   "outputs": [
    {
     "data": {
      "text/plain": [
       "['John', 'Leila', 'Gregory', 'Cate']"
      ]
     },
     "execution_count": 75,
     "metadata": {},
     "output_type": "execute_result"
    }
   ],
   "source": [
    "# a list is a type of sequence of data points\n",
    "participants = ['John', 'Leila', 'Gregory', 'Cate']\n",
    "participants\n"
   ]
  },
  {
   "cell_type": "code",
   "execution_count": 77,
   "id": "1abdb51e",
   "metadata": {},
   "outputs": [
    {
     "name": "stdout",
     "output_type": "stream",
     "text": [
      "John\n"
     ]
    }
   ],
   "source": [
    "#Access the list by indexing the value 0 = extra the\n",
    "#first of the elements in this list varible\n",
    "print (participants[0])"
   ]
  },
  {
   "cell_type": "code",
   "execution_count": 78,
   "id": "bc091338",
   "metadata": {},
   "outputs": [
    {
     "data": {
      "text/plain": [
       "'John'"
      ]
     },
     "execution_count": 78,
     "metadata": {},
     "output_type": "execute_result"
    }
   ],
   "source": [
    "participants[0]"
   ]
  },
  {
   "cell_type": "code",
   "execution_count": 80,
   "id": "6951c1c9",
   "metadata": {},
   "outputs": [
    {
     "data": {
      "text/plain": [
       "'Gregory'"
      ]
     },
     "execution_count": 80,
     "metadata": {},
     "output_type": "execute_result"
    }
   ],
   "source": [
    "participants[-2]"
   ]
  },
  {
   "cell_type": "code",
   "execution_count": 81,
   "id": "70d5f150",
   "metadata": {},
   "outputs": [
    {
     "data": {
      "text/plain": [
       "['John', 'Leila', 'Gregory', 'Maria']"
      ]
     },
     "execution_count": 81,
     "metadata": {},
     "output_type": "execute_result"
    }
   ],
   "source": [
    "participants[3] = 'Maria'\n",
    "participants"
   ]
  },
  {
   "cell_type": "code",
   "execution_count": 82,
   "id": "829ac03b",
   "metadata": {},
   "outputs": [],
   "source": [
    "# del removes an item from a list\n",
    "del participants[2]"
   ]
  },
  {
   "cell_type": "code",
   "execution_count": 84,
   "id": "c7c0c49f",
   "metadata": {},
   "outputs": [
    {
     "data": {
      "text/plain": [
       "['John', 'Leila', 'Maria']"
      ]
     },
     "execution_count": 84,
     "metadata": {},
     "output_type": "execute_result"
    }
   ],
   "source": [
    "participants"
   ]
  },
  {
   "cell_type": "markdown",
   "id": "37e2e7e1",
   "metadata": {},
   "source": [
    "# Using Methods in Python"
   ]
  },
  {
   "cell_type": "code",
   "execution_count": 85,
   "id": "dd476fd5",
   "metadata": {},
   "outputs": [],
   "source": [
    "# the .append() method is used to add to a list\n",
    "# methods are ready made\n",
    "#object.method()\n",
    "#the dot operator calls on or incokes a certain method\n",
    "participants.append(\"Dwayne\")\n",
    "#the method .extend() also works\n",
    "#object.extend()"
   ]
  },
  {
   "cell_type": "code",
   "execution_count": 88,
   "id": "d9b9d14b",
   "metadata": {},
   "outputs": [
    {
     "data": {
      "text/plain": [
       "['John', 'Leila', 'Maria', 'Dwayne']"
      ]
     },
     "execution_count": 88,
     "metadata": {},
     "output_type": "execute_result"
    }
   ],
   "source": [
    "participants\n"
   ]
  },
  {
   "cell_type": "code",
   "execution_count": 89,
   "id": "71f90f9d",
   "metadata": {},
   "outputs": [
    {
     "data": {
      "text/plain": [
       "['John', 'Leila', 'Maria', 'Dwayne', 'dwayne']"
      ]
     },
     "execution_count": 89,
     "metadata": {},
     "output_type": "execute_result"
    }
   ],
   "source": [
    "participants.append('dwayne')\n",
    "participants"
   ]
  },
  {
   "cell_type": "code",
   "execution_count": 90,
   "id": "fd888e7f",
   "metadata": {},
   "outputs": [
    {
     "data": {
      "text/plain": [
       "['John', 'Leila', 'Maria', 'Dwayne', 'dwayne', 'George', 'Catherine']"
      ]
     },
     "execution_count": 90,
     "metadata": {},
     "output_type": "execute_result"
    }
   ],
   "source": [
    "participants.extend(['George','Catherine'])\n",
    "participants"
   ]
  },
  {
   "cell_type": "code",
   "execution_count": 91,
   "id": "d85cfc69",
   "metadata": {},
   "outputs": [
    {
     "data": {
      "text/plain": [
       "['John', 'Leila', 'Maria', 'Dwayne', 'George', 'Catherine']"
      ]
     },
     "execution_count": 91,
     "metadata": {},
     "output_type": "execute_result"
    }
   ],
   "source": [
    "del participants[4]\n",
    "participants"
   ]
  },
  {
   "cell_type": "code",
   "execution_count": 93,
   "id": "890dc938",
   "metadata": {},
   "outputs": [
    {
     "name": "stdout",
     "output_type": "stream",
     "text": [
      "The last participant is Catherine.\n"
     ]
    }
   ],
   "source": [
    "print('The last participant is ' + participants[-1] + '.')\n"
   ]
  },
  {
   "cell_type": "code",
   "execution_count": 94,
   "id": "87fbecaa",
   "metadata": {},
   "outputs": [
    {
     "data": {
      "text/plain": [
       "7"
      ]
     },
     "execution_count": 94,
     "metadata": {},
     "output_type": "execute_result"
    }
   ],
   "source": [
    "# len() returns the number of elements in an onject\n",
    "len('dolphin')"
   ]
  },
  {
   "cell_type": "code",
   "execution_count": 95,
   "id": "9ade822a",
   "metadata": {},
   "outputs": [
    {
     "data": {
      "text/plain": [
       "6"
      ]
     },
     "execution_count": 95,
     "metadata": {},
     "output_type": "execute_result"
    }
   ],
   "source": [
    "len(participants)"
   ]
  },
  {
   "cell_type": "code",
   "execution_count": null,
   "id": "f59fdeb6",
   "metadata": {},
   "outputs": [],
   "source": [
    "# note that we have used participants as an\n",
    "# object and argument\n",
    "# object - participant.append()\n",
    "# argument - len(participate)"
   ]
  },
  {
   "cell_type": "markdown",
   "id": "5c18a486",
   "metadata": {},
   "source": [
    "# What is List Slicing\n"
   ]
  },
  {
   "cell_type": "code",
   "execution_count": 98,
   "id": "93c5d8ae",
   "metadata": {},
   "outputs": [
    {
     "data": {
      "text/plain": [
       "['John', 'Leila', 'Maria', 'Dwayne', 'George', 'Catherine']"
      ]
     },
     "execution_count": 98,
     "metadata": {},
     "output_type": "execute_result"
    }
   ],
   "source": [
    "participants"
   ]
  },
  {
   "cell_type": "code",
   "execution_count": 99,
   "id": "6cf4a13b",
   "metadata": {},
   "outputs": [
    {
     "data": {
      "text/plain": [
       "['Leila', 'Maria']"
      ]
     },
     "execution_count": 99,
     "metadata": {},
     "output_type": "execute_result"
    }
   ],
   "source": [
    "\n",
    "participants[1:3]"
   ]
  },
  {
   "cell_type": "code",
   "execution_count": 101,
   "id": "9d05e43e",
   "metadata": {},
   "outputs": [
    {
     "data": {
      "text/plain": [
       "['John', 'Leila']"
      ]
     },
     "execution_count": 101,
     "metadata": {},
     "output_type": "execute_result"
    }
   ],
   "source": [
    "participants[:2]"
   ]
  },
  {
   "cell_type": "code",
   "execution_count": 103,
   "id": "a5607e47",
   "metadata": {},
   "outputs": [
    {
     "data": {
      "text/plain": [
       "['George', 'Catherine']"
      ]
     },
     "execution_count": 103,
     "metadata": {},
     "output_type": "execute_result"
    }
   ],
   "source": [
    "participants[4:]"
   ]
  },
  {
   "cell_type": "code",
   "execution_count": 104,
   "id": "0e45e22d",
   "metadata": {},
   "outputs": [
    {
     "data": {
      "text/plain": [
       "['George', 'Catherine']"
      ]
     },
     "execution_count": 104,
     "metadata": {},
     "output_type": "execute_result"
    }
   ],
   "source": [
    "participants[-2:]"
   ]
  },
  {
   "cell_type": "code",
   "execution_count": 105,
   "id": "9d4a7175",
   "metadata": {},
   "outputs": [
    {
     "data": {
      "text/plain": [
       "2"
      ]
     },
     "execution_count": 105,
     "metadata": {},
     "output_type": "execute_result"
    }
   ],
   "source": [
    "# object.index(argument) tells you the position of the element argument\n",
    "#.index is a method\n",
    "participants.index('Maria')"
   ]
  },
  {
   "cell_type": "code",
   "execution_count": 106,
   "id": "a2bba371",
   "metadata": {},
   "outputs": [
    {
     "data": {
      "text/plain": [
       "['Joshua', 'Brittany']"
      ]
     },
     "execution_count": 106,
     "metadata": {},
     "output_type": "execute_result"
    }
   ],
   "source": [
    "Newcomers = ['Joshua','Brittany']\n",
    "Newcomers"
   ]
  },
  {
   "cell_type": "code",
   "execution_count": 108,
   "id": "f7880534",
   "metadata": {},
   "outputs": [
    {
     "data": {
      "text/plain": [
       "[['John', 'Leila', 'Maria', 'Dwayne', 'George', 'Catherine'],\n",
       " ['Joshua', 'Brittany']]"
      ]
     },
     "execution_count": 108,
     "metadata": {},
     "output_type": "execute_result"
    }
   ],
   "source": [
    "Bigger_List = [participants, Newcomers]\n",
    "Bigger_List"
   ]
  },
  {
   "cell_type": "code",
   "execution_count": 109,
   "id": "c8f66581",
   "metadata": {},
   "outputs": [
    {
     "data": {
      "text/plain": [
       "2"
      ]
     },
     "execution_count": 109,
     "metadata": {},
     "output_type": "execute_result"
    }
   ],
   "source": [
    "len(Bigger_List)"
   ]
  },
  {
   "cell_type": "code",
   "execution_count": 112,
   "id": "fb018881",
   "metadata": {},
   "outputs": [
    {
     "data": {
      "text/plain": [
       "['Joshua', 'Brittany']"
      ]
     },
     "execution_count": 112,
     "metadata": {},
     "output_type": "execute_result"
    }
   ],
   "source": [
    "Bigger_List[1]"
   ]
  },
  {
   "cell_type": "code",
   "execution_count": 113,
   "id": "32f6fff2",
   "metadata": {},
   "outputs": [
    {
     "data": {
      "text/plain": [
       "['John',\n",
       " 'Leila',\n",
       " 'Maria',\n",
       " 'Dwayne',\n",
       " 'George',\n",
       " 'Catherine',\n",
       " ['Joshua', 'Brittany']]"
      ]
     },
     "execution_count": 113,
     "metadata": {},
     "output_type": "execute_result"
    }
   ],
   "source": [
    "participants.append(Newcomers)\n",
    "participants"
   ]
  },
  {
   "cell_type": "code",
   "execution_count": 114,
   "id": "9dbb4104",
   "metadata": {},
   "outputs": [
    {
     "data": {
      "text/plain": [
       "7"
      ]
     },
     "execution_count": 114,
     "metadata": {},
     "output_type": "execute_result"
    }
   ],
   "source": [
    "len(participants)"
   ]
  },
  {
   "cell_type": "code",
   "execution_count": 117,
   "id": "6d44c69b",
   "metadata": {},
   "outputs": [
    {
     "data": {
      "text/plain": [
       "['Catherine', 'Dwayne', 'George', 'John', 'Leila', 'Maria']"
      ]
     },
     "execution_count": 117,
     "metadata": {},
     "output_type": "execute_result"
    }
   ],
   "source": [
    "del participants[-1]\n",
    "participants"
   ]
  },
  {
   "cell_type": "code",
   "execution_count": 118,
   "id": "f7ffc560",
   "metadata": {},
   "outputs": [
    {
     "data": {
      "text/plain": [
       "['Catherine', 'Dwayne', 'George', 'John', 'Leila', 'Maria']"
      ]
     },
     "execution_count": 118,
     "metadata": {},
     "output_type": "execute_result"
    }
   ],
   "source": [
    "participants.sort()\n",
    "participants"
   ]
  },
  {
   "cell_type": "code",
   "execution_count": 123,
   "id": "4cb570d3",
   "metadata": {},
   "outputs": [
    {
     "data": {
      "text/plain": [
       "['Maria', 'Leila', 'John', 'George', 'Dwayne', 'Catherine']"
      ]
     },
     "execution_count": 123,
     "metadata": {},
     "output_type": "execute_result"
    }
   ],
   "source": [
    "participants.sort(reverse=True)\n",
    "participants"
   ]
  },
  {
   "cell_type": "code",
   "execution_count": 120,
   "id": "c986db0f",
   "metadata": {},
   "outputs": [
    {
     "data": {
      "text/plain": [
       "[1, 2, 3, 4, 5]"
      ]
     },
     "execution_count": 120,
     "metadata": {},
     "output_type": "execute_result"
    }
   ],
   "source": [
    "#object.sorts() sorts objects of list\n",
    "Numbers = [1,2,3,4,5]\n",
    "Numbers.sort()\n",
    "Numbers"
   ]
  },
  {
   "cell_type": "code",
   "execution_count": 121,
   "id": "0959279a",
   "metadata": {},
   "outputs": [
    {
     "data": {
      "text/plain": [
       "[5, 4, 3, 2, 1]"
      ]
     },
     "execution_count": 121,
     "metadata": {},
     "output_type": "execute_result"
    }
   ],
   "source": [
    "Numbers.sort(reverse=True)\n",
    "Numbers"
   ]
  },
  {
   "cell_type": "markdown",
   "id": "2b00d620",
   "metadata": {},
   "source": [
    "# Tuples"
   ]
  },
  {
   "cell_type": "code",
   "execution_count": 124,
   "id": "a78044a7",
   "metadata": {},
   "outputs": [
    {
     "data": {
      "text/plain": [
       "(40, 41, 42)"
      ]
     },
     "execution_count": 124,
     "metadata": {},
     "output_type": "execute_result"
    }
   ],
   "source": [
    "#Tuples are a type of data sequences\n",
    "#Tuples are immutable; they can't be changed or modified\n",
    "#The Tuples syntax: Tuple's elements are placed\n",
    "#within parentheses\n",
    "x = (40, 41, 42)\n",
    "x\n"
   ]
  },
  {
   "cell_type": "code",
   "execution_count": 125,
   "id": "d04a3820",
   "metadata": {},
   "outputs": [
    {
     "data": {
      "text/plain": [
       "(50, 51, 52)"
      ]
     },
     "execution_count": 125,
     "metadata": {},
     "output_type": "execute_result"
    }
   ],
   "source": [
    "#the tuple is the default sequence in Python\n",
    "y = 50,51,52\n",
    "y\n",
    "\n",
    "#So, the three values were packed into a tupel"
   ]
  },
  {
   "cell_type": "code",
   "execution_count": 126,
   "id": "ab5c1ad5",
   "metadata": {},
   "outputs": [],
   "source": [
    "a, b, c = 1, 4, 6\n",
    "#Tuple assingment"
   ]
  },
  {
   "cell_type": "code",
   "execution_count": 127,
   "id": "313709e2",
   "metadata": {},
   "outputs": [
    {
     "data": {
      "text/plain": [
       "6"
      ]
     },
     "execution_count": 127,
     "metadata": {},
     "output_type": "execute_result"
    }
   ],
   "source": [
    "c\n"
   ]
  },
  {
   "cell_type": "code",
   "execution_count": 128,
   "id": "6d2b3c89",
   "metadata": {},
   "outputs": [
    {
     "data": {
      "text/plain": [
       "40"
      ]
     },
     "execution_count": 128,
     "metadata": {},
     "output_type": "execute_result"
    }
   ],
   "source": [
    "x[0]"
   ]
  },
  {
   "cell_type": "code",
   "execution_count": 130,
   "id": "87ee0447",
   "metadata": {},
   "outputs": [
    {
     "data": {
      "text/plain": [
       "[(40, 41, 42), (50, 51, 52)]"
      ]
     },
     "execution_count": 130,
     "metadata": {},
     "output_type": "execute_result"
    }
   ],
   "source": [
    "list_1 = [x,y]\n",
    "list_1"
   ]
  },
  {
   "cell_type": "code",
   "execution_count": 132,
   "id": "525898fb",
   "metadata": {},
   "outputs": [
    {
     "name": "stdout",
     "output_type": "stream",
     "text": [
      "30\n"
     ]
    }
   ],
   "source": [
    "#Differences between tuples and lists\n",
    "(age, years_of_school) = \"30,17\".split(',')\n",
    "print(age)"
   ]
  },
  {
   "cell_type": "code",
   "execution_count": 133,
   "id": "195dbbca",
   "metadata": {},
   "outputs": [
    {
     "name": "stdout",
     "output_type": "stream",
     "text": [
      "17\n"
     ]
    }
   ],
   "source": [
    "print(years_of_school)"
   ]
  },
  {
   "cell_type": "code",
   "execution_count": 134,
   "id": "f70ba7a4",
   "metadata": {},
   "outputs": [
    {
     "name": "stdout",
     "output_type": "stream",
     "text": [
      "Area and Perimeter:\n"
     ]
    },
    {
     "data": {
      "text/plain": [
       "(9, 12)"
      ]
     },
     "execution_count": 134,
     "metadata": {},
     "output_type": "execute_result"
    }
   ],
   "source": [
    "#Functions can provide tuples as return values\n",
    "\n",
    "def square_info(x):\n",
    "    A = x ** 2\n",
    "    P = 4 * x\n",
    "    print (\"Area and Perimeter:\")\n",
    "    return A,P\n",
    "square_info(3)"
   ]
  },
  {
   "cell_type": "markdown",
   "id": "d9632496",
   "metadata": {},
   "source": [
    "# Dictionaries"
   ]
  },
  {
   "cell_type": "code",
   "execution_count": 1,
   "id": "59a1d275",
   "metadata": {},
   "outputs": [
    {
     "data": {
      "text/plain": [
       "{'k1': 'cat', 'k2': 'dog', 'k3': 'mouse', 'k4': 'fish'}"
      ]
     },
     "execution_count": 1,
     "metadata": {},
     "output_type": "execute_result"
    }
   ],
   "source": [
    "#Dictionaries represent another way of storing data\n",
    "#Dictionaries establish a key-value pair\n",
    "#Dictionaries use curly braces\n",
    "dict = {'k1' : \"cat\", 'k2':\"dog\", 'k3':\"mouse\", 'k4':\"fish\"}\n",
    "dict"
   ]
  },
  {
   "cell_type": "code",
   "execution_count": 2,
   "id": "fb001dd6",
   "metadata": {},
   "outputs": [
    {
     "data": {
      "text/plain": [
       "'cat'"
      ]
     },
     "execution_count": 2,
     "metadata": {},
     "output_type": "execute_result"
    }
   ],
   "source": [
    "dict['k1']\n"
   ]
  },
  {
   "cell_type": "code",
   "execution_count": 3,
   "id": "3cea544a",
   "metadata": {},
   "outputs": [
    {
     "data": {
      "text/plain": [
       "'mouse'"
      ]
     },
     "execution_count": 3,
     "metadata": {},
     "output_type": "execute_result"
    }
   ],
   "source": [
    "dict['k3']"
   ]
  },
  {
   "cell_type": "code",
   "execution_count": 7,
   "id": "9ab52cc1",
   "metadata": {},
   "outputs": [
    {
     "data": {
      "text/plain": [
       "{'k1': 'cat',\n",
       " 'k2': 'dog',\n",
       " 'k3': 'mouse',\n",
       " 'k4': 'fish',\n",
       " 'ke': 'parrot',\n",
       " 'k5': 'parrot'}"
      ]
     },
     "execution_count": 7,
     "metadata": {},
     "output_type": "execute_result"
    }
   ],
   "source": [
    "#I can add a new entry to the dictionary using\n",
    "#dictionary_name[new_key_name] = new_value_name\n",
    "\n",
    "dict['k5'] = 'parrot'\n",
    "dict"
   ]
  },
  {
   "cell_type": "code",
   "execution_count": 8,
   "id": "b003475e",
   "metadata": {},
   "outputs": [
    {
     "data": {
      "text/plain": [
       "{'k1': 'cat',\n",
       " 'k2': 'Jordi',\n",
       " 'k3': 'mouse',\n",
       " 'k4': 'fish',\n",
       " 'ke': 'parrot',\n",
       " 'k5': 'parrot'}"
      ]
     },
     "execution_count": 8,
     "metadata": {},
     "output_type": "execute_result"
    }
   ],
   "source": [
    "#replacing a value uses the same \n",
    "dict['k2'] = 'Jordi'\n",
    "dict"
   ]
  },
  {
   "cell_type": "code",
   "execution_count": 10,
   "id": "020e721e",
   "metadata": {},
   "outputs": [
    {
     "data": {
      "text/plain": [
       "{'dep_1': 'Peter', 'dep_2': ['Jennifer', 'Michael', 'Tommy']}"
      ]
     },
     "execution_count": 10,
     "metadata": {},
     "output_type": "execute_result"
    }
   ],
   "source": [
    "dep_workers = {'dep_1':'Peter','dep_2':['Jennifer','Michael','Tommy']}\n",
    "dep_workers"
   ]
  },
  {
   "cell_type": "code",
   "execution_count": 12,
   "id": "993ff091",
   "metadata": {},
   "outputs": [
    {
     "data": {
      "text/plain": [
       "['Jennifer', 'Michael', 'Tommy']"
      ]
     },
     "execution_count": 12,
     "metadata": {},
     "output_type": "execute_result"
    }
   ],
   "source": [
    "dep_workers['dep_2']"
   ]
  },
  {
   "cell_type": "code",
   "execution_count": 13,
   "id": "a4418dd1",
   "metadata": {},
   "outputs": [],
   "source": [
    "Team = {}\n",
    "Team['Point Guard'] = 'Dirk'\n",
    "Team['Shooting Guard'] = 'Al'\n",
    "Team['Small Forward'] = 'Sean'\n",
    "Team['Power Forward'] = 'Alexander'\n",
    "Team['Center'] = 'Hector'"
   ]
  },
  {
   "cell_type": "code",
   "execution_count": 14,
   "id": "b92e3294",
   "metadata": {},
   "outputs": [
    {
     "name": "stdout",
     "output_type": "stream",
     "text": [
      "{'Point Guard': 'Dirk', 'Shooting Guard': 'Al', 'Small Forward': 'Sean', 'Power Forward': 'Alexander', 'Center': 'Hector'}\n"
     ]
    }
   ],
   "source": [
    "print(Team)"
   ]
  },
  {
   "cell_type": "code",
   "execution_count": 16,
   "id": "eda4b6ed",
   "metadata": {},
   "outputs": [
    {
     "name": "stdout",
     "output_type": "stream",
     "text": [
      "Hector\n"
     ]
    }
   ],
   "source": [
    "print (Team['Center'])"
   ]
  },
  {
   "cell_type": "code",
   "execution_count": 17,
   "id": "4e93723c",
   "metadata": {},
   "outputs": [
    {
     "name": "stdout",
     "output_type": "stream",
     "text": [
      "Sean\n"
     ]
    }
   ],
   "source": [
    "print (Team.get('Small Forward'))"
   ]
  },
  {
   "cell_type": "code",
   "execution_count": 18,
   "id": "7f49c499",
   "metadata": {},
   "outputs": [
    {
     "name": "stdout",
     "output_type": "stream",
     "text": [
      "None\n"
     ]
    }
   ],
   "source": [
    "print (Team.get('Coach'))"
   ]
  },
  {
   "cell_type": "code",
   "execution_count": null,
   "id": "f203b04a",
   "metadata": {},
   "outputs": [],
   "source": [
    "# Instances when to uses dictionaries?\n",
    "# when calling for a companies stck value\n",
    "# {\"Morgan Stanley\":45.56,\"Goldman Sachs\":247.65,\"HSBC\":646.35}\n"
   ]
  },
  {
   "cell_type": "markdown",
   "id": "8f556cbf",
   "metadata": {},
   "source": [
    "# For loops"
   ]
  },
  {
   "cell_type": "code",
   "execution_count": 19,
   "id": "0b81491b",
   "metadata": {},
   "outputs": [],
   "source": [
    "#Iteration is the ability to execute a certain code repeatedly\n",
    "\n",
    "even = [0,2,4,6,8,10,12,14,16,18,20]"
   ]
  },
  {
   "cell_type": "code",
   "execution_count": 22,
   "id": "301138b4",
   "metadata": {},
   "outputs": [
    {
     "name": "stdout",
     "output_type": "stream",
     "text": [
      "0\n",
      "2\n",
      "4\n",
      "6\n",
      "8\n",
      "10\n",
      "12\n",
      "14\n",
      "16\n",
      "18\n",
      "20\n"
     ]
    }
   ],
   "source": [
    "#for every element n in the list even:\n",
    "#In this example the n - is the loop variable\n",
    "#and not required to have called it n\n",
    "#for n in even:\n",
    "#    body of the loop\n",
    "\n",
    "for n in even:\n",
    "    print((n))\n",
    "    "
   ]
  },
  {
   "cell_type": "code",
   "execution_count": 23,
   "id": "be4a7d45",
   "metadata": {},
   "outputs": [
    {
     "name": "stdout",
     "output_type": "stream",
     "text": [
      "0 2 4 6 8 10 12 14 16 18 20 "
     ]
    }
   ],
   "source": [
    "#Print as a row\n",
    "for n in even:\n",
    "    print(n, end = \" \")\n",
    "    "
   ]
  },
  {
   "cell_type": "markdown",
   "id": "e9223c43",
   "metadata": {},
   "source": [
    "# While Loops and Incrementing"
   ]
  },
  {
   "cell_type": "code",
   "execution_count": 27,
   "id": "99b980dc",
   "metadata": {},
   "outputs": [
    {
     "name": "stdout",
     "output_type": "stream",
     "text": [
      "0 2 4 6 8 10 12 14 16 18 20 "
     ]
    }
   ],
   "source": [
    "#When x is reassigned in a while loop it's called incrementing\n",
    "x = 0\n",
    "while x <= 20\n",
    "    print (x, end=\" \")\n",
    "    x = x + 2\n",
    "#The increment is 2"
   ]
  },
  {
   "cell_type": "code",
   "execution_count": 28,
   "id": "c704b34e",
   "metadata": {},
   "outputs": [
    {
     "name": "stdout",
     "output_type": "stream",
     "text": [
      "0 2 4 6 8 10 12 14 16 18 20 "
     ]
    }
   ],
   "source": [
    "#When incrementing I can use the following synthax\n",
    "x = 0\n",
    "while x <= 20:\n",
    "    print (x, end=\" \")\n",
    "    x += 2\n",
    "#The increment is 2"
   ]
  },
  {
   "cell_type": "markdown",
   "id": "2c51553e",
   "metadata": {},
   "source": [
    "# Use the range() Function to create list"
   ]
  },
  {
   "cell_type": "code",
   "execution_count": 30,
   "id": "18ce7f28",
   "metadata": {},
   "outputs": [
    {
     "data": {
      "text/plain": [
       "range(0, 10)"
      ]
     },
     "execution_count": 30,
     "metadata": {},
     "output_type": "execute_result"
    }
   ],
   "source": [
    "#Later in the course we will use the built in range func\n",
    "#range(start, stop, step) creates a sequence of intergers\n",
    "#start = the first number in the list(not necessary to define)\n",
    "#stop = the last value +1 (Must be defined)\n",
    "#step = the distance between each two consecutive values (not necessay to def)\n",
    "#when the start and step value are not define\n",
    "#the default value for start is 0 and step is 1\n",
    "range(10)\n",
    "# the output is range(0,10) and this is an range object"
   ]
  },
  {
   "cell_type": "code",
   "execution_count": 31,
   "id": "7a52794a",
   "metadata": {},
   "outputs": [
    {
     "data": {
      "text/plain": [
       "[0, 1, 2, 3, 4, 5, 6, 7, 8, 9]"
      ]
     },
     "execution_count": 31,
     "metadata": {},
     "output_type": "execute_result"
    }
   ],
   "source": [
    "list(range(10))\n",
    "# use the list(range(start,stop,step)) to display\n",
    "# the sequence as a list"
   ]
  },
  {
   "cell_type": "code",
   "execution_count": 33,
   "id": "c2d23553",
   "metadata": {},
   "outputs": [
    {
     "data": {
      "text/plain": [
       "[3, 4, 5, 6]"
      ]
     },
     "execution_count": 33,
     "metadata": {},
     "output_type": "execute_result"
    }
   ],
   "source": [
    "range(3,7)\n",
    "list(range(3,7))"
   ]
  },
  {
   "cell_type": "code",
   "execution_count": 35,
   "id": "5032d0df",
   "metadata": {},
   "outputs": [
    {
     "data": {
      "text/plain": [
       "range(1, 20, 2)"
      ]
     },
     "execution_count": 35,
     "metadata": {},
     "output_type": "execute_result"
    }
   ],
   "source": [
    "range(1,20,2)"
   ]
  },
  {
   "cell_type": "code",
   "execution_count": 36,
   "id": "15d87330",
   "metadata": {},
   "outputs": [
    {
     "data": {
      "text/plain": [
       "[1, 3, 5, 7, 9, 11, 13, 15, 17, 19]"
      ]
     },
     "execution_count": 36,
     "metadata": {},
     "output_type": "execute_result"
    }
   ],
   "source": [
    "list(range(1,20,2))"
   ]
  },
  {
   "cell_type": "markdown",
   "id": "522f92e8",
   "metadata": {},
   "source": [
    "# Combine conditional statements and loops"
   ]
  },
  {
   "cell_type": "code",
   "execution_count": 37,
   "id": "b85cb8f8",
   "metadata": {},
   "outputs": [
    {
     "name": "stdout",
     "output_type": "stream",
     "text": [
      "1 2 4 8 16 32 64 128 256 512 "
     ]
    }
   ],
   "source": [
    "for n in range(10):\n",
    "    print (2 ** n, end = \" \")"
   ]
  },
  {
   "cell_type": "code",
   "execution_count": 40,
   "id": "98b2eda7",
   "metadata": {},
   "outputs": [
    {
     "name": "stdout",
     "output_type": "stream",
     "text": [
      "0 Odd 2 Odd 4 Odd 6 Odd 8 Odd 10 Odd 12 Odd 14 Odd 16 Odd 18 Odd "
     ]
    }
   ],
   "source": [
    "for x in range(20):\n",
    "    if x % 2 == 0:\n",
    "        print (x, end = \" \")\n",
    "    else:\n",
    "        print (\"Odd\", end = \" \")"
   ]
  },
  {
   "cell_type": "code",
   "execution_count": 41,
   "id": "a8cd4b7e",
   "metadata": {},
   "outputs": [],
   "source": [
    "x = [0, 1, 2]"
   ]
  },
  {
   "cell_type": "code",
   "execution_count": 42,
   "id": "b85dcbbf",
   "metadata": {},
   "outputs": [
    {
     "name": "stdout",
     "output_type": "stream",
     "text": [
      "0 1 2 "
     ]
    }
   ],
   "source": [
    "for item in x:\n",
    "    print (item, end = \" \")"
   ]
  },
  {
   "cell_type": "code",
   "execution_count": 43,
   "id": "074924bd",
   "metadata": {},
   "outputs": [
    {
     "name": "stdout",
     "output_type": "stream",
     "text": [
      "0 1 2 "
     ]
    }
   ],
   "source": [
    "for item in range(len(x)):\n",
    "    print (x[item],end = \" \")"
   ]
  },
  {
   "cell_type": "markdown",
   "id": "14f538f4",
   "metadata": {},
   "source": [
    "# All in"
   ]
  },
  {
   "cell_type": "code",
   "execution_count": 1,
   "id": "cb74bd87",
   "metadata": {},
   "outputs": [],
   "source": [
    "# In this lesson I will learn how to count elements in a list\n",
    "# complying to a condition\n",
    "#Total is a rolling sum as it will change when the loop is initiated\n",
    "#recall that numbers is simply an input and can be called anything\n",
    "\n",
    "\n",
    "def count(numbers):\n",
    "    total = 0\n",
    "    for x in numbers:\n",
    "        if x < 20:\n",
    "            total += 1\n",
    "    return total"
   ]
  },
  {
   "cell_type": "code",
   "execution_count": 2,
   "id": "137ccfa9",
   "metadata": {},
   "outputs": [],
   "source": [
    "list_x=[4,6,8,10,36,38,17]"
   ]
  },
  {
   "cell_type": "code",
   "execution_count": 3,
   "id": "c7fe6507",
   "metadata": {},
   "outputs": [
    {
     "data": {
      "text/plain": [
       "5"
      ]
     },
     "execution_count": 3,
     "metadata": {},
     "output_type": "execute_result"
    }
   ],
   "source": [
    "count(list_x)"
   ]
  },
  {
   "cell_type": "markdown",
   "id": "a9dafa66",
   "metadata": {},
   "source": [
    "# Iterating over Dictionaries"
   ]
  },
  {
   "cell_type": "code",
   "execution_count": 6,
   "id": "fa411d8a",
   "metadata": {},
   "outputs": [
    {
     "name": "stdout",
     "output_type": "stream",
     "text": [
      "74\n"
     ]
    }
   ],
   "source": [
    "prices = {\n",
    "    \"box_of_spaghetti\" : 4,\n",
    "    \"lasagna\" : 5,\n",
    "    \"hamburger\" : 2\n",
    "}\n",
    "quantity = {\n",
    "    \"box_of_spaghetti\" : 6,\n",
    "    \"lasagna\" : 10,\n",
    "    \"hamburger\": 0\n",
    "}\n",
    "\n",
    "money_spent = 0\n",
    "\n",
    "for i in prices:\n",
    "    money_spent = money_spent + (prices[i] * quantity[i])\n",
    "print (money_spent)\n",
    "\n",
    "# this math problem connects knowledge of\n",
    "# dictionaries, iterations, and rolling sum"
   ]
  },
  {
   "cell_type": "markdown",
   "id": "99bb3870",
   "metadata": {},
   "source": [
    "# Object-Oriented Programming"
   ]
  },
  {
   "cell_type": "code",
   "execution_count": null,
   "id": "87e34cb2",
   "metadata": {},
   "outputs": [],
   "source": [
    "#Every item in Python are objects. \n",
    "#i.e. Floats, Strings, Intergers, Lists, ...\n",
    "# You can also call these objects \"Logical Objects\"\n",
    "# Objects contain data and operatios allowing for manipulation\n",
    "# Object = Data + Manipulation Operation\n",
    "# Class - defines the rule for creating that object\n",
    "# Object - See definition above\n",
    "# Attributes - refer to the state of the object (in the bike example color, size, type)\n",
    "# Metod - consequential logic sequence that can be applied to \n",
    "# the object and it can be an operation like .turn_left(),.accelerate()\n",
    "#recall that the focus is on the object and not the operation\n",
    "# object and instance are interchangeable\n",
    "# Attributes and Properties are interchangeable"
   ]
  },
  {
   "cell_type": "code",
   "execution_count": null,
   "id": "94cae681",
   "metadata": {},
   "outputs": [],
   "source": [
    "#Example\n",
    "# Object(Instance): Class \"List\" [ 15.9, 12.4, 64.0]\n",
    "# Attributes(Properties):Type of data? Floats\n",
    "# Method: I can .extend, .index()"
   ]
  },
  {
   "cell_type": "code",
   "execution_count": null,
   "id": "ca1f959f",
   "metadata": {},
   "outputs": [],
   "source": [
    "#Difference between Function and Mehod\n",
    "# A method is a special function\n",
    "# A fuction can have many parameters\n",
    "# A function exists on its own\n",
    "# Function syntax funtion()\n",
    "\n",
    "# In a Method the object is one of its parameters\n",
    "# A Method belongs to a certain class\n",
    "# Method syntax object.method()\n"
   ]
  },
  {
   "cell_type": "markdown",
   "id": "cbde383f",
   "metadata": {},
   "source": [
    "# Importing Modules"
   ]
  },
  {
   "cell_type": "code",
   "execution_count": 7,
   "id": "7e695604",
   "metadata": {},
   "outputs": [],
   "source": [
    "import math"
   ]
  },
  {
   "cell_type": "code",
   "execution_count": 8,
   "id": "75f97931",
   "metadata": {},
   "outputs": [
    {
     "data": {
      "text/plain": [
       "4.0"
      ]
     },
     "execution_count": 8,
     "metadata": {},
     "output_type": "execute_result"
    }
   ],
   "source": [
    "math.sqrt(16)"
   ]
  },
  {
   "cell_type": "code",
   "execution_count": 9,
   "id": "f4237ac9",
   "metadata": {},
   "outputs": [],
   "source": [
    "from math import sqrt"
   ]
  },
  {
   "cell_type": "code",
   "execution_count": 10,
   "id": "faac7cce",
   "metadata": {},
   "outputs": [
    {
     "data": {
      "text/plain": [
       "9.0"
      ]
     },
     "execution_count": 10,
     "metadata": {},
     "output_type": "execute_result"
    }
   ],
   "source": [
    "sqrt(81)"
   ]
  },
  {
   "cell_type": "code",
   "execution_count": 12,
   "id": "8be7aa37",
   "metadata": {},
   "outputs": [],
   "source": [
    "from math import sqrt as s"
   ]
  },
  {
   "cell_type": "code",
   "execution_count": 13,
   "id": "83effe94",
   "metadata": {},
   "outputs": [
    {
     "data": {
      "text/plain": [
       "5.0"
      ]
     },
     "execution_count": 13,
     "metadata": {},
     "output_type": "execute_result"
    }
   ],
   "source": [
    "s(25)"
   ]
  },
  {
   "cell_type": "code",
   "execution_count": 14,
   "id": "df95c79f",
   "metadata": {},
   "outputs": [],
   "source": [
    "import math as m"
   ]
  },
  {
   "cell_type": "code",
   "execution_count": 16,
   "id": "e7d7b420",
   "metadata": {},
   "outputs": [
    {
     "data": {
      "text/plain": [
       "6.0"
      ]
     },
     "execution_count": 16,
     "metadata": {},
     "output_type": "execute_result"
    }
   ],
   "source": [
    "m.sqrt(36)"
   ]
  },
  {
   "cell_type": "code",
   "execution_count": 18,
   "id": "5c683a80",
   "metadata": {},
   "outputs": [],
   "source": [
    "from math import *"
   ]
  },
  {
   "cell_type": "code",
   "execution_count": 19,
   "id": "236fa9f3",
   "metadata": {},
   "outputs": [
    {
     "data": {
      "text/plain": [
       "5.0"
      ]
     },
     "execution_count": 19,
     "metadata": {},
     "output_type": "execute_result"
    }
   ],
   "source": [
    "sqrt(25)"
   ]
  },
  {
   "cell_type": "code",
   "execution_count": 20,
   "id": "57931c95",
   "metadata": {},
   "outputs": [
    {
     "name": "stdout",
     "output_type": "stream",
     "text": [
      "Help on built-in module math:\n",
      "\n",
      "NAME\n",
      "    math\n",
      "\n",
      "DESCRIPTION\n",
      "    This module provides access to the mathematical functions\n",
      "    defined by the C standard.\n",
      "\n",
      "FUNCTIONS\n",
      "    acos(x, /)\n",
      "        Return the arc cosine (measured in radians) of x.\n",
      "    \n",
      "    acosh(x, /)\n",
      "        Return the inverse hyperbolic cosine of x.\n",
      "    \n",
      "    asin(x, /)\n",
      "        Return the arc sine (measured in radians) of x.\n",
      "    \n",
      "    asinh(x, /)\n",
      "        Return the inverse hyperbolic sine of x.\n",
      "    \n",
      "    atan(x, /)\n",
      "        Return the arc tangent (measured in radians) of x.\n",
      "    \n",
      "    atan2(y, x, /)\n",
      "        Return the arc tangent (measured in radians) of y/x.\n",
      "        \n",
      "        Unlike atan(y/x), the signs of both x and y are considered.\n",
      "    \n",
      "    atanh(x, /)\n",
      "        Return the inverse hyperbolic tangent of x.\n",
      "    \n",
      "    ceil(x, /)\n",
      "        Return the ceiling of x as an Integral.\n",
      "        \n",
      "        This is the smallest integer >= x.\n",
      "    \n",
      "    comb(n, k, /)\n",
      "        Number of ways to choose k items from n items without repetition and without order.\n",
      "        \n",
      "        Evaluates to n! / (k! * (n - k)!) when k <= n and evaluates\n",
      "        to zero when k > n.\n",
      "        \n",
      "        Also called the binomial coefficient because it is equivalent\n",
      "        to the coefficient of k-th term in polynomial expansion of the\n",
      "        expression (1 + x)**n.\n",
      "        \n",
      "        Raises TypeError if either of the arguments are not integers.\n",
      "        Raises ValueError if either of the arguments are negative.\n",
      "    \n",
      "    copysign(x, y, /)\n",
      "        Return a float with the magnitude (absolute value) of x but the sign of y.\n",
      "        \n",
      "        On platforms that support signed zeros, copysign(1.0, -0.0)\n",
      "        returns -1.0.\n",
      "    \n",
      "    cos(x, /)\n",
      "        Return the cosine of x (measured in radians).\n",
      "    \n",
      "    cosh(x, /)\n",
      "        Return the hyperbolic cosine of x.\n",
      "    \n",
      "    degrees(x, /)\n",
      "        Convert angle x from radians to degrees.\n",
      "    \n",
      "    dist(p, q, /)\n",
      "        Return the Euclidean distance between two points p and q.\n",
      "        \n",
      "        The points should be specified as sequences (or iterables) of\n",
      "        coordinates.  Both inputs must have the same dimension.\n",
      "        \n",
      "        Roughly equivalent to:\n",
      "            sqrt(sum((px - qx) ** 2.0 for px, qx in zip(p, q)))\n",
      "    \n",
      "    erf(x, /)\n",
      "        Error function at x.\n",
      "    \n",
      "    erfc(x, /)\n",
      "        Complementary error function at x.\n",
      "    \n",
      "    exp(x, /)\n",
      "        Return e raised to the power of x.\n",
      "    \n",
      "    expm1(x, /)\n",
      "        Return exp(x)-1.\n",
      "        \n",
      "        This function avoids the loss of precision involved in the direct evaluation of exp(x)-1 for small x.\n",
      "    \n",
      "    fabs(x, /)\n",
      "        Return the absolute value of the float x.\n",
      "    \n",
      "    factorial(x, /)\n",
      "        Find x!.\n",
      "        \n",
      "        Raise a ValueError if x is negative or non-integral.\n",
      "    \n",
      "    floor(x, /)\n",
      "        Return the floor of x as an Integral.\n",
      "        \n",
      "        This is the largest integer <= x.\n",
      "    \n",
      "    fmod(x, y, /)\n",
      "        Return fmod(x, y), according to platform C.\n",
      "        \n",
      "        x % y may differ.\n",
      "    \n",
      "    frexp(x, /)\n",
      "        Return the mantissa and exponent of x, as pair (m, e).\n",
      "        \n",
      "        m is a float and e is an int, such that x = m * 2.**e.\n",
      "        If x is 0, m and e are both 0.  Else 0.5 <= abs(m) < 1.0.\n",
      "    \n",
      "    fsum(seq, /)\n",
      "        Return an accurate floating point sum of values in the iterable seq.\n",
      "        \n",
      "        Assumes IEEE-754 floating point arithmetic.\n",
      "    \n",
      "    gamma(x, /)\n",
      "        Gamma function at x.\n",
      "    \n",
      "    gcd(x, y, /)\n",
      "        greatest common divisor of x and y\n",
      "    \n",
      "    hypot(...)\n",
      "        hypot(*coordinates) -> value\n",
      "        \n",
      "        Multidimensional Euclidean distance from the origin to a point.\n",
      "        \n",
      "        Roughly equivalent to:\n",
      "            sqrt(sum(x**2 for x in coordinates))\n",
      "        \n",
      "        For a two dimensional point (x, y), gives the hypotenuse\n",
      "        using the Pythagorean theorem:  sqrt(x*x + y*y).\n",
      "        \n",
      "        For example, the hypotenuse of a 3/4/5 right triangle is:\n",
      "        \n",
      "            >>> hypot(3.0, 4.0)\n",
      "            5.0\n",
      "    \n",
      "    isclose(a, b, *, rel_tol=1e-09, abs_tol=0.0)\n",
      "        Determine whether two floating point numbers are close in value.\n",
      "        \n",
      "          rel_tol\n",
      "            maximum difference for being considered \"close\", relative to the\n",
      "            magnitude of the input values\n",
      "          abs_tol\n",
      "            maximum difference for being considered \"close\", regardless of the\n",
      "            magnitude of the input values\n",
      "        \n",
      "        Return True if a is close in value to b, and False otherwise.\n",
      "        \n",
      "        For the values to be considered close, the difference between them\n",
      "        must be smaller than at least one of the tolerances.\n",
      "        \n",
      "        -inf, inf and NaN behave similarly to the IEEE 754 Standard.  That\n",
      "        is, NaN is not close to anything, even itself.  inf and -inf are\n",
      "        only close to themselves.\n",
      "    \n",
      "    isfinite(x, /)\n",
      "        Return True if x is neither an infinity nor a NaN, and False otherwise.\n",
      "    \n",
      "    isinf(x, /)\n",
      "        Return True if x is a positive or negative infinity, and False otherwise.\n",
      "    \n",
      "    isnan(x, /)\n",
      "        Return True if x is a NaN (not a number), and False otherwise.\n",
      "    \n",
      "    isqrt(n, /)\n",
      "        Return the integer part of the square root of the input.\n",
      "    \n",
      "    ldexp(x, i, /)\n",
      "        Return x * (2**i).\n",
      "        \n",
      "        This is essentially the inverse of frexp().\n",
      "    \n",
      "    lgamma(x, /)\n",
      "        Natural logarithm of absolute value of Gamma function at x.\n",
      "    \n",
      "    log(...)\n",
      "        log(x, [base=math.e])\n",
      "        Return the logarithm of x to the given base.\n",
      "        \n",
      "        If the base not specified, returns the natural logarithm (base e) of x.\n",
      "    \n",
      "    log10(x, /)\n",
      "        Return the base 10 logarithm of x.\n",
      "    \n",
      "    log1p(x, /)\n",
      "        Return the natural logarithm of 1+x (base e).\n",
      "        \n",
      "        The result is computed in a way which is accurate for x near zero.\n",
      "    \n",
      "    log2(x, /)\n",
      "        Return the base 2 logarithm of x.\n",
      "    \n",
      "    modf(x, /)\n",
      "        Return the fractional and integer parts of x.\n",
      "        \n",
      "        Both results carry the sign of x and are floats.\n",
      "    \n",
      "    perm(n, k=None, /)\n",
      "        Number of ways to choose k items from n items without repetition and with order.\n",
      "        \n",
      "        Evaluates to n! / (n - k)! when k <= n and evaluates\n",
      "        to zero when k > n.\n",
      "        \n",
      "        If k is not specified or is None, then k defaults to n\n",
      "        and the function returns n!.\n",
      "        \n",
      "        Raises TypeError if either of the arguments are not integers.\n",
      "        Raises ValueError if either of the arguments are negative.\n",
      "    \n",
      "    pow(x, y, /)\n",
      "        Return x**y (x to the power of y).\n",
      "    \n",
      "    prod(iterable, /, *, start=1)\n",
      "        Calculate the product of all the elements in the input iterable.\n",
      "        \n",
      "        The default start value for the product is 1.\n",
      "        \n",
      "        When the iterable is empty, return the start value.  This function is\n",
      "        intended specifically for use with numeric values and may reject\n",
      "        non-numeric types.\n",
      "    \n",
      "    radians(x, /)\n",
      "        Convert angle x from degrees to radians.\n",
      "    \n",
      "    remainder(x, y, /)\n",
      "        Difference between x and the closest integer multiple of y.\n",
      "        \n",
      "        Return x - n*y where n*y is the closest integer multiple of y.\n",
      "        In the case where x is exactly halfway between two multiples of\n",
      "        y, the nearest even value of n is used. The result is always exact.\n",
      "    \n",
      "    sin(x, /)\n",
      "        Return the sine of x (measured in radians).\n",
      "    \n",
      "    sinh(x, /)\n",
      "        Return the hyperbolic sine of x.\n",
      "    \n",
      "    sqrt(x, /)\n",
      "        Return the square root of x.\n",
      "    \n",
      "    tan(x, /)\n",
      "        Return the tangent of x (measured in radians).\n",
      "    \n",
      "    tanh(x, /)\n",
      "        Return the hyperbolic tangent of x.\n",
      "    \n",
      "    trunc(x, /)\n",
      "        Truncates the Real x to the nearest Integral toward 0.\n",
      "        \n",
      "        Uses the __trunc__ magic method.\n",
      "\n",
      "DATA\n",
      "    e = 2.718281828459045\n",
      "    inf = inf\n",
      "    nan = nan\n",
      "    pi = 3.141592653589793\n",
      "    tau = 6.283185307179586\n",
      "\n",
      "FILE\n",
      "    (built-in)\n",
      "\n",
      "\n"
     ]
    }
   ],
   "source": [
    "# help(math) - gives you description of all the functions"
   ]
  },
  {
   "cell_type": "code",
   "execution_count": 21,
   "id": "7added2f",
   "metadata": {
    "scrolled": true
   },
   "outputs": [
    {
     "name": "stdout",
     "output_type": "stream",
     "text": [
      "Help on built-in function sqrt in module math:\n",
      "\n",
      "sqrt(x, /)\n",
      "    Return the square root of x.\n",
      "\n"
     ]
    }
   ],
   "source": [
    "help(math.sqrt)"
   ]
  },
  {
   "cell_type": "markdown",
   "id": "21f63a3b",
   "metadata": {},
   "source": [
    "# Must-Have Packages Fin Dsc"
   ]
  },
  {
   "cell_type": "code",
   "execution_count": 22,
   "id": "8de1342b",
   "metadata": {},
   "outputs": [],
   "source": [
    "# Numpy - a third party package allowing us to work\n",
    "# with multidimensional arrays\n",
    "# Arrays represent a powerful way to organize\n",
    "# and process data"
   ]
  },
  {
   "cell_type": "code",
   "execution_count": null,
   "id": "ba0947b3",
   "metadata": {},
   "outputs": [],
   "source": [
    "# Pandas - allows us to organize data in a tabular\n",
    "# form and to attach descriptive labels to the rows\n",
    "# and then columns of the table\n",
    "# pandas is suitable for working with\n",
    "# time series and huge databases\n",
    "\n",
    "\n",
    "# Pandas - Panel Data"
   ]
  },
  {
   "cell_type": "code",
   "execution_count": null,
   "id": "824c8086",
   "metadata": {},
   "outputs": [],
   "source": [
    "# Matplotlib - a 2d plotting library\n",
    "# specially designed for visualization \n",
    "# of NumPy computations"
   ]
  },
  {
   "cell_type": "code",
   "execution_count": null,
   "id": "0afe4bc1",
   "metadata": {},
   "outputs": [],
   "source": [
    "# math - mathematical functions"
   ]
  },
  {
   "cell_type": "code",
   "execution_count": null,
   "id": "fd0fdc3f",
   "metadata": {},
   "outputs": [],
   "source": [
    "# random - invokes random number generators"
   ]
  },
  {
   "cell_type": "code",
   "execution_count": null,
   "id": "6b16823d",
   "metadata": {},
   "outputs": [],
   "source": [
    "# statsmodels-descriptive statistics\n",
    "# plotting functions, regressions"
   ]
  },
  {
   "cell_type": "code",
   "execution_count": 1,
   "id": "5954d9b4",
   "metadata": {},
   "outputs": [],
   "source": [
    "import pandas_datareader\n"
   ]
  },
  {
   "cell_type": "markdown",
   "id": "efeb5262",
   "metadata": {},
   "source": [
    "# Working with Arrays"
   ]
  },
  {
   "cell_type": "code",
   "execution_count": null,
   "id": "772f84c1",
   "metadata": {},
   "outputs": [],
   "source": [
    "# Arrays are similar to list\n",
    "# Arrays represent objects and \n",
    "# the objects in an array are called \n",
    "# array elements\n",
    "\n",
    "# the difference between arrays and list is\n",
    "# arrays only have one type of elements in the array"
   ]
  },
  {
   "cell_type": "code",
   "execution_count": 2,
   "id": "f4ce0901",
   "metadata": {},
   "outputs": [],
   "source": [
    "import numpy as np"
   ]
  },
  {
   "cell_type": "code",
   "execution_count": 3,
   "id": "e278ff75",
   "metadata": {},
   "outputs": [
    {
     "data": {
      "text/plain": [
       "array([[0, 1, 2, 3],\n",
       "       [4, 5, 6, 7]])"
      ]
     },
     "execution_count": 3,
     "metadata": {},
     "output_type": "execute_result"
    }
   ],
   "source": [
    "a =  np.array([[0, 1, 2, 3],[4, 5, 6,7]])\n",
    "a\n"
   ]
  },
  {
   "cell_type": "code",
   "execution_count": null,
   "id": "7e0688ad",
   "metadata": {},
   "outputs": [],
   "source": [
    "# Numpy - n-dimensional array = ndarray\n",
    "# An ndarray is always homogenous\n",
    "# That is all of the blocks \n",
    "# are of same type and should be interpreted\n",
    "# in the same way\n",
    "# so, the need same type of objects and number of objects\n",
    "\n",
    "# array() - returns a data structure in \n",
    "# the Numpy array format"
   ]
  },
  {
   "cell_type": "code",
   "execution_count": 4,
   "id": "0728ab23",
   "metadata": {},
   "outputs": [
    {
     "data": {
      "text/plain": [
       "(2, 4)"
      ]
     },
     "execution_count": 4,
     "metadata": {},
     "output_type": "execute_result"
    }
   ],
   "source": [
    "a.shape"
   ]
  },
  {
   "cell_type": "code",
   "execution_count": 5,
   "id": "b26e5e11",
   "metadata": {},
   "outputs": [
    {
     "data": {
      "text/plain": [
       "7"
      ]
     },
     "execution_count": 5,
     "metadata": {},
     "output_type": "execute_result"
    }
   ],
   "source": [
    "a[1,3]"
   ]
  },
  {
   "cell_type": "code",
   "execution_count": 6,
   "id": "9d201e7f",
   "metadata": {},
   "outputs": [],
   "source": [
    "a[1,2] = 8"
   ]
  },
  {
   "cell_type": "code",
   "execution_count": 7,
   "id": "61802b35",
   "metadata": {},
   "outputs": [
    {
     "data": {
      "text/plain": [
       "8"
      ]
     },
     "execution_count": 7,
     "metadata": {},
     "output_type": "execute_result"
    }
   ],
   "source": [
    "a[1,2]"
   ]
  },
  {
   "cell_type": "code",
   "execution_count": 8,
   "id": "5885a29b",
   "metadata": {},
   "outputs": [
    {
     "data": {
      "text/plain": [
       "array([[0, 1, 2, 3],\n",
       "       [4, 5, 8, 7]])"
      ]
     },
     "execution_count": 8,
     "metadata": {},
     "output_type": "execute_result"
    }
   ],
   "source": [
    "a\n"
   ]
  },
  {
   "cell_type": "code",
   "execution_count": 9,
   "id": "2a462142",
   "metadata": {},
   "outputs": [
    {
     "data": {
      "text/plain": [
       "array([0, 1, 2, 3])"
      ]
     },
     "execution_count": 9,
     "metadata": {},
     "output_type": "execute_result"
    }
   ],
   "source": [
    "a[0]"
   ]
  },
  {
   "cell_type": "code",
   "execution_count": 10,
   "id": "45b580a4",
   "metadata": {},
   "outputs": [
    {
     "data": {
      "text/plain": [
       "array([4, 5, 8, 7])"
      ]
     },
     "execution_count": 10,
     "metadata": {},
     "output_type": "execute_result"
    }
   ],
   "source": [
    "a[1]"
   ]
  },
  {
   "cell_type": "code",
   "execution_count": 11,
   "id": "027739bd",
   "metadata": {},
   "outputs": [
    {
     "data": {
      "text/plain": [
       "array([3, 5])"
      ]
     },
     "execution_count": 11,
     "metadata": {},
     "output_type": "execute_result"
    }
   ],
   "source": [
    "# a vector is an object that has both a magnitude and direction\n",
    "\n",
    "b = np.array ([3,5])\n",
    "b"
   ]
  },
  {
   "cell_type": "markdown",
   "id": "a0f523f7",
   "metadata": {},
   "source": [
    "# Generating Random Variables"
   ]
  },
  {
   "cell_type": "code",
   "execution_count": 12,
   "id": "bcfdc6d9",
   "metadata": {},
   "outputs": [],
   "source": [
    "import random"
   ]
  },
  {
   "cell_type": "code",
   "execution_count": 13,
   "id": "fdd0aabd",
   "metadata": {},
   "outputs": [],
   "source": [
    "# random.random() - generates a random float\n",
    "# in the range [0;1)"
   ]
  },
  {
   "cell_type": "code",
   "execution_count": 17,
   "id": "6c59d906",
   "metadata": {},
   "outputs": [
    {
     "name": "stdout",
     "output_type": "stream",
     "text": [
      "0.13939531829143503\n"
     ]
    }
   ],
   "source": [
    "prob = random.random()\n",
    "print (prob)"
   ]
  },
  {
   "cell_type": "code",
   "execution_count": null,
   "id": "acceae97",
   "metadata": {},
   "outputs": [],
   "source": [
    "# random.randint() - randomizes over a provided\n",
    "# interval and deliver an interger value\n"
   ]
  },
  {
   "cell_type": "code",
   "execution_count": 21,
   "id": "0d294d29",
   "metadata": {},
   "outputs": [
    {
     "name": "stdout",
     "output_type": "stream",
     "text": [
      "5\n"
     ]
    }
   ],
   "source": [
    "number = random.randint(1,6)\n",
    "print (number)"
   ]
  },
  {
   "cell_type": "code",
   "execution_count": 22,
   "id": "e01a945b",
   "metadata": {},
   "outputs": [
    {
     "data": {
      "text/plain": [
       "array([[3, 3, 4, 2, 1, 1],\n",
       "       [1, 5, 2, 1, 4, 1],\n",
       "       [2, 5, 4, 2, 4, 4],\n",
       "       [5, 4, 5, 4, 5, 5]])"
      ]
     },
     "execution_count": 22,
     "metadata": {},
     "output_type": "execute_result"
    }
   ],
   "source": [
    "import numpy as np\n",
    "np.random.randint(1,6,(4,6))"
   ]
  },
  {
   "cell_type": "markdown",
   "id": "43821abc",
   "metadata": {},
   "source": [
    "# Importing Data Part 1"
   ]
  },
  {
   "cell_type": "code",
   "execution_count": null,
   "id": "581c194c",
   "metadata": {},
   "outputs": [],
   "source": [
    "# pd.series() \n",
    "\n",
    "# Series - is a data type in pandas\n",
    "# Series - a single column data;\n",
    "# Series - a set of obligations for a single variable\n"
   ]
  },
  {
   "cell_type": "code",
   "execution_count": 24,
   "id": "10abfaac",
   "metadata": {},
   "outputs": [],
   "source": [
    "import numpy as np\n",
    "import pandas as pd"
   ]
  },
  {
   "cell_type": "code",
   "execution_count": 25,
   "id": "e7375023",
   "metadata": {},
   "outputs": [],
   "source": [
    "ser = pd.Series(np.random.random(5), name = 'column 01')"
   ]
  },
  {
   "cell_type": "code",
   "execution_count": 27,
   "id": "e9de204a",
   "metadata": {},
   "outputs": [
    {
     "data": {
      "text/plain": [
       "0    0.632700\n",
       "1    0.706872\n",
       "2    0.972509\n",
       "3    0.347708\n",
       "4    0.967123\n",
       "Name: column 01, dtype: float64"
      ]
     },
     "execution_count": 27,
     "metadata": {},
     "output_type": "execute_result"
    }
   ],
   "source": [
    "ser"
   ]
  },
  {
   "cell_type": "code",
   "execution_count": 28,
   "id": "617e71b6",
   "metadata": {},
   "outputs": [
    {
     "data": {
      "text/plain": [
       "0.9725093522150035"
      ]
     },
     "execution_count": 28,
     "metadata": {},
     "output_type": "execute_result"
    }
   ],
   "source": [
    "ser[2]"
   ]
  },
  {
   "cell_type": "code",
   "execution_count": null,
   "id": "64930622",
   "metadata": {},
   "outputs": [],
   "source": [
    "#Data Frame - pandas.DataFrame()\n",
    "#Data Frame - is like the series data type but with several columns\n",
    "#Web-wb"
   ]
  },
  {
   "cell_type": "code",
   "execution_count": 35,
   "id": "5e53fbbe",
   "metadata": {},
   "outputs": [],
   "source": [
    "from pandas_datareader import data as wb"
   ]
  },
  {
   "cell_type": "code",
   "execution_count": 37,
   "id": "a05ad7b9",
   "metadata": {},
   "outputs": [],
   "source": [
    "PG = wb.DataReader('PG', data_source='yahoo', start='1995-1-1')"
   ]
  },
  {
   "cell_type": "code",
   "execution_count": 38,
   "id": "d394619d",
   "metadata": {},
   "outputs": [
    {
     "data": {
      "text/html": [
       "<div>\n",
       "<style scoped>\n",
       "    .dataframe tbody tr th:only-of-type {\n",
       "        vertical-align: middle;\n",
       "    }\n",
       "\n",
       "    .dataframe tbody tr th {\n",
       "        vertical-align: top;\n",
       "    }\n",
       "\n",
       "    .dataframe thead th {\n",
       "        text-align: right;\n",
       "    }\n",
       "</style>\n",
       "<table border=\"1\" class=\"dataframe\">\n",
       "  <thead>\n",
       "    <tr style=\"text-align: right;\">\n",
       "      <th></th>\n",
       "      <th>High</th>\n",
       "      <th>Low</th>\n",
       "      <th>Open</th>\n",
       "      <th>Close</th>\n",
       "      <th>Volume</th>\n",
       "      <th>Adj Close</th>\n",
       "    </tr>\n",
       "    <tr>\n",
       "      <th>Date</th>\n",
       "      <th></th>\n",
       "      <th></th>\n",
       "      <th></th>\n",
       "      <th></th>\n",
       "      <th></th>\n",
       "      <th></th>\n",
       "    </tr>\n",
       "  </thead>\n",
       "  <tbody>\n",
       "    <tr>\n",
       "      <th>1995-01-03</th>\n",
       "      <td>15.625000</td>\n",
       "      <td>15.437500</td>\n",
       "      <td>15.468750</td>\n",
       "      <td>15.593750</td>\n",
       "      <td>3318400.0</td>\n",
       "      <td>7.875524</td>\n",
       "    </tr>\n",
       "    <tr>\n",
       "      <th>1995-01-04</th>\n",
       "      <td>15.656250</td>\n",
       "      <td>15.312500</td>\n",
       "      <td>15.531250</td>\n",
       "      <td>15.468750</td>\n",
       "      <td>2218800.0</td>\n",
       "      <td>7.812394</td>\n",
       "    </tr>\n",
       "    <tr>\n",
       "      <th>1995-01-05</th>\n",
       "      <td>15.437500</td>\n",
       "      <td>15.218750</td>\n",
       "      <td>15.375000</td>\n",
       "      <td>15.250000</td>\n",
       "      <td>2319600.0</td>\n",
       "      <td>7.701911</td>\n",
       "    </tr>\n",
       "    <tr>\n",
       "      <th>1995-01-06</th>\n",
       "      <td>15.406250</td>\n",
       "      <td>15.156250</td>\n",
       "      <td>15.156250</td>\n",
       "      <td>15.281250</td>\n",
       "      <td>3438000.0</td>\n",
       "      <td>7.717696</td>\n",
       "    </tr>\n",
       "    <tr>\n",
       "      <th>1995-01-09</th>\n",
       "      <td>15.406250</td>\n",
       "      <td>15.187500</td>\n",
       "      <td>15.343750</td>\n",
       "      <td>15.218750</td>\n",
       "      <td>1795200.0</td>\n",
       "      <td>7.686131</td>\n",
       "    </tr>\n",
       "    <tr>\n",
       "      <th>...</th>\n",
       "      <td>...</td>\n",
       "      <td>...</td>\n",
       "      <td>...</td>\n",
       "      <td>...</td>\n",
       "      <td>...</td>\n",
       "      <td>...</td>\n",
       "    </tr>\n",
       "    <tr>\n",
       "      <th>2022-07-21</th>\n",
       "      <td>141.360001</td>\n",
       "      <td>138.949997</td>\n",
       "      <td>140.600006</td>\n",
       "      <td>140.770004</td>\n",
       "      <td>8310200.0</td>\n",
       "      <td>140.770004</td>\n",
       "    </tr>\n",
       "    <tr>\n",
       "      <th>2022-07-22</th>\n",
       "      <td>143.169998</td>\n",
       "      <td>140.669998</td>\n",
       "      <td>140.759995</td>\n",
       "      <td>143.020004</td>\n",
       "      <td>5292700.0</td>\n",
       "      <td>143.020004</td>\n",
       "    </tr>\n",
       "    <tr>\n",
       "      <th>2022-07-25</th>\n",
       "      <td>144.419998</td>\n",
       "      <td>142.529999</td>\n",
       "      <td>142.800003</td>\n",
       "      <td>143.990005</td>\n",
       "      <td>5262100.0</td>\n",
       "      <td>143.990005</td>\n",
       "    </tr>\n",
       "    <tr>\n",
       "      <th>2022-07-26</th>\n",
       "      <td>144.490005</td>\n",
       "      <td>141.710007</td>\n",
       "      <td>142.690002</td>\n",
       "      <td>144.270004</td>\n",
       "      <td>5374900.0</td>\n",
       "      <td>144.270004</td>\n",
       "    </tr>\n",
       "    <tr>\n",
       "      <th>2022-07-27</th>\n",
       "      <td>145.399994</td>\n",
       "      <td>143.529999</td>\n",
       "      <td>143.880005</td>\n",
       "      <td>145.244995</td>\n",
       "      <td>3013429.0</td>\n",
       "      <td>145.244995</td>\n",
       "    </tr>\n",
       "  </tbody>\n",
       "</table>\n",
       "<p>6941 rows × 6 columns</p>\n",
       "</div>"
      ],
      "text/plain": [
       "                  High         Low        Open       Close     Volume  \\\n",
       "Date                                                                    \n",
       "1995-01-03   15.625000   15.437500   15.468750   15.593750  3318400.0   \n",
       "1995-01-04   15.656250   15.312500   15.531250   15.468750  2218800.0   \n",
       "1995-01-05   15.437500   15.218750   15.375000   15.250000  2319600.0   \n",
       "1995-01-06   15.406250   15.156250   15.156250   15.281250  3438000.0   \n",
       "1995-01-09   15.406250   15.187500   15.343750   15.218750  1795200.0   \n",
       "...                ...         ...         ...         ...        ...   \n",
       "2022-07-21  141.360001  138.949997  140.600006  140.770004  8310200.0   \n",
       "2022-07-22  143.169998  140.669998  140.759995  143.020004  5292700.0   \n",
       "2022-07-25  144.419998  142.529999  142.800003  143.990005  5262100.0   \n",
       "2022-07-26  144.490005  141.710007  142.690002  144.270004  5374900.0   \n",
       "2022-07-27  145.399994  143.529999  143.880005  145.244995  3013429.0   \n",
       "\n",
       "             Adj Close  \n",
       "Date                    \n",
       "1995-01-03    7.875524  \n",
       "1995-01-04    7.812394  \n",
       "1995-01-05    7.701911  \n",
       "1995-01-06    7.717696  \n",
       "1995-01-09    7.686131  \n",
       "...                ...  \n",
       "2022-07-21  140.770004  \n",
       "2022-07-22  143.020004  \n",
       "2022-07-25  143.990005  \n",
       "2022-07-26  144.270004  \n",
       "2022-07-27  145.244995  \n",
       "\n",
       "[6941 rows x 6 columns]"
      ]
     },
     "execution_count": 38,
     "metadata": {},
     "output_type": "execute_result"
    }
   ],
   "source": [
    "PG"
   ]
  },
  {
   "cell_type": "code",
   "execution_count": 39,
   "id": "f002b897",
   "metadata": {},
   "outputs": [
    {
     "name": "stdout",
     "output_type": "stream",
     "text": [
      "<class 'pandas.core.frame.DataFrame'>\n",
      "DatetimeIndex: 6941 entries, 1995-01-03 to 2022-07-27\n",
      "Data columns (total 6 columns):\n",
      " #   Column     Non-Null Count  Dtype  \n",
      "---  ------     --------------  -----  \n",
      " 0   High       6941 non-null   float64\n",
      " 1   Low        6941 non-null   float64\n",
      " 2   Open       6941 non-null   float64\n",
      " 3   Close      6941 non-null   float64\n",
      " 4   Volume     6941 non-null   float64\n",
      " 5   Adj Close  6941 non-null   float64\n",
      "dtypes: float64(6)\n",
      "memory usage: 379.6 KB\n"
     ]
    }
   ],
   "source": [
    "PG.info()"
   ]
  },
  {
   "cell_type": "code",
   "execution_count": 40,
   "id": "4316a988",
   "metadata": {},
   "outputs": [
    {
     "data": {
      "text/html": [
       "<div>\n",
       "<style scoped>\n",
       "    .dataframe tbody tr th:only-of-type {\n",
       "        vertical-align: middle;\n",
       "    }\n",
       "\n",
       "    .dataframe tbody tr th {\n",
       "        vertical-align: top;\n",
       "    }\n",
       "\n",
       "    .dataframe thead th {\n",
       "        text-align: right;\n",
       "    }\n",
       "</style>\n",
       "<table border=\"1\" class=\"dataframe\">\n",
       "  <thead>\n",
       "    <tr style=\"text-align: right;\">\n",
       "      <th></th>\n",
       "      <th>High</th>\n",
       "      <th>Low</th>\n",
       "      <th>Open</th>\n",
       "      <th>Close</th>\n",
       "      <th>Volume</th>\n",
       "      <th>Adj Close</th>\n",
       "    </tr>\n",
       "    <tr>\n",
       "      <th>Date</th>\n",
       "      <th></th>\n",
       "      <th></th>\n",
       "      <th></th>\n",
       "      <th></th>\n",
       "      <th></th>\n",
       "      <th></th>\n",
       "    </tr>\n",
       "  </thead>\n",
       "  <tbody>\n",
       "    <tr>\n",
       "      <th>1995-01-03</th>\n",
       "      <td>15.62500</td>\n",
       "      <td>15.43750</td>\n",
       "      <td>15.46875</td>\n",
       "      <td>15.59375</td>\n",
       "      <td>3318400.0</td>\n",
       "      <td>7.875524</td>\n",
       "    </tr>\n",
       "    <tr>\n",
       "      <th>1995-01-04</th>\n",
       "      <td>15.65625</td>\n",
       "      <td>15.31250</td>\n",
       "      <td>15.53125</td>\n",
       "      <td>15.46875</td>\n",
       "      <td>2218800.0</td>\n",
       "      <td>7.812394</td>\n",
       "    </tr>\n",
       "    <tr>\n",
       "      <th>1995-01-05</th>\n",
       "      <td>15.43750</td>\n",
       "      <td>15.21875</td>\n",
       "      <td>15.37500</td>\n",
       "      <td>15.25000</td>\n",
       "      <td>2319600.0</td>\n",
       "      <td>7.701911</td>\n",
       "    </tr>\n",
       "    <tr>\n",
       "      <th>1995-01-06</th>\n",
       "      <td>15.40625</td>\n",
       "      <td>15.15625</td>\n",
       "      <td>15.15625</td>\n",
       "      <td>15.28125</td>\n",
       "      <td>3438000.0</td>\n",
       "      <td>7.717696</td>\n",
       "    </tr>\n",
       "    <tr>\n",
       "      <th>1995-01-09</th>\n",
       "      <td>15.40625</td>\n",
       "      <td>15.18750</td>\n",
       "      <td>15.34375</td>\n",
       "      <td>15.21875</td>\n",
       "      <td>1795200.0</td>\n",
       "      <td>7.686131</td>\n",
       "    </tr>\n",
       "  </tbody>\n",
       "</table>\n",
       "</div>"
      ],
      "text/plain": [
       "                High       Low      Open     Close     Volume  Adj Close\n",
       "Date                                                                    \n",
       "1995-01-03  15.62500  15.43750  15.46875  15.59375  3318400.0   7.875524\n",
       "1995-01-04  15.65625  15.31250  15.53125  15.46875  2218800.0   7.812394\n",
       "1995-01-05  15.43750  15.21875  15.37500  15.25000  2319600.0   7.701911\n",
       "1995-01-06  15.40625  15.15625  15.15625  15.28125  3438000.0   7.717696\n",
       "1995-01-09  15.40625  15.18750  15.34375  15.21875  1795200.0   7.686131"
      ]
     },
     "execution_count": 40,
     "metadata": {},
     "output_type": "execute_result"
    }
   ],
   "source": [
    "PG.head()"
   ]
  },
  {
   "cell_type": "code",
   "execution_count": 41,
   "id": "0b7d5f4f",
   "metadata": {},
   "outputs": [
    {
     "data": {
      "text/html": [
       "<div>\n",
       "<style scoped>\n",
       "    .dataframe tbody tr th:only-of-type {\n",
       "        vertical-align: middle;\n",
       "    }\n",
       "\n",
       "    .dataframe tbody tr th {\n",
       "        vertical-align: top;\n",
       "    }\n",
       "\n",
       "    .dataframe thead th {\n",
       "        text-align: right;\n",
       "    }\n",
       "</style>\n",
       "<table border=\"1\" class=\"dataframe\">\n",
       "  <thead>\n",
       "    <tr style=\"text-align: right;\">\n",
       "      <th></th>\n",
       "      <th>High</th>\n",
       "      <th>Low</th>\n",
       "      <th>Open</th>\n",
       "      <th>Close</th>\n",
       "      <th>Volume</th>\n",
       "      <th>Adj Close</th>\n",
       "    </tr>\n",
       "    <tr>\n",
       "      <th>Date</th>\n",
       "      <th></th>\n",
       "      <th></th>\n",
       "      <th></th>\n",
       "      <th></th>\n",
       "      <th></th>\n",
       "      <th></th>\n",
       "    </tr>\n",
       "  </thead>\n",
       "  <tbody>\n",
       "    <tr>\n",
       "      <th>2022-07-21</th>\n",
       "      <td>141.360001</td>\n",
       "      <td>138.949997</td>\n",
       "      <td>140.600006</td>\n",
       "      <td>140.770004</td>\n",
       "      <td>8310200.0</td>\n",
       "      <td>140.770004</td>\n",
       "    </tr>\n",
       "    <tr>\n",
       "      <th>2022-07-22</th>\n",
       "      <td>143.169998</td>\n",
       "      <td>140.669998</td>\n",
       "      <td>140.759995</td>\n",
       "      <td>143.020004</td>\n",
       "      <td>5292700.0</td>\n",
       "      <td>143.020004</td>\n",
       "    </tr>\n",
       "    <tr>\n",
       "      <th>2022-07-25</th>\n",
       "      <td>144.419998</td>\n",
       "      <td>142.529999</td>\n",
       "      <td>142.800003</td>\n",
       "      <td>143.990005</td>\n",
       "      <td>5262100.0</td>\n",
       "      <td>143.990005</td>\n",
       "    </tr>\n",
       "    <tr>\n",
       "      <th>2022-07-26</th>\n",
       "      <td>144.490005</td>\n",
       "      <td>141.710007</td>\n",
       "      <td>142.690002</td>\n",
       "      <td>144.270004</td>\n",
       "      <td>5374900.0</td>\n",
       "      <td>144.270004</td>\n",
       "    </tr>\n",
       "    <tr>\n",
       "      <th>2022-07-27</th>\n",
       "      <td>145.399994</td>\n",
       "      <td>143.529999</td>\n",
       "      <td>143.880005</td>\n",
       "      <td>145.244995</td>\n",
       "      <td>3013429.0</td>\n",
       "      <td>145.244995</td>\n",
       "    </tr>\n",
       "  </tbody>\n",
       "</table>\n",
       "</div>"
      ],
      "text/plain": [
       "                  High         Low        Open       Close     Volume  \\\n",
       "Date                                                                    \n",
       "2022-07-21  141.360001  138.949997  140.600006  140.770004  8310200.0   \n",
       "2022-07-22  143.169998  140.669998  140.759995  143.020004  5292700.0   \n",
       "2022-07-25  144.419998  142.529999  142.800003  143.990005  5262100.0   \n",
       "2022-07-26  144.490005  141.710007  142.690002  144.270004  5374900.0   \n",
       "2022-07-27  145.399994  143.529999  143.880005  145.244995  3013429.0   \n",
       "\n",
       "             Adj Close  \n",
       "Date                    \n",
       "2022-07-21  140.770004  \n",
       "2022-07-22  143.020004  \n",
       "2022-07-25  143.990005  \n",
       "2022-07-26  144.270004  \n",
       "2022-07-27  145.244995  "
      ]
     },
     "execution_count": 41,
     "metadata": {},
     "output_type": "execute_result"
    }
   ],
   "source": [
    "PG.tail()"
   ]
  },
  {
   "cell_type": "code",
   "execution_count": 42,
   "id": "efe1becb",
   "metadata": {},
   "outputs": [
    {
     "data": {
      "text/html": [
       "<div>\n",
       "<style scoped>\n",
       "    .dataframe tbody tr th:only-of-type {\n",
       "        vertical-align: middle;\n",
       "    }\n",
       "\n",
       "    .dataframe tbody tr th {\n",
       "        vertical-align: top;\n",
       "    }\n",
       "\n",
       "    .dataframe thead th {\n",
       "        text-align: right;\n",
       "    }\n",
       "</style>\n",
       "<table border=\"1\" class=\"dataframe\">\n",
       "  <thead>\n",
       "    <tr style=\"text-align: right;\">\n",
       "      <th></th>\n",
       "      <th>High</th>\n",
       "      <th>Low</th>\n",
       "      <th>Open</th>\n",
       "      <th>Close</th>\n",
       "      <th>Volume</th>\n",
       "      <th>Adj Close</th>\n",
       "    </tr>\n",
       "    <tr>\n",
       "      <th>Date</th>\n",
       "      <th></th>\n",
       "      <th></th>\n",
       "      <th></th>\n",
       "      <th></th>\n",
       "      <th></th>\n",
       "      <th></th>\n",
       "    </tr>\n",
       "  </thead>\n",
       "  <tbody>\n",
       "    <tr>\n",
       "      <th>1995-01-03</th>\n",
       "      <td>15.62500</td>\n",
       "      <td>15.43750</td>\n",
       "      <td>15.46875</td>\n",
       "      <td>15.59375</td>\n",
       "      <td>3318400.0</td>\n",
       "      <td>7.875524</td>\n",
       "    </tr>\n",
       "    <tr>\n",
       "      <th>1995-01-04</th>\n",
       "      <td>15.65625</td>\n",
       "      <td>15.31250</td>\n",
       "      <td>15.53125</td>\n",
       "      <td>15.46875</td>\n",
       "      <td>2218800.0</td>\n",
       "      <td>7.812394</td>\n",
       "    </tr>\n",
       "    <tr>\n",
       "      <th>1995-01-05</th>\n",
       "      <td>15.43750</td>\n",
       "      <td>15.21875</td>\n",
       "      <td>15.37500</td>\n",
       "      <td>15.25000</td>\n",
       "      <td>2319600.0</td>\n",
       "      <td>7.701911</td>\n",
       "    </tr>\n",
       "    <tr>\n",
       "      <th>1995-01-06</th>\n",
       "      <td>15.40625</td>\n",
       "      <td>15.15625</td>\n",
       "      <td>15.15625</td>\n",
       "      <td>15.28125</td>\n",
       "      <td>3438000.0</td>\n",
       "      <td>7.717696</td>\n",
       "    </tr>\n",
       "    <tr>\n",
       "      <th>1995-01-09</th>\n",
       "      <td>15.40625</td>\n",
       "      <td>15.18750</td>\n",
       "      <td>15.34375</td>\n",
       "      <td>15.21875</td>\n",
       "      <td>1795200.0</td>\n",
       "      <td>7.686131</td>\n",
       "    </tr>\n",
       "    <tr>\n",
       "      <th>1995-01-10</th>\n",
       "      <td>15.43750</td>\n",
       "      <td>15.18750</td>\n",
       "      <td>15.28125</td>\n",
       "      <td>15.40625</td>\n",
       "      <td>4364000.0</td>\n",
       "      <td>7.780825</td>\n",
       "    </tr>\n",
       "    <tr>\n",
       "      <th>1995-01-11</th>\n",
       "      <td>15.59375</td>\n",
       "      <td>15.37500</td>\n",
       "      <td>15.59375</td>\n",
       "      <td>15.37500</td>\n",
       "      <td>3738400.0</td>\n",
       "      <td>7.765042</td>\n",
       "    </tr>\n",
       "    <tr>\n",
       "      <th>1995-01-12</th>\n",
       "      <td>15.53125</td>\n",
       "      <td>15.31250</td>\n",
       "      <td>15.37500</td>\n",
       "      <td>15.53125</td>\n",
       "      <td>3307600.0</td>\n",
       "      <td>7.843956</td>\n",
       "    </tr>\n",
       "    <tr>\n",
       "      <th>1995-01-13</th>\n",
       "      <td>15.84375</td>\n",
       "      <td>15.53125</td>\n",
       "      <td>15.59375</td>\n",
       "      <td>15.62500</td>\n",
       "      <td>3992800.0</td>\n",
       "      <td>7.936015</td>\n",
       "    </tr>\n",
       "    <tr>\n",
       "      <th>1995-01-16</th>\n",
       "      <td>15.96875</td>\n",
       "      <td>15.75000</td>\n",
       "      <td>15.90625</td>\n",
       "      <td>15.75000</td>\n",
       "      <td>3677200.0</td>\n",
       "      <td>7.999504</td>\n",
       "    </tr>\n",
       "    <tr>\n",
       "      <th>1995-01-17</th>\n",
       "      <td>15.81250</td>\n",
       "      <td>15.65625</td>\n",
       "      <td>15.71875</td>\n",
       "      <td>15.81250</td>\n",
       "      <td>2437600.0</td>\n",
       "      <td>8.031249</td>\n",
       "    </tr>\n",
       "    <tr>\n",
       "      <th>1995-01-18</th>\n",
       "      <td>15.75000</td>\n",
       "      <td>15.43750</td>\n",
       "      <td>15.68750</td>\n",
       "      <td>15.46875</td>\n",
       "      <td>3535200.0</td>\n",
       "      <td>7.856655</td>\n",
       "    </tr>\n",
       "    <tr>\n",
       "      <th>1995-01-19</th>\n",
       "      <td>15.40625</td>\n",
       "      <td>15.34375</td>\n",
       "      <td>15.34375</td>\n",
       "      <td>15.40625</td>\n",
       "      <td>2491200.0</td>\n",
       "      <td>7.824911</td>\n",
       "    </tr>\n",
       "    <tr>\n",
       "      <th>1995-01-20</th>\n",
       "      <td>15.40625</td>\n",
       "      <td>15.25000</td>\n",
       "      <td>15.40625</td>\n",
       "      <td>15.34375</td>\n",
       "      <td>5130800.0</td>\n",
       "      <td>7.793169</td>\n",
       "    </tr>\n",
       "    <tr>\n",
       "      <th>1995-01-23</th>\n",
       "      <td>15.50000</td>\n",
       "      <td>15.18750</td>\n",
       "      <td>15.18750</td>\n",
       "      <td>15.50000</td>\n",
       "      <td>3147200.0</td>\n",
       "      <td>7.872523</td>\n",
       "    </tr>\n",
       "    <tr>\n",
       "      <th>1995-01-24</th>\n",
       "      <td>15.53125</td>\n",
       "      <td>15.37500</td>\n",
       "      <td>15.50000</td>\n",
       "      <td>15.46875</td>\n",
       "      <td>2016400.0</td>\n",
       "      <td>7.856655</td>\n",
       "    </tr>\n",
       "    <tr>\n",
       "      <th>1995-01-25</th>\n",
       "      <td>15.78125</td>\n",
       "      <td>15.43750</td>\n",
       "      <td>15.50000</td>\n",
       "      <td>15.68750</td>\n",
       "      <td>2802400.0</td>\n",
       "      <td>7.967761</td>\n",
       "    </tr>\n",
       "    <tr>\n",
       "      <th>1995-01-26</th>\n",
       "      <td>15.84375</td>\n",
       "      <td>15.68750</td>\n",
       "      <td>15.71875</td>\n",
       "      <td>15.75000</td>\n",
       "      <td>3124000.0</td>\n",
       "      <td>7.999504</td>\n",
       "    </tr>\n",
       "    <tr>\n",
       "      <th>1995-01-27</th>\n",
       "      <td>16.25000</td>\n",
       "      <td>15.81250</td>\n",
       "      <td>15.81250</td>\n",
       "      <td>16.18750</td>\n",
       "      <td>6247200.0</td>\n",
       "      <td>8.221710</td>\n",
       "    </tr>\n",
       "    <tr>\n",
       "      <th>1995-01-30</th>\n",
       "      <td>16.56250</td>\n",
       "      <td>16.09375</td>\n",
       "      <td>16.12500</td>\n",
       "      <td>16.43750</td>\n",
       "      <td>5226400.0</td>\n",
       "      <td>8.348688</td>\n",
       "    </tr>\n",
       "  </tbody>\n",
       "</table>\n",
       "</div>"
      ],
      "text/plain": [
       "                High       Low      Open     Close     Volume  Adj Close\n",
       "Date                                                                    \n",
       "1995-01-03  15.62500  15.43750  15.46875  15.59375  3318400.0   7.875524\n",
       "1995-01-04  15.65625  15.31250  15.53125  15.46875  2218800.0   7.812394\n",
       "1995-01-05  15.43750  15.21875  15.37500  15.25000  2319600.0   7.701911\n",
       "1995-01-06  15.40625  15.15625  15.15625  15.28125  3438000.0   7.717696\n",
       "1995-01-09  15.40625  15.18750  15.34375  15.21875  1795200.0   7.686131\n",
       "1995-01-10  15.43750  15.18750  15.28125  15.40625  4364000.0   7.780825\n",
       "1995-01-11  15.59375  15.37500  15.59375  15.37500  3738400.0   7.765042\n",
       "1995-01-12  15.53125  15.31250  15.37500  15.53125  3307600.0   7.843956\n",
       "1995-01-13  15.84375  15.53125  15.59375  15.62500  3992800.0   7.936015\n",
       "1995-01-16  15.96875  15.75000  15.90625  15.75000  3677200.0   7.999504\n",
       "1995-01-17  15.81250  15.65625  15.71875  15.81250  2437600.0   8.031249\n",
       "1995-01-18  15.75000  15.43750  15.68750  15.46875  3535200.0   7.856655\n",
       "1995-01-19  15.40625  15.34375  15.34375  15.40625  2491200.0   7.824911\n",
       "1995-01-20  15.40625  15.25000  15.40625  15.34375  5130800.0   7.793169\n",
       "1995-01-23  15.50000  15.18750  15.18750  15.50000  3147200.0   7.872523\n",
       "1995-01-24  15.53125  15.37500  15.50000  15.46875  2016400.0   7.856655\n",
       "1995-01-25  15.78125  15.43750  15.50000  15.68750  2802400.0   7.967761\n",
       "1995-01-26  15.84375  15.68750  15.71875  15.75000  3124000.0   7.999504\n",
       "1995-01-27  16.25000  15.81250  15.81250  16.18750  6247200.0   8.221710\n",
       "1995-01-30  16.56250  16.09375  16.12500  16.43750  5226400.0   8.348688"
      ]
     },
     "execution_count": 42,
     "metadata": {},
     "output_type": "execute_result"
    }
   ],
   "source": [
    "PG.head(20)"
   ]
  },
  {
   "cell_type": "code",
   "execution_count": 43,
   "id": "44484b21",
   "metadata": {},
   "outputs": [
    {
     "data": {
      "text/html": [
       "<div>\n",
       "<style scoped>\n",
       "    .dataframe tbody tr th:only-of-type {\n",
       "        vertical-align: middle;\n",
       "    }\n",
       "\n",
       "    .dataframe tbody tr th {\n",
       "        vertical-align: top;\n",
       "    }\n",
       "\n",
       "    .dataframe thead th {\n",
       "        text-align: right;\n",
       "    }\n",
       "</style>\n",
       "<table border=\"1\" class=\"dataframe\">\n",
       "  <thead>\n",
       "    <tr style=\"text-align: right;\">\n",
       "      <th></th>\n",
       "      <th>High</th>\n",
       "      <th>Low</th>\n",
       "      <th>Open</th>\n",
       "      <th>Close</th>\n",
       "      <th>Volume</th>\n",
       "      <th>Adj Close</th>\n",
       "    </tr>\n",
       "    <tr>\n",
       "      <th>Date</th>\n",
       "      <th></th>\n",
       "      <th></th>\n",
       "      <th></th>\n",
       "      <th></th>\n",
       "      <th></th>\n",
       "      <th></th>\n",
       "    </tr>\n",
       "  </thead>\n",
       "  <tbody>\n",
       "    <tr>\n",
       "      <th>2022-06-29</th>\n",
       "      <td>142.860001</td>\n",
       "      <td>141.149994</td>\n",
       "      <td>141.600006</td>\n",
       "      <td>142.199997</td>\n",
       "      <td>5174600.0</td>\n",
       "      <td>141.282806</td>\n",
       "    </tr>\n",
       "    <tr>\n",
       "      <th>2022-06-30</th>\n",
       "      <td>144.440002</td>\n",
       "      <td>141.229996</td>\n",
       "      <td>141.690002</td>\n",
       "      <td>143.789993</td>\n",
       "      <td>7410100.0</td>\n",
       "      <td>142.862549</td>\n",
       "    </tr>\n",
       "    <tr>\n",
       "      <th>2022-07-01</th>\n",
       "      <td>146.250000</td>\n",
       "      <td>143.399994</td>\n",
       "      <td>144.240005</td>\n",
       "      <td>146.110001</td>\n",
       "      <td>5937200.0</td>\n",
       "      <td>145.167587</td>\n",
       "    </tr>\n",
       "    <tr>\n",
       "      <th>2022-07-05</th>\n",
       "      <td>146.100006</td>\n",
       "      <td>142.539993</td>\n",
       "      <td>144.580002</td>\n",
       "      <td>144.699997</td>\n",
       "      <td>5760900.0</td>\n",
       "      <td>143.766678</td>\n",
       "    </tr>\n",
       "    <tr>\n",
       "      <th>2022-07-06</th>\n",
       "      <td>147.490005</td>\n",
       "      <td>144.970001</td>\n",
       "      <td>145.509995</td>\n",
       "      <td>146.050003</td>\n",
       "      <td>5485200.0</td>\n",
       "      <td>145.107986</td>\n",
       "    </tr>\n",
       "    <tr>\n",
       "      <th>2022-07-07</th>\n",
       "      <td>146.190002</td>\n",
       "      <td>144.600006</td>\n",
       "      <td>145.289993</td>\n",
       "      <td>146.000000</td>\n",
       "      <td>6623400.0</td>\n",
       "      <td>145.058304</td>\n",
       "    </tr>\n",
       "    <tr>\n",
       "      <th>2022-07-08</th>\n",
       "      <td>146.809998</td>\n",
       "      <td>144.570007</td>\n",
       "      <td>145.990005</td>\n",
       "      <td>145.020004</td>\n",
       "      <td>4293700.0</td>\n",
       "      <td>144.084625</td>\n",
       "    </tr>\n",
       "    <tr>\n",
       "      <th>2022-07-11</th>\n",
       "      <td>146.580002</td>\n",
       "      <td>144.679993</td>\n",
       "      <td>145.149994</td>\n",
       "      <td>146.039993</td>\n",
       "      <td>5482900.0</td>\n",
       "      <td>145.098038</td>\n",
       "    </tr>\n",
       "    <tr>\n",
       "      <th>2022-07-12</th>\n",
       "      <td>146.919998</td>\n",
       "      <td>144.369995</td>\n",
       "      <td>145.860001</td>\n",
       "      <td>144.750000</td>\n",
       "      <td>5204400.0</td>\n",
       "      <td>143.816360</td>\n",
       "    </tr>\n",
       "    <tr>\n",
       "      <th>2022-07-13</th>\n",
       "      <td>146.960007</td>\n",
       "      <td>144.210007</td>\n",
       "      <td>144.410004</td>\n",
       "      <td>145.699997</td>\n",
       "      <td>5075600.0</td>\n",
       "      <td>144.760239</td>\n",
       "    </tr>\n",
       "    <tr>\n",
       "      <th>2022-07-14</th>\n",
       "      <td>145.529999</td>\n",
       "      <td>143.470001</td>\n",
       "      <td>143.759995</td>\n",
       "      <td>145.270004</td>\n",
       "      <td>4867000.0</td>\n",
       "      <td>144.333008</td>\n",
       "    </tr>\n",
       "    <tr>\n",
       "      <th>2022-07-15</th>\n",
       "      <td>145.699997</td>\n",
       "      <td>144.100006</td>\n",
       "      <td>145.339996</td>\n",
       "      <td>145.070007</td>\n",
       "      <td>6228400.0</td>\n",
       "      <td>144.134308</td>\n",
       "    </tr>\n",
       "    <tr>\n",
       "      <th>2022-07-18</th>\n",
       "      <td>145.089996</td>\n",
       "      <td>143.169998</td>\n",
       "      <td>144.940002</td>\n",
       "      <td>143.309998</td>\n",
       "      <td>6047500.0</td>\n",
       "      <td>142.385651</td>\n",
       "    </tr>\n",
       "    <tr>\n",
       "      <th>2022-07-19</th>\n",
       "      <td>145.009995</td>\n",
       "      <td>143.639999</td>\n",
       "      <td>144.570007</td>\n",
       "      <td>144.039993</td>\n",
       "      <td>5943600.0</td>\n",
       "      <td>143.110931</td>\n",
       "    </tr>\n",
       "    <tr>\n",
       "      <th>2022-07-20</th>\n",
       "      <td>144.220001</td>\n",
       "      <td>140.639999</td>\n",
       "      <td>144.000000</td>\n",
       "      <td>141.550003</td>\n",
       "      <td>8635300.0</td>\n",
       "      <td>140.637009</td>\n",
       "    </tr>\n",
       "    <tr>\n",
       "      <th>2022-07-21</th>\n",
       "      <td>141.360001</td>\n",
       "      <td>138.949997</td>\n",
       "      <td>140.600006</td>\n",
       "      <td>140.770004</td>\n",
       "      <td>8310200.0</td>\n",
       "      <td>140.770004</td>\n",
       "    </tr>\n",
       "    <tr>\n",
       "      <th>2022-07-22</th>\n",
       "      <td>143.169998</td>\n",
       "      <td>140.669998</td>\n",
       "      <td>140.759995</td>\n",
       "      <td>143.020004</td>\n",
       "      <td>5292700.0</td>\n",
       "      <td>143.020004</td>\n",
       "    </tr>\n",
       "    <tr>\n",
       "      <th>2022-07-25</th>\n",
       "      <td>144.419998</td>\n",
       "      <td>142.529999</td>\n",
       "      <td>142.800003</td>\n",
       "      <td>143.990005</td>\n",
       "      <td>5262100.0</td>\n",
       "      <td>143.990005</td>\n",
       "    </tr>\n",
       "    <tr>\n",
       "      <th>2022-07-26</th>\n",
       "      <td>144.490005</td>\n",
       "      <td>141.710007</td>\n",
       "      <td>142.690002</td>\n",
       "      <td>144.270004</td>\n",
       "      <td>5374900.0</td>\n",
       "      <td>144.270004</td>\n",
       "    </tr>\n",
       "    <tr>\n",
       "      <th>2022-07-27</th>\n",
       "      <td>145.399994</td>\n",
       "      <td>143.529999</td>\n",
       "      <td>143.880005</td>\n",
       "      <td>145.244995</td>\n",
       "      <td>3013429.0</td>\n",
       "      <td>145.244995</td>\n",
       "    </tr>\n",
       "  </tbody>\n",
       "</table>\n",
       "</div>"
      ],
      "text/plain": [
       "                  High         Low        Open       Close     Volume  \\\n",
       "Date                                                                    \n",
       "2022-06-29  142.860001  141.149994  141.600006  142.199997  5174600.0   \n",
       "2022-06-30  144.440002  141.229996  141.690002  143.789993  7410100.0   \n",
       "2022-07-01  146.250000  143.399994  144.240005  146.110001  5937200.0   \n",
       "2022-07-05  146.100006  142.539993  144.580002  144.699997  5760900.0   \n",
       "2022-07-06  147.490005  144.970001  145.509995  146.050003  5485200.0   \n",
       "2022-07-07  146.190002  144.600006  145.289993  146.000000  6623400.0   \n",
       "2022-07-08  146.809998  144.570007  145.990005  145.020004  4293700.0   \n",
       "2022-07-11  146.580002  144.679993  145.149994  146.039993  5482900.0   \n",
       "2022-07-12  146.919998  144.369995  145.860001  144.750000  5204400.0   \n",
       "2022-07-13  146.960007  144.210007  144.410004  145.699997  5075600.0   \n",
       "2022-07-14  145.529999  143.470001  143.759995  145.270004  4867000.0   \n",
       "2022-07-15  145.699997  144.100006  145.339996  145.070007  6228400.0   \n",
       "2022-07-18  145.089996  143.169998  144.940002  143.309998  6047500.0   \n",
       "2022-07-19  145.009995  143.639999  144.570007  144.039993  5943600.0   \n",
       "2022-07-20  144.220001  140.639999  144.000000  141.550003  8635300.0   \n",
       "2022-07-21  141.360001  138.949997  140.600006  140.770004  8310200.0   \n",
       "2022-07-22  143.169998  140.669998  140.759995  143.020004  5292700.0   \n",
       "2022-07-25  144.419998  142.529999  142.800003  143.990005  5262100.0   \n",
       "2022-07-26  144.490005  141.710007  142.690002  144.270004  5374900.0   \n",
       "2022-07-27  145.399994  143.529999  143.880005  145.244995  3013429.0   \n",
       "\n",
       "             Adj Close  \n",
       "Date                    \n",
       "2022-06-29  141.282806  \n",
       "2022-06-30  142.862549  \n",
       "2022-07-01  145.167587  \n",
       "2022-07-05  143.766678  \n",
       "2022-07-06  145.107986  \n",
       "2022-07-07  145.058304  \n",
       "2022-07-08  144.084625  \n",
       "2022-07-11  145.098038  \n",
       "2022-07-12  143.816360  \n",
       "2022-07-13  144.760239  \n",
       "2022-07-14  144.333008  \n",
       "2022-07-15  144.134308  \n",
       "2022-07-18  142.385651  \n",
       "2022-07-19  143.110931  \n",
       "2022-07-20  140.637009  \n",
       "2022-07-21  140.770004  \n",
       "2022-07-22  143.020004  \n",
       "2022-07-25  143.990005  \n",
       "2022-07-26  144.270004  \n",
       "2022-07-27  145.244995  "
      ]
     },
     "execution_count": 43,
     "metadata": {},
     "output_type": "execute_result"
    }
   ],
   "source": [
    "PG.tail(20)"
   ]
  },
  {
   "cell_type": "code",
   "execution_count": 44,
   "id": "0f0b3124",
   "metadata": {},
   "outputs": [],
   "source": [
    "tickers = ['PG', 'MSFT', 'T', 'F', 'GE']\n",
    "new_data = pd.DataFrame()\n",
    "for t in tickers:\n",
    "    new_data[t] = wb.DataReader(t, data_source = 'yahoo', start = '1995-1-1')['Adj Close']"
   ]
  },
  {
   "cell_type": "code",
   "execution_count": 45,
   "id": "d4c38dfd",
   "metadata": {},
   "outputs": [
    {
     "data": {
      "text/html": [
       "<div>\n",
       "<style scoped>\n",
       "    .dataframe tbody tr th:only-of-type {\n",
       "        vertical-align: middle;\n",
       "    }\n",
       "\n",
       "    .dataframe tbody tr th {\n",
       "        vertical-align: top;\n",
       "    }\n",
       "\n",
       "    .dataframe thead th {\n",
       "        text-align: right;\n",
       "    }\n",
       "</style>\n",
       "<table border=\"1\" class=\"dataframe\">\n",
       "  <thead>\n",
       "    <tr style=\"text-align: right;\">\n",
       "      <th></th>\n",
       "      <th>PG</th>\n",
       "      <th>MSFT</th>\n",
       "      <th>T</th>\n",
       "      <th>F</th>\n",
       "      <th>GE</th>\n",
       "    </tr>\n",
       "    <tr>\n",
       "      <th>Date</th>\n",
       "      <th></th>\n",
       "      <th></th>\n",
       "      <th></th>\n",
       "      <th></th>\n",
       "      <th></th>\n",
       "    </tr>\n",
       "  </thead>\n",
       "  <tbody>\n",
       "    <tr>\n",
       "      <th>2022-07-21</th>\n",
       "      <td>140.770004</td>\n",
       "      <td>264.839996</td>\n",
       "      <td>18.920000</td>\n",
       "      <td>13.000</td>\n",
       "      <td>68.129997</td>\n",
       "    </tr>\n",
       "    <tr>\n",
       "      <th>2022-07-22</th>\n",
       "      <td>143.020004</td>\n",
       "      <td>260.359985</td>\n",
       "      <td>18.400000</td>\n",
       "      <td>12.820</td>\n",
       "      <td>68.190002</td>\n",
       "    </tr>\n",
       "    <tr>\n",
       "      <th>2022-07-25</th>\n",
       "      <td>143.990005</td>\n",
       "      <td>258.829987</td>\n",
       "      <td>18.530001</td>\n",
       "      <td>12.840</td>\n",
       "      <td>68.360001</td>\n",
       "    </tr>\n",
       "    <tr>\n",
       "      <th>2022-07-26</th>\n",
       "      <td>144.270004</td>\n",
       "      <td>251.899994</td>\n",
       "      <td>18.299999</td>\n",
       "      <td>12.540</td>\n",
       "      <td>71.510002</td>\n",
       "    </tr>\n",
       "    <tr>\n",
       "      <th>2022-07-27</th>\n",
       "      <td>146.065002</td>\n",
       "      <td>268.894989</td>\n",
       "      <td>18.385000</td>\n",
       "      <td>13.138</td>\n",
       "      <td>71.440002</td>\n",
       "    </tr>\n",
       "  </tbody>\n",
       "</table>\n",
       "</div>"
      ],
      "text/plain": [
       "                    PG        MSFT          T       F         GE\n",
       "Date                                                            \n",
       "2022-07-21  140.770004  264.839996  18.920000  13.000  68.129997\n",
       "2022-07-22  143.020004  260.359985  18.400000  12.820  68.190002\n",
       "2022-07-25  143.990005  258.829987  18.530001  12.840  68.360001\n",
       "2022-07-26  144.270004  251.899994  18.299999  12.540  71.510002\n",
       "2022-07-27  146.065002  268.894989  18.385000  13.138  71.440002"
      ]
     },
     "execution_count": 45,
     "metadata": {},
     "output_type": "execute_result"
    }
   ],
   "source": [
    "new_data.tail()"
   ]
  },
  {
   "cell_type": "markdown",
   "id": "8df4f51a",
   "metadata": {},
   "source": [
    "# Importing Data Part III"
   ]
  },
  {
   "cell_type": "code",
   "execution_count": 53,
   "id": "1e72e840",
   "metadata": {},
   "outputs": [],
   "source": [
    "import quandl"
   ]
  },
  {
   "cell_type": "code",
   "execution_count": 54,
   "id": "c8898d00",
   "metadata": {},
   "outputs": [],
   "source": [
    "mydata_01 = quandl.get(\"FRED/GDP\")"
   ]
  },
  {
   "cell_type": "code",
   "execution_count": 55,
   "id": "4310bc25",
   "metadata": {},
   "outputs": [
    {
     "data": {
      "text/html": [
       "<div>\n",
       "<style scoped>\n",
       "    .dataframe tbody tr th:only-of-type {\n",
       "        vertical-align: middle;\n",
       "    }\n",
       "\n",
       "    .dataframe tbody tr th {\n",
       "        vertical-align: top;\n",
       "    }\n",
       "\n",
       "    .dataframe thead th {\n",
       "        text-align: right;\n",
       "    }\n",
       "</style>\n",
       "<table border=\"1\" class=\"dataframe\">\n",
       "  <thead>\n",
       "    <tr style=\"text-align: right;\">\n",
       "      <th></th>\n",
       "      <th>Value</th>\n",
       "    </tr>\n",
       "    <tr>\n",
       "      <th>Date</th>\n",
       "      <th></th>\n",
       "    </tr>\n",
       "  </thead>\n",
       "  <tbody>\n",
       "    <tr>\n",
       "      <th>2020-10-01</th>\n",
       "      <td>21477.597</td>\n",
       "    </tr>\n",
       "    <tr>\n",
       "      <th>2021-01-01</th>\n",
       "      <td>22038.226</td>\n",
       "    </tr>\n",
       "    <tr>\n",
       "      <th>2021-04-01</th>\n",
       "      <td>22740.959</td>\n",
       "    </tr>\n",
       "    <tr>\n",
       "      <th>2021-07-01</th>\n",
       "      <td>23202.344</td>\n",
       "    </tr>\n",
       "    <tr>\n",
       "      <th>2021-10-01</th>\n",
       "      <td>23992.355</td>\n",
       "    </tr>\n",
       "  </tbody>\n",
       "</table>\n",
       "</div>"
      ],
      "text/plain": [
       "                Value\n",
       "Date                 \n",
       "2020-10-01  21477.597\n",
       "2021-01-01  22038.226\n",
       "2021-04-01  22740.959\n",
       "2021-07-01  23202.344\n",
       "2021-10-01  23992.355"
      ]
     },
     "execution_count": 55,
     "metadata": {},
     "output_type": "execute_result"
    }
   ],
   "source": [
    "mydata_01.tail()"
   ]
  },
  {
   "cell_type": "code",
   "execution_count": 56,
   "id": "dc658795",
   "metadata": {},
   "outputs": [
    {
     "data": {
      "text/html": [
       "<div>\n",
       "<style scoped>\n",
       "    .dataframe tbody tr th:only-of-type {\n",
       "        vertical-align: middle;\n",
       "    }\n",
       "\n",
       "    .dataframe tbody tr th {\n",
       "        vertical-align: top;\n",
       "    }\n",
       "\n",
       "    .dataframe thead th {\n",
       "        text-align: right;\n",
       "    }\n",
       "</style>\n",
       "<table border=\"1\" class=\"dataframe\">\n",
       "  <thead>\n",
       "    <tr style=\"text-align: right;\">\n",
       "      <th></th>\n",
       "      <th>Value</th>\n",
       "    </tr>\n",
       "    <tr>\n",
       "      <th>Date</th>\n",
       "      <th></th>\n",
       "    </tr>\n",
       "  </thead>\n",
       "  <tbody>\n",
       "    <tr>\n",
       "      <th>1947-01-01</th>\n",
       "      <td>243.164</td>\n",
       "    </tr>\n",
       "    <tr>\n",
       "      <th>1947-04-01</th>\n",
       "      <td>245.968</td>\n",
       "    </tr>\n",
       "    <tr>\n",
       "      <th>1947-07-01</th>\n",
       "      <td>249.585</td>\n",
       "    </tr>\n",
       "    <tr>\n",
       "      <th>1947-10-01</th>\n",
       "      <td>259.745</td>\n",
       "    </tr>\n",
       "    <tr>\n",
       "      <th>1948-01-01</th>\n",
       "      <td>265.742</td>\n",
       "    </tr>\n",
       "  </tbody>\n",
       "</table>\n",
       "</div>"
      ],
      "text/plain": [
       "              Value\n",
       "Date               \n",
       "1947-01-01  243.164\n",
       "1947-04-01  245.968\n",
       "1947-07-01  249.585\n",
       "1947-10-01  259.745\n",
       "1948-01-01  265.742"
      ]
     },
     "execution_count": 56,
     "metadata": {},
     "output_type": "execute_result"
    }
   ],
   "source": [
    "mydata_01.head()"
   ]
  },
  {
   "cell_type": "code",
   "execution_count": 57,
   "id": "d4d17b6d",
   "metadata": {},
   "outputs": [],
   "source": [
    "import pandas as pd"
   ]
  },
  {
   "cell_type": "code",
   "execution_count": 59,
   "id": "c684b7a6",
   "metadata": {},
   "outputs": [],
   "source": [
    "mydata_01.to_csv('C:/Users/jrccj/OneDrive/Documents/Python Scripts/example_01.csv')"
   ]
  },
  {
   "cell_type": "code",
   "execution_count": 63,
   "id": "e77351be",
   "metadata": {},
   "outputs": [],
   "source": [
    "mydata_02 = pd.read_csv('C:/Users/jrccj/OneDrive/Documents/Python Scripts/Python for Finance - Code Files/57 Importing Data - Part III/CSV/Python 3 CSV/Data_02.csv')"
   ]
  },
  {
   "cell_type": "code",
   "execution_count": 64,
   "id": "8564bbb5",
   "metadata": {
    "scrolled": false
   },
   "outputs": [
    {
     "data": {
      "text/html": [
       "<div>\n",
       "<style scoped>\n",
       "    .dataframe tbody tr th:only-of-type {\n",
       "        vertical-align: middle;\n",
       "    }\n",
       "\n",
       "    .dataframe tbody tr th {\n",
       "        vertical-align: top;\n",
       "    }\n",
       "\n",
       "    .dataframe thead th {\n",
       "        text-align: right;\n",
       "    }\n",
       "</style>\n",
       "<table border=\"1\" class=\"dataframe\">\n",
       "  <thead>\n",
       "    <tr style=\"text-align: right;\">\n",
       "      <th></th>\n",
       "      <th>Date</th>\n",
       "      <th>Open</th>\n",
       "      <th>High</th>\n",
       "      <th>Low</th>\n",
       "      <th>Close</th>\n",
       "      <th>Volume</th>\n",
       "      <th>Ex-Dividend</th>\n",
       "      <th>Split Ratio</th>\n",
       "      <th>Adj. Open</th>\n",
       "      <th>Adj. High</th>\n",
       "      <th>Adj. Low</th>\n",
       "      <th>Adj. Close</th>\n",
       "      <th>Adj. Volume</th>\n",
       "    </tr>\n",
       "  </thead>\n",
       "  <tbody>\n",
       "    <tr>\n",
       "      <th>0</th>\n",
       "      <td>2017-03-03</td>\n",
       "      <td>136.63</td>\n",
       "      <td>137.3300</td>\n",
       "      <td>136.08</td>\n",
       "      <td>137.1300</td>\n",
       "      <td>11095605.0</td>\n",
       "      <td>0.0</td>\n",
       "      <td>1.0</td>\n",
       "      <td>136.63</td>\n",
       "      <td>137.3300</td>\n",
       "      <td>136.08</td>\n",
       "      <td>137.1300</td>\n",
       "      <td>11095605.0</td>\n",
       "    </tr>\n",
       "    <tr>\n",
       "      <th>1</th>\n",
       "      <td>2017-03-02</td>\n",
       "      <td>137.09</td>\n",
       "      <td>137.8200</td>\n",
       "      <td>136.31</td>\n",
       "      <td>136.7603</td>\n",
       "      <td>12243028.0</td>\n",
       "      <td>0.0</td>\n",
       "      <td>1.0</td>\n",
       "      <td>137.09</td>\n",
       "      <td>137.8200</td>\n",
       "      <td>136.31</td>\n",
       "      <td>136.7603</td>\n",
       "      <td>12243028.0</td>\n",
       "    </tr>\n",
       "    <tr>\n",
       "      <th>2</th>\n",
       "      <td>2017-03-01</td>\n",
       "      <td>136.47</td>\n",
       "      <td>137.4800</td>\n",
       "      <td>136.30</td>\n",
       "      <td>137.4200</td>\n",
       "      <td>16257010.0</td>\n",
       "      <td>0.0</td>\n",
       "      <td>1.0</td>\n",
       "      <td>136.47</td>\n",
       "      <td>137.4800</td>\n",
       "      <td>136.30</td>\n",
       "      <td>137.4200</td>\n",
       "      <td>16257010.0</td>\n",
       "    </tr>\n",
       "    <tr>\n",
       "      <th>3</th>\n",
       "      <td>2017-02-28</td>\n",
       "      <td>136.79</td>\n",
       "      <td>136.8050</td>\n",
       "      <td>134.75</td>\n",
       "      <td>135.5400</td>\n",
       "      <td>16112092.0</td>\n",
       "      <td>0.0</td>\n",
       "      <td>1.0</td>\n",
       "      <td>136.79</td>\n",
       "      <td>136.8050</td>\n",
       "      <td>134.75</td>\n",
       "      <td>135.5400</td>\n",
       "      <td>16112092.0</td>\n",
       "    </tr>\n",
       "    <tr>\n",
       "      <th>4</th>\n",
       "      <td>2017-02-27</td>\n",
       "      <td>135.26</td>\n",
       "      <td>137.1846</td>\n",
       "      <td>135.02</td>\n",
       "      <td>136.4100</td>\n",
       "      <td>14306668.0</td>\n",
       "      <td>0.0</td>\n",
       "      <td>1.0</td>\n",
       "      <td>135.26</td>\n",
       "      <td>137.1846</td>\n",
       "      <td>135.02</td>\n",
       "      <td>136.4100</td>\n",
       "      <td>14306668.0</td>\n",
       "    </tr>\n",
       "  </tbody>\n",
       "</table>\n",
       "</div>"
      ],
      "text/plain": [
       "         Date    Open      High     Low     Close      Volume  Ex-Dividend  \\\n",
       "0  2017-03-03  136.63  137.3300  136.08  137.1300  11095605.0          0.0   \n",
       "1  2017-03-02  137.09  137.8200  136.31  136.7603  12243028.0          0.0   \n",
       "2  2017-03-01  136.47  137.4800  136.30  137.4200  16257010.0          0.0   \n",
       "3  2017-02-28  136.79  136.8050  134.75  135.5400  16112092.0          0.0   \n",
       "4  2017-02-27  135.26  137.1846  135.02  136.4100  14306668.0          0.0   \n",
       "\n",
       "   Split Ratio  Adj. Open  Adj. High  Adj. Low  Adj. Close  Adj. Volume  \n",
       "0          1.0     136.63   137.3300    136.08    137.1300   11095605.0  \n",
       "1          1.0     137.09   137.8200    136.31    136.7603   12243028.0  \n",
       "2          1.0     136.47   137.4800    136.30    137.4200   16257010.0  \n",
       "3          1.0     136.79   136.8050    134.75    135.5400   16112092.0  \n",
       "4          1.0     135.26   137.1846    135.02    136.4100   14306668.0  "
      ]
     },
     "execution_count": 64,
     "metadata": {},
     "output_type": "execute_result"
    }
   ],
   "source": [
    "mydata_02.head()"
   ]
  },
  {
   "cell_type": "code",
   "execution_count": 65,
   "id": "c47dc5cd",
   "metadata": {},
   "outputs": [
    {
     "data": {
      "text/html": [
       "<div>\n",
       "<style scoped>\n",
       "    .dataframe tbody tr th:only-of-type {\n",
       "        vertical-align: middle;\n",
       "    }\n",
       "\n",
       "    .dataframe tbody tr th {\n",
       "        vertical-align: top;\n",
       "    }\n",
       "\n",
       "    .dataframe thead th {\n",
       "        text-align: right;\n",
       "    }\n",
       "</style>\n",
       "<table border=\"1\" class=\"dataframe\">\n",
       "  <thead>\n",
       "    <tr style=\"text-align: right;\">\n",
       "      <th></th>\n",
       "      <th>Date</th>\n",
       "      <th>Open</th>\n",
       "      <th>High</th>\n",
       "      <th>Low</th>\n",
       "      <th>Close</th>\n",
       "      <th>Volume</th>\n",
       "      <th>Ex-Dividend</th>\n",
       "      <th>Split Ratio</th>\n",
       "      <th>Adj. Open</th>\n",
       "      <th>Adj. High</th>\n",
       "      <th>Adj. Low</th>\n",
       "      <th>Adj. Close</th>\n",
       "      <th>Adj. Volume</th>\n",
       "    </tr>\n",
       "  </thead>\n",
       "  <tbody>\n",
       "    <tr>\n",
       "      <th>1200</th>\n",
       "      <td>2012-05-24</td>\n",
       "      <td>32.95</td>\n",
       "      <td>33.21</td>\n",
       "      <td>31.77</td>\n",
       "      <td>33.0300</td>\n",
       "      <td>50237200.0</td>\n",
       "      <td>0.0</td>\n",
       "      <td>1.0</td>\n",
       "      <td>32.95</td>\n",
       "      <td>33.21</td>\n",
       "      <td>31.77</td>\n",
       "      <td>33.0300</td>\n",
       "      <td>50237200.0</td>\n",
       "    </tr>\n",
       "    <tr>\n",
       "      <th>1201</th>\n",
       "      <td>2012-05-23</td>\n",
       "      <td>31.37</td>\n",
       "      <td>32.50</td>\n",
       "      <td>31.36</td>\n",
       "      <td>32.0000</td>\n",
       "      <td>73600000.0</td>\n",
       "      <td>0.0</td>\n",
       "      <td>1.0</td>\n",
       "      <td>31.37</td>\n",
       "      <td>32.50</td>\n",
       "      <td>31.36</td>\n",
       "      <td>32.0000</td>\n",
       "      <td>73600000.0</td>\n",
       "    </tr>\n",
       "    <tr>\n",
       "      <th>1202</th>\n",
       "      <td>2012-05-22</td>\n",
       "      <td>32.61</td>\n",
       "      <td>33.59</td>\n",
       "      <td>30.94</td>\n",
       "      <td>31.0000</td>\n",
       "      <td>101786600.0</td>\n",
       "      <td>0.0</td>\n",
       "      <td>1.0</td>\n",
       "      <td>32.61</td>\n",
       "      <td>33.59</td>\n",
       "      <td>30.94</td>\n",
       "      <td>31.0000</td>\n",
       "      <td>101786600.0</td>\n",
       "    </tr>\n",
       "    <tr>\n",
       "      <th>1203</th>\n",
       "      <td>2012-05-21</td>\n",
       "      <td>36.53</td>\n",
       "      <td>36.66</td>\n",
       "      <td>33.00</td>\n",
       "      <td>34.0300</td>\n",
       "      <td>168192700.0</td>\n",
       "      <td>0.0</td>\n",
       "      <td>1.0</td>\n",
       "      <td>36.53</td>\n",
       "      <td>36.66</td>\n",
       "      <td>33.00</td>\n",
       "      <td>34.0300</td>\n",
       "      <td>168192700.0</td>\n",
       "    </tr>\n",
       "    <tr>\n",
       "      <th>1204</th>\n",
       "      <td>2012-05-18</td>\n",
       "      <td>42.05</td>\n",
       "      <td>45.00</td>\n",
       "      <td>38.00</td>\n",
       "      <td>38.2318</td>\n",
       "      <td>573576400.0</td>\n",
       "      <td>0.0</td>\n",
       "      <td>1.0</td>\n",
       "      <td>42.05</td>\n",
       "      <td>45.00</td>\n",
       "      <td>38.00</td>\n",
       "      <td>38.2318</td>\n",
       "      <td>573576400.0</td>\n",
       "    </tr>\n",
       "  </tbody>\n",
       "</table>\n",
       "</div>"
      ],
      "text/plain": [
       "            Date   Open   High    Low    Close       Volume  Ex-Dividend  \\\n",
       "1200  2012-05-24  32.95  33.21  31.77  33.0300   50237200.0          0.0   \n",
       "1201  2012-05-23  31.37  32.50  31.36  32.0000   73600000.0          0.0   \n",
       "1202  2012-05-22  32.61  33.59  30.94  31.0000  101786600.0          0.0   \n",
       "1203  2012-05-21  36.53  36.66  33.00  34.0300  168192700.0          0.0   \n",
       "1204  2012-05-18  42.05  45.00  38.00  38.2318  573576400.0          0.0   \n",
       "\n",
       "      Split Ratio  Adj. Open  Adj. High  Adj. Low  Adj. Close  Adj. Volume  \n",
       "1200          1.0      32.95      33.21     31.77     33.0300   50237200.0  \n",
       "1201          1.0      31.37      32.50     31.36     32.0000   73600000.0  \n",
       "1202          1.0      32.61      33.59     30.94     31.0000  101786600.0  \n",
       "1203          1.0      36.53      36.66     33.00     34.0300  168192700.0  \n",
       "1204          1.0      42.05      45.00     38.00     38.2318  573576400.0  "
      ]
     },
     "execution_count": 65,
     "metadata": {},
     "output_type": "execute_result"
    }
   ],
   "source": [
    "mydata_02.tail()"
   ]
  },
  {
   "cell_type": "code",
   "execution_count": 69,
   "id": "71697085",
   "metadata": {},
   "outputs": [],
   "source": [
    "mydata_02 = pd.read_csv('C:/Users/jrccj/OneDrive/Documents/Python Scripts/Python for Finance - Code Files/57 Importing Data - Part III/CSV/Python 3 CSV/Data_02.csv', index_col = 'Date')"
   ]
  },
  {
   "cell_type": "code",
   "execution_count": 70,
   "id": "83b91e82",
   "metadata": {},
   "outputs": [
    {
     "data": {
      "text/html": [
       "<div>\n",
       "<style scoped>\n",
       "    .dataframe tbody tr th:only-of-type {\n",
       "        vertical-align: middle;\n",
       "    }\n",
       "\n",
       "    .dataframe tbody tr th {\n",
       "        vertical-align: top;\n",
       "    }\n",
       "\n",
       "    .dataframe thead th {\n",
       "        text-align: right;\n",
       "    }\n",
       "</style>\n",
       "<table border=\"1\" class=\"dataframe\">\n",
       "  <thead>\n",
       "    <tr style=\"text-align: right;\">\n",
       "      <th></th>\n",
       "      <th>Open</th>\n",
       "      <th>High</th>\n",
       "      <th>Low</th>\n",
       "      <th>Close</th>\n",
       "      <th>Volume</th>\n",
       "      <th>Ex-Dividend</th>\n",
       "      <th>Split Ratio</th>\n",
       "      <th>Adj. Open</th>\n",
       "      <th>Adj. High</th>\n",
       "      <th>Adj. Low</th>\n",
       "      <th>Adj. Close</th>\n",
       "      <th>Adj. Volume</th>\n",
       "    </tr>\n",
       "    <tr>\n",
       "      <th>Date</th>\n",
       "      <th></th>\n",
       "      <th></th>\n",
       "      <th></th>\n",
       "      <th></th>\n",
       "      <th></th>\n",
       "      <th></th>\n",
       "      <th></th>\n",
       "      <th></th>\n",
       "      <th></th>\n",
       "      <th></th>\n",
       "      <th></th>\n",
       "      <th></th>\n",
       "    </tr>\n",
       "  </thead>\n",
       "  <tbody>\n",
       "    <tr>\n",
       "      <th>2017-03-03</th>\n",
       "      <td>136.63</td>\n",
       "      <td>137.3300</td>\n",
       "      <td>136.08</td>\n",
       "      <td>137.1300</td>\n",
       "      <td>11095605.0</td>\n",
       "      <td>0.0</td>\n",
       "      <td>1.0</td>\n",
       "      <td>136.63</td>\n",
       "      <td>137.3300</td>\n",
       "      <td>136.08</td>\n",
       "      <td>137.1300</td>\n",
       "      <td>11095605.0</td>\n",
       "    </tr>\n",
       "    <tr>\n",
       "      <th>2017-03-02</th>\n",
       "      <td>137.09</td>\n",
       "      <td>137.8200</td>\n",
       "      <td>136.31</td>\n",
       "      <td>136.7603</td>\n",
       "      <td>12243028.0</td>\n",
       "      <td>0.0</td>\n",
       "      <td>1.0</td>\n",
       "      <td>137.09</td>\n",
       "      <td>137.8200</td>\n",
       "      <td>136.31</td>\n",
       "      <td>136.7603</td>\n",
       "      <td>12243028.0</td>\n",
       "    </tr>\n",
       "    <tr>\n",
       "      <th>2017-03-01</th>\n",
       "      <td>136.47</td>\n",
       "      <td>137.4800</td>\n",
       "      <td>136.30</td>\n",
       "      <td>137.4200</td>\n",
       "      <td>16257010.0</td>\n",
       "      <td>0.0</td>\n",
       "      <td>1.0</td>\n",
       "      <td>136.47</td>\n",
       "      <td>137.4800</td>\n",
       "      <td>136.30</td>\n",
       "      <td>137.4200</td>\n",
       "      <td>16257010.0</td>\n",
       "    </tr>\n",
       "    <tr>\n",
       "      <th>2017-02-28</th>\n",
       "      <td>136.79</td>\n",
       "      <td>136.8050</td>\n",
       "      <td>134.75</td>\n",
       "      <td>135.5400</td>\n",
       "      <td>16112092.0</td>\n",
       "      <td>0.0</td>\n",
       "      <td>1.0</td>\n",
       "      <td>136.79</td>\n",
       "      <td>136.8050</td>\n",
       "      <td>134.75</td>\n",
       "      <td>135.5400</td>\n",
       "      <td>16112092.0</td>\n",
       "    </tr>\n",
       "    <tr>\n",
       "      <th>2017-02-27</th>\n",
       "      <td>135.26</td>\n",
       "      <td>137.1846</td>\n",
       "      <td>135.02</td>\n",
       "      <td>136.4100</td>\n",
       "      <td>14306668.0</td>\n",
       "      <td>0.0</td>\n",
       "      <td>1.0</td>\n",
       "      <td>135.26</td>\n",
       "      <td>137.1846</td>\n",
       "      <td>135.02</td>\n",
       "      <td>136.4100</td>\n",
       "      <td>14306668.0</td>\n",
       "    </tr>\n",
       "    <tr>\n",
       "      <th>...</th>\n",
       "      <td>...</td>\n",
       "      <td>...</td>\n",
       "      <td>...</td>\n",
       "      <td>...</td>\n",
       "      <td>...</td>\n",
       "      <td>...</td>\n",
       "      <td>...</td>\n",
       "      <td>...</td>\n",
       "      <td>...</td>\n",
       "      <td>...</td>\n",
       "      <td>...</td>\n",
       "      <td>...</td>\n",
       "    </tr>\n",
       "    <tr>\n",
       "      <th>2012-05-24</th>\n",
       "      <td>32.95</td>\n",
       "      <td>33.2100</td>\n",
       "      <td>31.77</td>\n",
       "      <td>33.0300</td>\n",
       "      <td>50237200.0</td>\n",
       "      <td>0.0</td>\n",
       "      <td>1.0</td>\n",
       "      <td>32.95</td>\n",
       "      <td>33.2100</td>\n",
       "      <td>31.77</td>\n",
       "      <td>33.0300</td>\n",
       "      <td>50237200.0</td>\n",
       "    </tr>\n",
       "    <tr>\n",
       "      <th>2012-05-23</th>\n",
       "      <td>31.37</td>\n",
       "      <td>32.5000</td>\n",
       "      <td>31.36</td>\n",
       "      <td>32.0000</td>\n",
       "      <td>73600000.0</td>\n",
       "      <td>0.0</td>\n",
       "      <td>1.0</td>\n",
       "      <td>31.37</td>\n",
       "      <td>32.5000</td>\n",
       "      <td>31.36</td>\n",
       "      <td>32.0000</td>\n",
       "      <td>73600000.0</td>\n",
       "    </tr>\n",
       "    <tr>\n",
       "      <th>2012-05-22</th>\n",
       "      <td>32.61</td>\n",
       "      <td>33.5900</td>\n",
       "      <td>30.94</td>\n",
       "      <td>31.0000</td>\n",
       "      <td>101786600.0</td>\n",
       "      <td>0.0</td>\n",
       "      <td>1.0</td>\n",
       "      <td>32.61</td>\n",
       "      <td>33.5900</td>\n",
       "      <td>30.94</td>\n",
       "      <td>31.0000</td>\n",
       "      <td>101786600.0</td>\n",
       "    </tr>\n",
       "    <tr>\n",
       "      <th>2012-05-21</th>\n",
       "      <td>36.53</td>\n",
       "      <td>36.6600</td>\n",
       "      <td>33.00</td>\n",
       "      <td>34.0300</td>\n",
       "      <td>168192700.0</td>\n",
       "      <td>0.0</td>\n",
       "      <td>1.0</td>\n",
       "      <td>36.53</td>\n",
       "      <td>36.6600</td>\n",
       "      <td>33.00</td>\n",
       "      <td>34.0300</td>\n",
       "      <td>168192700.0</td>\n",
       "    </tr>\n",
       "    <tr>\n",
       "      <th>2012-05-18</th>\n",
       "      <td>42.05</td>\n",
       "      <td>45.0000</td>\n",
       "      <td>38.00</td>\n",
       "      <td>38.2318</td>\n",
       "      <td>573576400.0</td>\n",
       "      <td>0.0</td>\n",
       "      <td>1.0</td>\n",
       "      <td>42.05</td>\n",
       "      <td>45.0000</td>\n",
       "      <td>38.00</td>\n",
       "      <td>38.2318</td>\n",
       "      <td>573576400.0</td>\n",
       "    </tr>\n",
       "  </tbody>\n",
       "</table>\n",
       "<p>1205 rows × 12 columns</p>\n",
       "</div>"
      ],
      "text/plain": [
       "              Open      High     Low     Close       Volume  Ex-Dividend  \\\n",
       "Date                                                                       \n",
       "2017-03-03  136.63  137.3300  136.08  137.1300   11095605.0          0.0   \n",
       "2017-03-02  137.09  137.8200  136.31  136.7603   12243028.0          0.0   \n",
       "2017-03-01  136.47  137.4800  136.30  137.4200   16257010.0          0.0   \n",
       "2017-02-28  136.79  136.8050  134.75  135.5400   16112092.0          0.0   \n",
       "2017-02-27  135.26  137.1846  135.02  136.4100   14306668.0          0.0   \n",
       "...            ...       ...     ...       ...          ...          ...   \n",
       "2012-05-24   32.95   33.2100   31.77   33.0300   50237200.0          0.0   \n",
       "2012-05-23   31.37   32.5000   31.36   32.0000   73600000.0          0.0   \n",
       "2012-05-22   32.61   33.5900   30.94   31.0000  101786600.0          0.0   \n",
       "2012-05-21   36.53   36.6600   33.00   34.0300  168192700.0          0.0   \n",
       "2012-05-18   42.05   45.0000   38.00   38.2318  573576400.0          0.0   \n",
       "\n",
       "            Split Ratio  Adj. Open  Adj. High  Adj. Low  Adj. Close  \\\n",
       "Date                                                                  \n",
       "2017-03-03          1.0     136.63   137.3300    136.08    137.1300   \n",
       "2017-03-02          1.0     137.09   137.8200    136.31    136.7603   \n",
       "2017-03-01          1.0     136.47   137.4800    136.30    137.4200   \n",
       "2017-02-28          1.0     136.79   136.8050    134.75    135.5400   \n",
       "2017-02-27          1.0     135.26   137.1846    135.02    136.4100   \n",
       "...                 ...        ...        ...       ...         ...   \n",
       "2012-05-24          1.0      32.95    33.2100     31.77     33.0300   \n",
       "2012-05-23          1.0      31.37    32.5000     31.36     32.0000   \n",
       "2012-05-22          1.0      32.61    33.5900     30.94     31.0000   \n",
       "2012-05-21          1.0      36.53    36.6600     33.00     34.0300   \n",
       "2012-05-18          1.0      42.05    45.0000     38.00     38.2318   \n",
       "\n",
       "            Adj. Volume  \n",
       "Date                     \n",
       "2017-03-03   11095605.0  \n",
       "2017-03-02   12243028.0  \n",
       "2017-03-01   16257010.0  \n",
       "2017-02-28   16112092.0  \n",
       "2017-02-27   14306668.0  \n",
       "...                 ...  \n",
       "2012-05-24   50237200.0  \n",
       "2012-05-23   73600000.0  \n",
       "2012-05-22  101786600.0  \n",
       "2012-05-21  168192700.0  \n",
       "2012-05-18  573576400.0  \n",
       "\n",
       "[1205 rows x 12 columns]"
      ]
     },
     "execution_count": 70,
     "metadata": {},
     "output_type": "execute_result"
    }
   ],
   "source": [
    "mydata_02"
   ]
  },
  {
   "cell_type": "code",
   "execution_count": 66,
   "id": "a29cb1ae",
   "metadata": {},
   "outputs": [],
   "source": [
    "mydata_02.to_excel('C:/Users/jrccj/OneDrive/Documents/Python Scripts/example_02.xlsx')"
   ]
  },
  {
   "cell_type": "code",
   "execution_count": 67,
   "id": "cb1a3e17",
   "metadata": {},
   "outputs": [],
   "source": [
    "mydata_03 = pd.read_excel('C:/Users/jrccj/OneDrive/Documents/Python Scripts/Python for Finance - Code Files/57 Importing Data - Part III/CSV/Python 3 CSV/Data_03.xlsx')"
   ]
  },
  {
   "cell_type": "code",
   "execution_count": 68,
   "id": "06258062",
   "metadata": {},
   "outputs": [
    {
     "data": {
      "text/html": [
       "<div>\n",
       "<style scoped>\n",
       "    .dataframe tbody tr th:only-of-type {\n",
       "        vertical-align: middle;\n",
       "    }\n",
       "\n",
       "    .dataframe tbody tr th {\n",
       "        vertical-align: top;\n",
       "    }\n",
       "\n",
       "    .dataframe thead th {\n",
       "        text-align: right;\n",
       "    }\n",
       "</style>\n",
       "<table border=\"1\" class=\"dataframe\">\n",
       "  <thead>\n",
       "    <tr style=\"text-align: right;\">\n",
       "      <th></th>\n",
       "      <th>Year</th>\n",
       "      <th>Gas Exp</th>\n",
       "      <th>Pop</th>\n",
       "      <th>Gasp</th>\n",
       "      <th>Income</th>\n",
       "    </tr>\n",
       "  </thead>\n",
       "  <tbody>\n",
       "    <tr>\n",
       "      <th>0</th>\n",
       "      <td>1953</td>\n",
       "      <td>7.400000</td>\n",
       "      <td>159565</td>\n",
       "      <td>16.667999</td>\n",
       "      <td>8883</td>\n",
       "    </tr>\n",
       "    <tr>\n",
       "      <th>1</th>\n",
       "      <td>1954</td>\n",
       "      <td>7.800000</td>\n",
       "      <td>162391</td>\n",
       "      <td>17.028999</td>\n",
       "      <td>8685</td>\n",
       "    </tr>\n",
       "    <tr>\n",
       "      <th>2</th>\n",
       "      <td>1955</td>\n",
       "      <td>8.600000</td>\n",
       "      <td>165275</td>\n",
       "      <td>17.209999</td>\n",
       "      <td>9137</td>\n",
       "    </tr>\n",
       "    <tr>\n",
       "      <th>3</th>\n",
       "      <td>1956</td>\n",
       "      <td>9.400000</td>\n",
       "      <td>168221</td>\n",
       "      <td>17.729000</td>\n",
       "      <td>9436</td>\n",
       "    </tr>\n",
       "    <tr>\n",
       "      <th>4</th>\n",
       "      <td>1957</td>\n",
       "      <td>10.200000</td>\n",
       "      <td>171274</td>\n",
       "      <td>18.497000</td>\n",
       "      <td>9534</td>\n",
       "    </tr>\n",
       "    <tr>\n",
       "      <th>5</th>\n",
       "      <td>1958</td>\n",
       "      <td>10.600000</td>\n",
       "      <td>174141</td>\n",
       "      <td>18.316000</td>\n",
       "      <td>9343</td>\n",
       "    </tr>\n",
       "    <tr>\n",
       "      <th>6</th>\n",
       "      <td>1959</td>\n",
       "      <td>11.300000</td>\n",
       "      <td>177130</td>\n",
       "      <td>18.576000</td>\n",
       "      <td>9738</td>\n",
       "    </tr>\n",
       "    <tr>\n",
       "      <th>7</th>\n",
       "      <td>1960</td>\n",
       "      <td>12.000000</td>\n",
       "      <td>180760</td>\n",
       "      <td>19.112000</td>\n",
       "      <td>9770</td>\n",
       "    </tr>\n",
       "    <tr>\n",
       "      <th>8</th>\n",
       "      <td>1961</td>\n",
       "      <td>12.000000</td>\n",
       "      <td>183742</td>\n",
       "      <td>18.924000</td>\n",
       "      <td>9843</td>\n",
       "    </tr>\n",
       "    <tr>\n",
       "      <th>9</th>\n",
       "      <td>1962</td>\n",
       "      <td>12.600000</td>\n",
       "      <td>186590</td>\n",
       "      <td>19.042999</td>\n",
       "      <td>10226</td>\n",
       "    </tr>\n",
       "    <tr>\n",
       "      <th>10</th>\n",
       "      <td>1963</td>\n",
       "      <td>13.000000</td>\n",
       "      <td>189300</td>\n",
       "      <td>18.997000</td>\n",
       "      <td>10398</td>\n",
       "    </tr>\n",
       "    <tr>\n",
       "      <th>11</th>\n",
       "      <td>1964</td>\n",
       "      <td>13.600000</td>\n",
       "      <td>191927</td>\n",
       "      <td>18.872999</td>\n",
       "      <td>11051</td>\n",
       "    </tr>\n",
       "    <tr>\n",
       "      <th>12</th>\n",
       "      <td>1965</td>\n",
       "      <td>14.800000</td>\n",
       "      <td>194347</td>\n",
       "      <td>19.587000</td>\n",
       "      <td>11430</td>\n",
       "    </tr>\n",
       "    <tr>\n",
       "      <th>13</th>\n",
       "      <td>1966</td>\n",
       "      <td>16.000000</td>\n",
       "      <td>196599</td>\n",
       "      <td>20.038000</td>\n",
       "      <td>11981</td>\n",
       "    </tr>\n",
       "    <tr>\n",
       "      <th>14</th>\n",
       "      <td>1967</td>\n",
       "      <td>17.100000</td>\n",
       "      <td>198752</td>\n",
       "      <td>20.700001</td>\n",
       "      <td>12418</td>\n",
       "    </tr>\n",
       "    <tr>\n",
       "      <th>15</th>\n",
       "      <td>1968</td>\n",
       "      <td>18.600000</td>\n",
       "      <td>200745</td>\n",
       "      <td>21.004999</td>\n",
       "      <td>12932</td>\n",
       "    </tr>\n",
       "    <tr>\n",
       "      <th>16</th>\n",
       "      <td>1969</td>\n",
       "      <td>20.500000</td>\n",
       "      <td>202736</td>\n",
       "      <td>21.695999</td>\n",
       "      <td>13060</td>\n",
       "    </tr>\n",
       "    <tr>\n",
       "      <th>17</th>\n",
       "      <td>1970</td>\n",
       "      <td>21.900000</td>\n",
       "      <td>205089</td>\n",
       "      <td>21.889999</td>\n",
       "      <td>13567</td>\n",
       "    </tr>\n",
       "    <tr>\n",
       "      <th>18</th>\n",
       "      <td>1971</td>\n",
       "      <td>23.200001</td>\n",
       "      <td>207692</td>\n",
       "      <td>22.049999</td>\n",
       "      <td>14008</td>\n",
       "    </tr>\n",
       "    <tr>\n",
       "      <th>19</th>\n",
       "      <td>1972</td>\n",
       "      <td>24.400000</td>\n",
       "      <td>209924</td>\n",
       "      <td>22.336000</td>\n",
       "      <td>14270</td>\n",
       "    </tr>\n",
       "    <tr>\n",
       "      <th>20</th>\n",
       "      <td>1973</td>\n",
       "      <td>28.100000</td>\n",
       "      <td>211939</td>\n",
       "      <td>24.473000</td>\n",
       "      <td>15309</td>\n",
       "    </tr>\n",
       "    <tr>\n",
       "      <th>21</th>\n",
       "      <td>1974</td>\n",
       "      <td>36.099998</td>\n",
       "      <td>213898</td>\n",
       "      <td>33.058998</td>\n",
       "      <td>15074</td>\n",
       "    </tr>\n",
       "    <tr>\n",
       "      <th>22</th>\n",
       "      <td>1975</td>\n",
       "      <td>39.700001</td>\n",
       "      <td>215981</td>\n",
       "      <td>35.278000</td>\n",
       "      <td>15555</td>\n",
       "    </tr>\n",
       "    <tr>\n",
       "      <th>23</th>\n",
       "      <td>1976</td>\n",
       "      <td>43.000000</td>\n",
       "      <td>218086</td>\n",
       "      <td>36.777000</td>\n",
       "      <td>15693</td>\n",
       "    </tr>\n",
       "    <tr>\n",
       "      <th>24</th>\n",
       "      <td>1977</td>\n",
       "      <td>46.900002</td>\n",
       "      <td>220289</td>\n",
       "      <td>38.907001</td>\n",
       "      <td>15991</td>\n",
       "    </tr>\n",
       "    <tr>\n",
       "      <th>25</th>\n",
       "      <td>1978</td>\n",
       "      <td>50.099998</td>\n",
       "      <td>222629</td>\n",
       "      <td>40.597000</td>\n",
       "      <td>16674</td>\n",
       "    </tr>\n",
       "    <tr>\n",
       "      <th>26</th>\n",
       "      <td>1979</td>\n",
       "      <td>66.199997</td>\n",
       "      <td>225106</td>\n",
       "      <td>54.405998</td>\n",
       "      <td>16843</td>\n",
       "    </tr>\n",
       "    <tr>\n",
       "      <th>27</th>\n",
       "      <td>1980</td>\n",
       "      <td>86.699997</td>\n",
       "      <td>227726</td>\n",
       "      <td>75.509003</td>\n",
       "      <td>16711</td>\n",
       "    </tr>\n",
       "    <tr>\n",
       "      <th>28</th>\n",
       "      <td>1981</td>\n",
       "      <td>97.900002</td>\n",
       "      <td>230008</td>\n",
       "      <td>84.017998</td>\n",
       "      <td>17046</td>\n",
       "    </tr>\n",
       "    <tr>\n",
       "      <th>29</th>\n",
       "      <td>1982</td>\n",
       "      <td>94.099998</td>\n",
       "      <td>232218</td>\n",
       "      <td>79.767998</td>\n",
       "      <td>17429</td>\n",
       "    </tr>\n",
       "    <tr>\n",
       "      <th>30</th>\n",
       "      <td>1983</td>\n",
       "      <td>93.099998</td>\n",
       "      <td>234333</td>\n",
       "      <td>77.160004</td>\n",
       "      <td>17659</td>\n",
       "    </tr>\n",
       "    <tr>\n",
       "      <th>31</th>\n",
       "      <td>1984</td>\n",
       "      <td>94.599998</td>\n",
       "      <td>236394</td>\n",
       "      <td>76.004997</td>\n",
       "      <td>18922</td>\n",
       "    </tr>\n",
       "    <tr>\n",
       "      <th>32</th>\n",
       "      <td>1985</td>\n",
       "      <td>97.199997</td>\n",
       "      <td>238506</td>\n",
       "      <td>76.619003</td>\n",
       "      <td>19622</td>\n",
       "    </tr>\n",
       "    <tr>\n",
       "      <th>33</th>\n",
       "      <td>1986</td>\n",
       "      <td>80.099998</td>\n",
       "      <td>240683</td>\n",
       "      <td>60.174999</td>\n",
       "      <td>19944</td>\n",
       "    </tr>\n",
       "    <tr>\n",
       "      <th>34</th>\n",
       "      <td>1987</td>\n",
       "      <td>85.400002</td>\n",
       "      <td>242843</td>\n",
       "      <td>62.487999</td>\n",
       "      <td>19802</td>\n",
       "    </tr>\n",
       "    <tr>\n",
       "      <th>35</th>\n",
       "      <td>1988</td>\n",
       "      <td>88.300003</td>\n",
       "      <td>245061</td>\n",
       "      <td>63.016998</td>\n",
       "      <td>20682</td>\n",
       "    </tr>\n",
       "    <tr>\n",
       "      <th>36</th>\n",
       "      <td>1989</td>\n",
       "      <td>98.599998</td>\n",
       "      <td>247387</td>\n",
       "      <td>68.836998</td>\n",
       "      <td>21048</td>\n",
       "    </tr>\n",
       "    <tr>\n",
       "      <th>37</th>\n",
       "      <td>1990</td>\n",
       "      <td>111.199997</td>\n",
       "      <td>250181</td>\n",
       "      <td>78.385002</td>\n",
       "      <td>21379</td>\n",
       "    </tr>\n",
       "    <tr>\n",
       "      <th>38</th>\n",
       "      <td>1991</td>\n",
       "      <td>108.500000</td>\n",
       "      <td>253530</td>\n",
       "      <td>77.337997</td>\n",
       "      <td>21129</td>\n",
       "    </tr>\n",
       "    <tr>\n",
       "      <th>39</th>\n",
       "      <td>1992</td>\n",
       "      <td>112.400002</td>\n",
       "      <td>256922</td>\n",
       "      <td>77.040001</td>\n",
       "      <td>21505</td>\n",
       "    </tr>\n",
       "    <tr>\n",
       "      <th>40</th>\n",
       "      <td>1993</td>\n",
       "      <td>114.099998</td>\n",
       "      <td>260282</td>\n",
       "      <td>76.257004</td>\n",
       "      <td>21515</td>\n",
       "    </tr>\n",
       "    <tr>\n",
       "      <th>41</th>\n",
       "      <td>1994</td>\n",
       "      <td>116.199997</td>\n",
       "      <td>263455</td>\n",
       "      <td>76.613998</td>\n",
       "      <td>21797</td>\n",
       "    </tr>\n",
       "    <tr>\n",
       "      <th>42</th>\n",
       "      <td>1995</td>\n",
       "      <td>120.199997</td>\n",
       "      <td>266588</td>\n",
       "      <td>77.825996</td>\n",
       "      <td>22100</td>\n",
       "    </tr>\n",
       "    <tr>\n",
       "      <th>43</th>\n",
       "      <td>1996</td>\n",
       "      <td>130.399994</td>\n",
       "      <td>269714</td>\n",
       "      <td>82.596001</td>\n",
       "      <td>22506</td>\n",
       "    </tr>\n",
       "    <tr>\n",
       "      <th>44</th>\n",
       "      <td>1997</td>\n",
       "      <td>134.399994</td>\n",
       "      <td>272958</td>\n",
       "      <td>82.579002</td>\n",
       "      <td>22944</td>\n",
       "    </tr>\n",
       "    <tr>\n",
       "      <th>45</th>\n",
       "      <td>1998</td>\n",
       "      <td>122.400002</td>\n",
       "      <td>276154</td>\n",
       "      <td>71.874001</td>\n",
       "      <td>24079</td>\n",
       "    </tr>\n",
       "    <tr>\n",
       "      <th>46</th>\n",
       "      <td>1999</td>\n",
       "      <td>137.899994</td>\n",
       "      <td>279328</td>\n",
       "      <td>78.207001</td>\n",
       "      <td>24464</td>\n",
       "    </tr>\n",
       "    <tr>\n",
       "      <th>47</th>\n",
       "      <td>2000</td>\n",
       "      <td>175.699997</td>\n",
       "      <td>282429</td>\n",
       "      <td>100.000000</td>\n",
       "      <td>25380</td>\n",
       "    </tr>\n",
       "    <tr>\n",
       "      <th>48</th>\n",
       "      <td>2001</td>\n",
       "      <td>171.600006</td>\n",
       "      <td>285366</td>\n",
       "      <td>96.289001</td>\n",
       "      <td>25449</td>\n",
       "    </tr>\n",
       "    <tr>\n",
       "      <th>49</th>\n",
       "      <td>2002</td>\n",
       "      <td>163.399994</td>\n",
       "      <td>288217</td>\n",
       "      <td>90.404999</td>\n",
       "      <td>26352</td>\n",
       "    </tr>\n",
       "    <tr>\n",
       "      <th>50</th>\n",
       "      <td>2003</td>\n",
       "      <td>191.300003</td>\n",
       "      <td>291073</td>\n",
       "      <td>105.153999</td>\n",
       "      <td>26437</td>\n",
       "    </tr>\n",
       "    <tr>\n",
       "      <th>51</th>\n",
       "      <td>2004</td>\n",
       "      <td>224.500000</td>\n",
       "      <td>293951</td>\n",
       "      <td>123.901001</td>\n",
       "      <td>27113</td>\n",
       "    </tr>\n",
       "  </tbody>\n",
       "</table>\n",
       "</div>"
      ],
      "text/plain": [
       "    Year     Gas Exp     Pop        Gasp  Income\n",
       "0   1953    7.400000  159565   16.667999    8883\n",
       "1   1954    7.800000  162391   17.028999    8685\n",
       "2   1955    8.600000  165275   17.209999    9137\n",
       "3   1956    9.400000  168221   17.729000    9436\n",
       "4   1957   10.200000  171274   18.497000    9534\n",
       "5   1958   10.600000  174141   18.316000    9343\n",
       "6   1959   11.300000  177130   18.576000    9738\n",
       "7   1960   12.000000  180760   19.112000    9770\n",
       "8   1961   12.000000  183742   18.924000    9843\n",
       "9   1962   12.600000  186590   19.042999   10226\n",
       "10  1963   13.000000  189300   18.997000   10398\n",
       "11  1964   13.600000  191927   18.872999   11051\n",
       "12  1965   14.800000  194347   19.587000   11430\n",
       "13  1966   16.000000  196599   20.038000   11981\n",
       "14  1967   17.100000  198752   20.700001   12418\n",
       "15  1968   18.600000  200745   21.004999   12932\n",
       "16  1969   20.500000  202736   21.695999   13060\n",
       "17  1970   21.900000  205089   21.889999   13567\n",
       "18  1971   23.200001  207692   22.049999   14008\n",
       "19  1972   24.400000  209924   22.336000   14270\n",
       "20  1973   28.100000  211939   24.473000   15309\n",
       "21  1974   36.099998  213898   33.058998   15074\n",
       "22  1975   39.700001  215981   35.278000   15555\n",
       "23  1976   43.000000  218086   36.777000   15693\n",
       "24  1977   46.900002  220289   38.907001   15991\n",
       "25  1978   50.099998  222629   40.597000   16674\n",
       "26  1979   66.199997  225106   54.405998   16843\n",
       "27  1980   86.699997  227726   75.509003   16711\n",
       "28  1981   97.900002  230008   84.017998   17046\n",
       "29  1982   94.099998  232218   79.767998   17429\n",
       "30  1983   93.099998  234333   77.160004   17659\n",
       "31  1984   94.599998  236394   76.004997   18922\n",
       "32  1985   97.199997  238506   76.619003   19622\n",
       "33  1986   80.099998  240683   60.174999   19944\n",
       "34  1987   85.400002  242843   62.487999   19802\n",
       "35  1988   88.300003  245061   63.016998   20682\n",
       "36  1989   98.599998  247387   68.836998   21048\n",
       "37  1990  111.199997  250181   78.385002   21379\n",
       "38  1991  108.500000  253530   77.337997   21129\n",
       "39  1992  112.400002  256922   77.040001   21505\n",
       "40  1993  114.099998  260282   76.257004   21515\n",
       "41  1994  116.199997  263455   76.613998   21797\n",
       "42  1995  120.199997  266588   77.825996   22100\n",
       "43  1996  130.399994  269714   82.596001   22506\n",
       "44  1997  134.399994  272958   82.579002   22944\n",
       "45  1998  122.400002  276154   71.874001   24079\n",
       "46  1999  137.899994  279328   78.207001   24464\n",
       "47  2000  175.699997  282429  100.000000   25380\n",
       "48  2001  171.600006  285366   96.289001   25449\n",
       "49  2002  163.399994  288217   90.404999   26352\n",
       "50  2003  191.300003  291073  105.153999   26437\n",
       "51  2004  224.500000  293951  123.901001   27113"
      ]
     },
     "execution_count": 68,
     "metadata": {},
     "output_type": "execute_result"
    }
   ],
   "source": [
    "mydata_03"
   ]
  },
  {
   "cell_type": "code",
   "execution_count": 71,
   "id": "375e35a8",
   "metadata": {},
   "outputs": [
    {
     "data": {
      "text/html": [
       "<div>\n",
       "<style scoped>\n",
       "    .dataframe tbody tr th:only-of-type {\n",
       "        vertical-align: middle;\n",
       "    }\n",
       "\n",
       "    .dataframe tbody tr th {\n",
       "        vertical-align: top;\n",
       "    }\n",
       "\n",
       "    .dataframe thead th {\n",
       "        text-align: right;\n",
       "    }\n",
       "</style>\n",
       "<table border=\"1\" class=\"dataframe\">\n",
       "  <thead>\n",
       "    <tr style=\"text-align: right;\">\n",
       "      <th></th>\n",
       "      <th>Gas Exp</th>\n",
       "      <th>Pop</th>\n",
       "      <th>Gasp</th>\n",
       "      <th>Income</th>\n",
       "    </tr>\n",
       "    <tr>\n",
       "      <th>Year</th>\n",
       "      <th></th>\n",
       "      <th></th>\n",
       "      <th></th>\n",
       "      <th></th>\n",
       "    </tr>\n",
       "  </thead>\n",
       "  <tbody>\n",
       "    <tr>\n",
       "      <th>1953</th>\n",
       "      <td>7.400000</td>\n",
       "      <td>159565</td>\n",
       "      <td>16.667999</td>\n",
       "      <td>8883</td>\n",
       "    </tr>\n",
       "    <tr>\n",
       "      <th>1954</th>\n",
       "      <td>7.800000</td>\n",
       "      <td>162391</td>\n",
       "      <td>17.028999</td>\n",
       "      <td>8685</td>\n",
       "    </tr>\n",
       "    <tr>\n",
       "      <th>1955</th>\n",
       "      <td>8.600000</td>\n",
       "      <td>165275</td>\n",
       "      <td>17.209999</td>\n",
       "      <td>9137</td>\n",
       "    </tr>\n",
       "    <tr>\n",
       "      <th>1956</th>\n",
       "      <td>9.400000</td>\n",
       "      <td>168221</td>\n",
       "      <td>17.729000</td>\n",
       "      <td>9436</td>\n",
       "    </tr>\n",
       "    <tr>\n",
       "      <th>1957</th>\n",
       "      <td>10.200000</td>\n",
       "      <td>171274</td>\n",
       "      <td>18.497000</td>\n",
       "      <td>9534</td>\n",
       "    </tr>\n",
       "    <tr>\n",
       "      <th>1958</th>\n",
       "      <td>10.600000</td>\n",
       "      <td>174141</td>\n",
       "      <td>18.316000</td>\n",
       "      <td>9343</td>\n",
       "    </tr>\n",
       "    <tr>\n",
       "      <th>1959</th>\n",
       "      <td>11.300000</td>\n",
       "      <td>177130</td>\n",
       "      <td>18.576000</td>\n",
       "      <td>9738</td>\n",
       "    </tr>\n",
       "    <tr>\n",
       "      <th>1960</th>\n",
       "      <td>12.000000</td>\n",
       "      <td>180760</td>\n",
       "      <td>19.112000</td>\n",
       "      <td>9770</td>\n",
       "    </tr>\n",
       "    <tr>\n",
       "      <th>1961</th>\n",
       "      <td>12.000000</td>\n",
       "      <td>183742</td>\n",
       "      <td>18.924000</td>\n",
       "      <td>9843</td>\n",
       "    </tr>\n",
       "    <tr>\n",
       "      <th>1962</th>\n",
       "      <td>12.600000</td>\n",
       "      <td>186590</td>\n",
       "      <td>19.042999</td>\n",
       "      <td>10226</td>\n",
       "    </tr>\n",
       "    <tr>\n",
       "      <th>1963</th>\n",
       "      <td>13.000000</td>\n",
       "      <td>189300</td>\n",
       "      <td>18.997000</td>\n",
       "      <td>10398</td>\n",
       "    </tr>\n",
       "    <tr>\n",
       "      <th>1964</th>\n",
       "      <td>13.600000</td>\n",
       "      <td>191927</td>\n",
       "      <td>18.872999</td>\n",
       "      <td>11051</td>\n",
       "    </tr>\n",
       "    <tr>\n",
       "      <th>1965</th>\n",
       "      <td>14.800000</td>\n",
       "      <td>194347</td>\n",
       "      <td>19.587000</td>\n",
       "      <td>11430</td>\n",
       "    </tr>\n",
       "    <tr>\n",
       "      <th>1966</th>\n",
       "      <td>16.000000</td>\n",
       "      <td>196599</td>\n",
       "      <td>20.038000</td>\n",
       "      <td>11981</td>\n",
       "    </tr>\n",
       "    <tr>\n",
       "      <th>1967</th>\n",
       "      <td>17.100000</td>\n",
       "      <td>198752</td>\n",
       "      <td>20.700001</td>\n",
       "      <td>12418</td>\n",
       "    </tr>\n",
       "    <tr>\n",
       "      <th>1968</th>\n",
       "      <td>18.600000</td>\n",
       "      <td>200745</td>\n",
       "      <td>21.004999</td>\n",
       "      <td>12932</td>\n",
       "    </tr>\n",
       "    <tr>\n",
       "      <th>1969</th>\n",
       "      <td>20.500000</td>\n",
       "      <td>202736</td>\n",
       "      <td>21.695999</td>\n",
       "      <td>13060</td>\n",
       "    </tr>\n",
       "    <tr>\n",
       "      <th>1970</th>\n",
       "      <td>21.900000</td>\n",
       "      <td>205089</td>\n",
       "      <td>21.889999</td>\n",
       "      <td>13567</td>\n",
       "    </tr>\n",
       "    <tr>\n",
       "      <th>1971</th>\n",
       "      <td>23.200001</td>\n",
       "      <td>207692</td>\n",
       "      <td>22.049999</td>\n",
       "      <td>14008</td>\n",
       "    </tr>\n",
       "    <tr>\n",
       "      <th>1972</th>\n",
       "      <td>24.400000</td>\n",
       "      <td>209924</td>\n",
       "      <td>22.336000</td>\n",
       "      <td>14270</td>\n",
       "    </tr>\n",
       "    <tr>\n",
       "      <th>1973</th>\n",
       "      <td>28.100000</td>\n",
       "      <td>211939</td>\n",
       "      <td>24.473000</td>\n",
       "      <td>15309</td>\n",
       "    </tr>\n",
       "    <tr>\n",
       "      <th>1974</th>\n",
       "      <td>36.099998</td>\n",
       "      <td>213898</td>\n",
       "      <td>33.058998</td>\n",
       "      <td>15074</td>\n",
       "    </tr>\n",
       "    <tr>\n",
       "      <th>1975</th>\n",
       "      <td>39.700001</td>\n",
       "      <td>215981</td>\n",
       "      <td>35.278000</td>\n",
       "      <td>15555</td>\n",
       "    </tr>\n",
       "    <tr>\n",
       "      <th>1976</th>\n",
       "      <td>43.000000</td>\n",
       "      <td>218086</td>\n",
       "      <td>36.777000</td>\n",
       "      <td>15693</td>\n",
       "    </tr>\n",
       "    <tr>\n",
       "      <th>1977</th>\n",
       "      <td>46.900002</td>\n",
       "      <td>220289</td>\n",
       "      <td>38.907001</td>\n",
       "      <td>15991</td>\n",
       "    </tr>\n",
       "    <tr>\n",
       "      <th>1978</th>\n",
       "      <td>50.099998</td>\n",
       "      <td>222629</td>\n",
       "      <td>40.597000</td>\n",
       "      <td>16674</td>\n",
       "    </tr>\n",
       "    <tr>\n",
       "      <th>1979</th>\n",
       "      <td>66.199997</td>\n",
       "      <td>225106</td>\n",
       "      <td>54.405998</td>\n",
       "      <td>16843</td>\n",
       "    </tr>\n",
       "    <tr>\n",
       "      <th>1980</th>\n",
       "      <td>86.699997</td>\n",
       "      <td>227726</td>\n",
       "      <td>75.509003</td>\n",
       "      <td>16711</td>\n",
       "    </tr>\n",
       "    <tr>\n",
       "      <th>1981</th>\n",
       "      <td>97.900002</td>\n",
       "      <td>230008</td>\n",
       "      <td>84.017998</td>\n",
       "      <td>17046</td>\n",
       "    </tr>\n",
       "    <tr>\n",
       "      <th>1982</th>\n",
       "      <td>94.099998</td>\n",
       "      <td>232218</td>\n",
       "      <td>79.767998</td>\n",
       "      <td>17429</td>\n",
       "    </tr>\n",
       "    <tr>\n",
       "      <th>1983</th>\n",
       "      <td>93.099998</td>\n",
       "      <td>234333</td>\n",
       "      <td>77.160004</td>\n",
       "      <td>17659</td>\n",
       "    </tr>\n",
       "    <tr>\n",
       "      <th>1984</th>\n",
       "      <td>94.599998</td>\n",
       "      <td>236394</td>\n",
       "      <td>76.004997</td>\n",
       "      <td>18922</td>\n",
       "    </tr>\n",
       "    <tr>\n",
       "      <th>1985</th>\n",
       "      <td>97.199997</td>\n",
       "      <td>238506</td>\n",
       "      <td>76.619003</td>\n",
       "      <td>19622</td>\n",
       "    </tr>\n",
       "    <tr>\n",
       "      <th>1986</th>\n",
       "      <td>80.099998</td>\n",
       "      <td>240683</td>\n",
       "      <td>60.174999</td>\n",
       "      <td>19944</td>\n",
       "    </tr>\n",
       "    <tr>\n",
       "      <th>1987</th>\n",
       "      <td>85.400002</td>\n",
       "      <td>242843</td>\n",
       "      <td>62.487999</td>\n",
       "      <td>19802</td>\n",
       "    </tr>\n",
       "    <tr>\n",
       "      <th>1988</th>\n",
       "      <td>88.300003</td>\n",
       "      <td>245061</td>\n",
       "      <td>63.016998</td>\n",
       "      <td>20682</td>\n",
       "    </tr>\n",
       "    <tr>\n",
       "      <th>1989</th>\n",
       "      <td>98.599998</td>\n",
       "      <td>247387</td>\n",
       "      <td>68.836998</td>\n",
       "      <td>21048</td>\n",
       "    </tr>\n",
       "    <tr>\n",
       "      <th>1990</th>\n",
       "      <td>111.199997</td>\n",
       "      <td>250181</td>\n",
       "      <td>78.385002</td>\n",
       "      <td>21379</td>\n",
       "    </tr>\n",
       "    <tr>\n",
       "      <th>1991</th>\n",
       "      <td>108.500000</td>\n",
       "      <td>253530</td>\n",
       "      <td>77.337997</td>\n",
       "      <td>21129</td>\n",
       "    </tr>\n",
       "    <tr>\n",
       "      <th>1992</th>\n",
       "      <td>112.400002</td>\n",
       "      <td>256922</td>\n",
       "      <td>77.040001</td>\n",
       "      <td>21505</td>\n",
       "    </tr>\n",
       "    <tr>\n",
       "      <th>1993</th>\n",
       "      <td>114.099998</td>\n",
       "      <td>260282</td>\n",
       "      <td>76.257004</td>\n",
       "      <td>21515</td>\n",
       "    </tr>\n",
       "    <tr>\n",
       "      <th>1994</th>\n",
       "      <td>116.199997</td>\n",
       "      <td>263455</td>\n",
       "      <td>76.613998</td>\n",
       "      <td>21797</td>\n",
       "    </tr>\n",
       "    <tr>\n",
       "      <th>1995</th>\n",
       "      <td>120.199997</td>\n",
       "      <td>266588</td>\n",
       "      <td>77.825996</td>\n",
       "      <td>22100</td>\n",
       "    </tr>\n",
       "    <tr>\n",
       "      <th>1996</th>\n",
       "      <td>130.399994</td>\n",
       "      <td>269714</td>\n",
       "      <td>82.596001</td>\n",
       "      <td>22506</td>\n",
       "    </tr>\n",
       "    <tr>\n",
       "      <th>1997</th>\n",
       "      <td>134.399994</td>\n",
       "      <td>272958</td>\n",
       "      <td>82.579002</td>\n",
       "      <td>22944</td>\n",
       "    </tr>\n",
       "    <tr>\n",
       "      <th>1998</th>\n",
       "      <td>122.400002</td>\n",
       "      <td>276154</td>\n",
       "      <td>71.874001</td>\n",
       "      <td>24079</td>\n",
       "    </tr>\n",
       "    <tr>\n",
       "      <th>1999</th>\n",
       "      <td>137.899994</td>\n",
       "      <td>279328</td>\n",
       "      <td>78.207001</td>\n",
       "      <td>24464</td>\n",
       "    </tr>\n",
       "    <tr>\n",
       "      <th>2000</th>\n",
       "      <td>175.699997</td>\n",
       "      <td>282429</td>\n",
       "      <td>100.000000</td>\n",
       "      <td>25380</td>\n",
       "    </tr>\n",
       "    <tr>\n",
       "      <th>2001</th>\n",
       "      <td>171.600006</td>\n",
       "      <td>285366</td>\n",
       "      <td>96.289001</td>\n",
       "      <td>25449</td>\n",
       "    </tr>\n",
       "    <tr>\n",
       "      <th>2002</th>\n",
       "      <td>163.399994</td>\n",
       "      <td>288217</td>\n",
       "      <td>90.404999</td>\n",
       "      <td>26352</td>\n",
       "    </tr>\n",
       "    <tr>\n",
       "      <th>2003</th>\n",
       "      <td>191.300003</td>\n",
       "      <td>291073</td>\n",
       "      <td>105.153999</td>\n",
       "      <td>26437</td>\n",
       "    </tr>\n",
       "    <tr>\n",
       "      <th>2004</th>\n",
       "      <td>224.500000</td>\n",
       "      <td>293951</td>\n",
       "      <td>123.901001</td>\n",
       "      <td>27113</td>\n",
       "    </tr>\n",
       "  </tbody>\n",
       "</table>\n",
       "</div>"
      ],
      "text/plain": [
       "         Gas Exp     Pop        Gasp  Income\n",
       "Year                                        \n",
       "1953    7.400000  159565   16.667999    8883\n",
       "1954    7.800000  162391   17.028999    8685\n",
       "1955    8.600000  165275   17.209999    9137\n",
       "1956    9.400000  168221   17.729000    9436\n",
       "1957   10.200000  171274   18.497000    9534\n",
       "1958   10.600000  174141   18.316000    9343\n",
       "1959   11.300000  177130   18.576000    9738\n",
       "1960   12.000000  180760   19.112000    9770\n",
       "1961   12.000000  183742   18.924000    9843\n",
       "1962   12.600000  186590   19.042999   10226\n",
       "1963   13.000000  189300   18.997000   10398\n",
       "1964   13.600000  191927   18.872999   11051\n",
       "1965   14.800000  194347   19.587000   11430\n",
       "1966   16.000000  196599   20.038000   11981\n",
       "1967   17.100000  198752   20.700001   12418\n",
       "1968   18.600000  200745   21.004999   12932\n",
       "1969   20.500000  202736   21.695999   13060\n",
       "1970   21.900000  205089   21.889999   13567\n",
       "1971   23.200001  207692   22.049999   14008\n",
       "1972   24.400000  209924   22.336000   14270\n",
       "1973   28.100000  211939   24.473000   15309\n",
       "1974   36.099998  213898   33.058998   15074\n",
       "1975   39.700001  215981   35.278000   15555\n",
       "1976   43.000000  218086   36.777000   15693\n",
       "1977   46.900002  220289   38.907001   15991\n",
       "1978   50.099998  222629   40.597000   16674\n",
       "1979   66.199997  225106   54.405998   16843\n",
       "1980   86.699997  227726   75.509003   16711\n",
       "1981   97.900002  230008   84.017998   17046\n",
       "1982   94.099998  232218   79.767998   17429\n",
       "1983   93.099998  234333   77.160004   17659\n",
       "1984   94.599998  236394   76.004997   18922\n",
       "1985   97.199997  238506   76.619003   19622\n",
       "1986   80.099998  240683   60.174999   19944\n",
       "1987   85.400002  242843   62.487999   19802\n",
       "1988   88.300003  245061   63.016998   20682\n",
       "1989   98.599998  247387   68.836998   21048\n",
       "1990  111.199997  250181   78.385002   21379\n",
       "1991  108.500000  253530   77.337997   21129\n",
       "1992  112.400002  256922   77.040001   21505\n",
       "1993  114.099998  260282   76.257004   21515\n",
       "1994  116.199997  263455   76.613998   21797\n",
       "1995  120.199997  266588   77.825996   22100\n",
       "1996  130.399994  269714   82.596001   22506\n",
       "1997  134.399994  272958   82.579002   22944\n",
       "1998  122.400002  276154   71.874001   24079\n",
       "1999  137.899994  279328   78.207001   24464\n",
       "2000  175.699997  282429  100.000000   25380\n",
       "2001  171.600006  285366   96.289001   25449\n",
       "2002  163.399994  288217   90.404999   26352\n",
       "2003  191.300003  291073  105.153999   26437\n",
       "2004  224.500000  293951  123.901001   27113"
      ]
     },
     "execution_count": 71,
     "metadata": {},
     "output_type": "execute_result"
    }
   ],
   "source": [
    "mydata_03.set_index('Year')"
   ]
  },
  {
   "cell_type": "code",
   "execution_count": 74,
   "id": "9d559e87",
   "metadata": {},
   "outputs": [
    {
     "data": {
      "text/html": [
       "<div>\n",
       "<style scoped>\n",
       "    .dataframe tbody tr th:only-of-type {\n",
       "        vertical-align: middle;\n",
       "    }\n",
       "\n",
       "    .dataframe tbody tr th {\n",
       "        vertical-align: top;\n",
       "    }\n",
       "\n",
       "    .dataframe thead th {\n",
       "        text-align: right;\n",
       "    }\n",
       "</style>\n",
       "<table border=\"1\" class=\"dataframe\">\n",
       "  <thead>\n",
       "    <tr style=\"text-align: right;\">\n",
       "      <th></th>\n",
       "      <th>Gas Exp</th>\n",
       "      <th>Pop</th>\n",
       "      <th>Gasp</th>\n",
       "      <th>Income</th>\n",
       "    </tr>\n",
       "    <tr>\n",
       "      <th>Year</th>\n",
       "      <th></th>\n",
       "      <th></th>\n",
       "      <th></th>\n",
       "      <th></th>\n",
       "    </tr>\n",
       "  </thead>\n",
       "  <tbody>\n",
       "    <tr>\n",
       "      <th>1953</th>\n",
       "      <td>7.400000</td>\n",
       "      <td>159565</td>\n",
       "      <td>16.667999</td>\n",
       "      <td>8883</td>\n",
       "    </tr>\n",
       "    <tr>\n",
       "      <th>1954</th>\n",
       "      <td>7.800000</td>\n",
       "      <td>162391</td>\n",
       "      <td>17.028999</td>\n",
       "      <td>8685</td>\n",
       "    </tr>\n",
       "    <tr>\n",
       "      <th>1955</th>\n",
       "      <td>8.600000</td>\n",
       "      <td>165275</td>\n",
       "      <td>17.209999</td>\n",
       "      <td>9137</td>\n",
       "    </tr>\n",
       "    <tr>\n",
       "      <th>1956</th>\n",
       "      <td>9.400000</td>\n",
       "      <td>168221</td>\n",
       "      <td>17.729000</td>\n",
       "      <td>9436</td>\n",
       "    </tr>\n",
       "    <tr>\n",
       "      <th>1957</th>\n",
       "      <td>10.200000</td>\n",
       "      <td>171274</td>\n",
       "      <td>18.497000</td>\n",
       "      <td>9534</td>\n",
       "    </tr>\n",
       "    <tr>\n",
       "      <th>1958</th>\n",
       "      <td>10.600000</td>\n",
       "      <td>174141</td>\n",
       "      <td>18.316000</td>\n",
       "      <td>9343</td>\n",
       "    </tr>\n",
       "    <tr>\n",
       "      <th>1959</th>\n",
       "      <td>11.300000</td>\n",
       "      <td>177130</td>\n",
       "      <td>18.576000</td>\n",
       "      <td>9738</td>\n",
       "    </tr>\n",
       "    <tr>\n",
       "      <th>1960</th>\n",
       "      <td>12.000000</td>\n",
       "      <td>180760</td>\n",
       "      <td>19.112000</td>\n",
       "      <td>9770</td>\n",
       "    </tr>\n",
       "    <tr>\n",
       "      <th>1961</th>\n",
       "      <td>12.000000</td>\n",
       "      <td>183742</td>\n",
       "      <td>18.924000</td>\n",
       "      <td>9843</td>\n",
       "    </tr>\n",
       "    <tr>\n",
       "      <th>1962</th>\n",
       "      <td>12.600000</td>\n",
       "      <td>186590</td>\n",
       "      <td>19.042999</td>\n",
       "      <td>10226</td>\n",
       "    </tr>\n",
       "    <tr>\n",
       "      <th>1963</th>\n",
       "      <td>13.000000</td>\n",
       "      <td>189300</td>\n",
       "      <td>18.997000</td>\n",
       "      <td>10398</td>\n",
       "    </tr>\n",
       "    <tr>\n",
       "      <th>1964</th>\n",
       "      <td>13.600000</td>\n",
       "      <td>191927</td>\n",
       "      <td>18.872999</td>\n",
       "      <td>11051</td>\n",
       "    </tr>\n",
       "    <tr>\n",
       "      <th>1965</th>\n",
       "      <td>14.800000</td>\n",
       "      <td>194347</td>\n",
       "      <td>19.587000</td>\n",
       "      <td>11430</td>\n",
       "    </tr>\n",
       "    <tr>\n",
       "      <th>1966</th>\n",
       "      <td>16.000000</td>\n",
       "      <td>196599</td>\n",
       "      <td>20.038000</td>\n",
       "      <td>11981</td>\n",
       "    </tr>\n",
       "    <tr>\n",
       "      <th>1967</th>\n",
       "      <td>17.100000</td>\n",
       "      <td>198752</td>\n",
       "      <td>20.700001</td>\n",
       "      <td>12418</td>\n",
       "    </tr>\n",
       "    <tr>\n",
       "      <th>1968</th>\n",
       "      <td>18.600000</td>\n",
       "      <td>200745</td>\n",
       "      <td>21.004999</td>\n",
       "      <td>12932</td>\n",
       "    </tr>\n",
       "    <tr>\n",
       "      <th>1969</th>\n",
       "      <td>20.500000</td>\n",
       "      <td>202736</td>\n",
       "      <td>21.695999</td>\n",
       "      <td>13060</td>\n",
       "    </tr>\n",
       "    <tr>\n",
       "      <th>1970</th>\n",
       "      <td>21.900000</td>\n",
       "      <td>205089</td>\n",
       "      <td>21.889999</td>\n",
       "      <td>13567</td>\n",
       "    </tr>\n",
       "    <tr>\n",
       "      <th>1971</th>\n",
       "      <td>23.200001</td>\n",
       "      <td>207692</td>\n",
       "      <td>22.049999</td>\n",
       "      <td>14008</td>\n",
       "    </tr>\n",
       "    <tr>\n",
       "      <th>1972</th>\n",
       "      <td>24.400000</td>\n",
       "      <td>209924</td>\n",
       "      <td>22.336000</td>\n",
       "      <td>14270</td>\n",
       "    </tr>\n",
       "    <tr>\n",
       "      <th>1973</th>\n",
       "      <td>28.100000</td>\n",
       "      <td>211939</td>\n",
       "      <td>24.473000</td>\n",
       "      <td>15309</td>\n",
       "    </tr>\n",
       "    <tr>\n",
       "      <th>1974</th>\n",
       "      <td>36.099998</td>\n",
       "      <td>213898</td>\n",
       "      <td>33.058998</td>\n",
       "      <td>15074</td>\n",
       "    </tr>\n",
       "    <tr>\n",
       "      <th>1975</th>\n",
       "      <td>39.700001</td>\n",
       "      <td>215981</td>\n",
       "      <td>35.278000</td>\n",
       "      <td>15555</td>\n",
       "    </tr>\n",
       "    <tr>\n",
       "      <th>1976</th>\n",
       "      <td>43.000000</td>\n",
       "      <td>218086</td>\n",
       "      <td>36.777000</td>\n",
       "      <td>15693</td>\n",
       "    </tr>\n",
       "    <tr>\n",
       "      <th>1977</th>\n",
       "      <td>46.900002</td>\n",
       "      <td>220289</td>\n",
       "      <td>38.907001</td>\n",
       "      <td>15991</td>\n",
       "    </tr>\n",
       "    <tr>\n",
       "      <th>1978</th>\n",
       "      <td>50.099998</td>\n",
       "      <td>222629</td>\n",
       "      <td>40.597000</td>\n",
       "      <td>16674</td>\n",
       "    </tr>\n",
       "    <tr>\n",
       "      <th>1979</th>\n",
       "      <td>66.199997</td>\n",
       "      <td>225106</td>\n",
       "      <td>54.405998</td>\n",
       "      <td>16843</td>\n",
       "    </tr>\n",
       "    <tr>\n",
       "      <th>1980</th>\n",
       "      <td>86.699997</td>\n",
       "      <td>227726</td>\n",
       "      <td>75.509003</td>\n",
       "      <td>16711</td>\n",
       "    </tr>\n",
       "    <tr>\n",
       "      <th>1981</th>\n",
       "      <td>97.900002</td>\n",
       "      <td>230008</td>\n",
       "      <td>84.017998</td>\n",
       "      <td>17046</td>\n",
       "    </tr>\n",
       "    <tr>\n",
       "      <th>1982</th>\n",
       "      <td>94.099998</td>\n",
       "      <td>232218</td>\n",
       "      <td>79.767998</td>\n",
       "      <td>17429</td>\n",
       "    </tr>\n",
       "    <tr>\n",
       "      <th>1983</th>\n",
       "      <td>93.099998</td>\n",
       "      <td>234333</td>\n",
       "      <td>77.160004</td>\n",
       "      <td>17659</td>\n",
       "    </tr>\n",
       "    <tr>\n",
       "      <th>1984</th>\n",
       "      <td>94.599998</td>\n",
       "      <td>236394</td>\n",
       "      <td>76.004997</td>\n",
       "      <td>18922</td>\n",
       "    </tr>\n",
       "    <tr>\n",
       "      <th>1985</th>\n",
       "      <td>97.199997</td>\n",
       "      <td>238506</td>\n",
       "      <td>76.619003</td>\n",
       "      <td>19622</td>\n",
       "    </tr>\n",
       "    <tr>\n",
       "      <th>1986</th>\n",
       "      <td>80.099998</td>\n",
       "      <td>240683</td>\n",
       "      <td>60.174999</td>\n",
       "      <td>19944</td>\n",
       "    </tr>\n",
       "    <tr>\n",
       "      <th>1987</th>\n",
       "      <td>85.400002</td>\n",
       "      <td>242843</td>\n",
       "      <td>62.487999</td>\n",
       "      <td>19802</td>\n",
       "    </tr>\n",
       "    <tr>\n",
       "      <th>1988</th>\n",
       "      <td>88.300003</td>\n",
       "      <td>245061</td>\n",
       "      <td>63.016998</td>\n",
       "      <td>20682</td>\n",
       "    </tr>\n",
       "    <tr>\n",
       "      <th>1989</th>\n",
       "      <td>98.599998</td>\n",
       "      <td>247387</td>\n",
       "      <td>68.836998</td>\n",
       "      <td>21048</td>\n",
       "    </tr>\n",
       "    <tr>\n",
       "      <th>1990</th>\n",
       "      <td>111.199997</td>\n",
       "      <td>250181</td>\n",
       "      <td>78.385002</td>\n",
       "      <td>21379</td>\n",
       "    </tr>\n",
       "    <tr>\n",
       "      <th>1991</th>\n",
       "      <td>108.500000</td>\n",
       "      <td>253530</td>\n",
       "      <td>77.337997</td>\n",
       "      <td>21129</td>\n",
       "    </tr>\n",
       "    <tr>\n",
       "      <th>1992</th>\n",
       "      <td>112.400002</td>\n",
       "      <td>256922</td>\n",
       "      <td>77.040001</td>\n",
       "      <td>21505</td>\n",
       "    </tr>\n",
       "    <tr>\n",
       "      <th>1993</th>\n",
       "      <td>114.099998</td>\n",
       "      <td>260282</td>\n",
       "      <td>76.257004</td>\n",
       "      <td>21515</td>\n",
       "    </tr>\n",
       "    <tr>\n",
       "      <th>1994</th>\n",
       "      <td>116.199997</td>\n",
       "      <td>263455</td>\n",
       "      <td>76.613998</td>\n",
       "      <td>21797</td>\n",
       "    </tr>\n",
       "    <tr>\n",
       "      <th>1995</th>\n",
       "      <td>120.199997</td>\n",
       "      <td>266588</td>\n",
       "      <td>77.825996</td>\n",
       "      <td>22100</td>\n",
       "    </tr>\n",
       "    <tr>\n",
       "      <th>1996</th>\n",
       "      <td>130.399994</td>\n",
       "      <td>269714</td>\n",
       "      <td>82.596001</td>\n",
       "      <td>22506</td>\n",
       "    </tr>\n",
       "    <tr>\n",
       "      <th>1997</th>\n",
       "      <td>134.399994</td>\n",
       "      <td>272958</td>\n",
       "      <td>82.579002</td>\n",
       "      <td>22944</td>\n",
       "    </tr>\n",
       "    <tr>\n",
       "      <th>1998</th>\n",
       "      <td>122.400002</td>\n",
       "      <td>276154</td>\n",
       "      <td>71.874001</td>\n",
       "      <td>24079</td>\n",
       "    </tr>\n",
       "    <tr>\n",
       "      <th>1999</th>\n",
       "      <td>137.899994</td>\n",
       "      <td>279328</td>\n",
       "      <td>78.207001</td>\n",
       "      <td>24464</td>\n",
       "    </tr>\n",
       "    <tr>\n",
       "      <th>2000</th>\n",
       "      <td>175.699997</td>\n",
       "      <td>282429</td>\n",
       "      <td>100.000000</td>\n",
       "      <td>25380</td>\n",
       "    </tr>\n",
       "    <tr>\n",
       "      <th>2001</th>\n",
       "      <td>171.600006</td>\n",
       "      <td>285366</td>\n",
       "      <td>96.289001</td>\n",
       "      <td>25449</td>\n",
       "    </tr>\n",
       "    <tr>\n",
       "      <th>2002</th>\n",
       "      <td>163.399994</td>\n",
       "      <td>288217</td>\n",
       "      <td>90.404999</td>\n",
       "      <td>26352</td>\n",
       "    </tr>\n",
       "    <tr>\n",
       "      <th>2003</th>\n",
       "      <td>191.300003</td>\n",
       "      <td>291073</td>\n",
       "      <td>105.153999</td>\n",
       "      <td>26437</td>\n",
       "    </tr>\n",
       "    <tr>\n",
       "      <th>2004</th>\n",
       "      <td>224.500000</td>\n",
       "      <td>293951</td>\n",
       "      <td>123.901001</td>\n",
       "      <td>27113</td>\n",
       "    </tr>\n",
       "  </tbody>\n",
       "</table>\n",
       "</div>"
      ],
      "text/plain": [
       "         Gas Exp     Pop        Gasp  Income\n",
       "Year                                        \n",
       "1953    7.400000  159565   16.667999    8883\n",
       "1954    7.800000  162391   17.028999    8685\n",
       "1955    8.600000  165275   17.209999    9137\n",
       "1956    9.400000  168221   17.729000    9436\n",
       "1957   10.200000  171274   18.497000    9534\n",
       "1958   10.600000  174141   18.316000    9343\n",
       "1959   11.300000  177130   18.576000    9738\n",
       "1960   12.000000  180760   19.112000    9770\n",
       "1961   12.000000  183742   18.924000    9843\n",
       "1962   12.600000  186590   19.042999   10226\n",
       "1963   13.000000  189300   18.997000   10398\n",
       "1964   13.600000  191927   18.872999   11051\n",
       "1965   14.800000  194347   19.587000   11430\n",
       "1966   16.000000  196599   20.038000   11981\n",
       "1967   17.100000  198752   20.700001   12418\n",
       "1968   18.600000  200745   21.004999   12932\n",
       "1969   20.500000  202736   21.695999   13060\n",
       "1970   21.900000  205089   21.889999   13567\n",
       "1971   23.200001  207692   22.049999   14008\n",
       "1972   24.400000  209924   22.336000   14270\n",
       "1973   28.100000  211939   24.473000   15309\n",
       "1974   36.099998  213898   33.058998   15074\n",
       "1975   39.700001  215981   35.278000   15555\n",
       "1976   43.000000  218086   36.777000   15693\n",
       "1977   46.900002  220289   38.907001   15991\n",
       "1978   50.099998  222629   40.597000   16674\n",
       "1979   66.199997  225106   54.405998   16843\n",
       "1980   86.699997  227726   75.509003   16711\n",
       "1981   97.900002  230008   84.017998   17046\n",
       "1982   94.099998  232218   79.767998   17429\n",
       "1983   93.099998  234333   77.160004   17659\n",
       "1984   94.599998  236394   76.004997   18922\n",
       "1985   97.199997  238506   76.619003   19622\n",
       "1986   80.099998  240683   60.174999   19944\n",
       "1987   85.400002  242843   62.487999   19802\n",
       "1988   88.300003  245061   63.016998   20682\n",
       "1989   98.599998  247387   68.836998   21048\n",
       "1990  111.199997  250181   78.385002   21379\n",
       "1991  108.500000  253530   77.337997   21129\n",
       "1992  112.400002  256922   77.040001   21505\n",
       "1993  114.099998  260282   76.257004   21515\n",
       "1994  116.199997  263455   76.613998   21797\n",
       "1995  120.199997  266588   77.825996   22100\n",
       "1996  130.399994  269714   82.596001   22506\n",
       "1997  134.399994  272958   82.579002   22944\n",
       "1998  122.400002  276154   71.874001   24079\n",
       "1999  137.899994  279328   78.207001   24464\n",
       "2000  175.699997  282429  100.000000   25380\n",
       "2001  171.600006  285366   96.289001   25449\n",
       "2002  163.399994  288217   90.404999   26352\n",
       "2003  191.300003  291073  105.153999   26437\n",
       "2004  224.500000  293951  123.901001   27113"
      ]
     },
     "execution_count": 74,
     "metadata": {},
     "output_type": "execute_result"
    }
   ],
   "source": [
    "mydata_03"
   ]
  },
  {
   "cell_type": "code",
   "execution_count": null,
   "id": "cf9df5d1",
   "metadata": {},
   "outputs": [],
   "source": []
  }
 ],
 "metadata": {
  "kernelspec": {
   "display_name": "Python 3",
   "language": "python",
   "name": "python3"
  },
  "language_info": {
   "codemirror_mode": {
    "name": "ipython",
    "version": 3
   },
   "file_extension": ".py",
   "mimetype": "text/x-python",
   "name": "python",
   "nbconvert_exporter": "python",
   "pygments_lexer": "ipython3",
   "version": "3.8.8"
  }
 },
 "nbformat": 4,
 "nbformat_minor": 5
}
