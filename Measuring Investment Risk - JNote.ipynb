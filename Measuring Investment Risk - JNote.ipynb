{
 "cells": [
  {
   "cell_type": "markdown",
   "id": "6ad692da",
   "metadata": {},
   "source": [
    "# Calculating a Security's Risk in Python"
   ]
  },
  {
   "cell_type": "code",
   "execution_count": 1,
   "id": "e3d91a7a",
   "metadata": {},
   "outputs": [],
   "source": [
    "import numpy as np\n",
    "import pandas as pd\n",
    "from pandas_datareader import data as wb\n",
    "import matplotlib.pyplot as plt"
   ]
  },
  {
   "cell_type": "code",
   "execution_count": 2,
   "id": "38ab5e0c",
   "metadata": {},
   "outputs": [],
   "source": [
    "tickers = ['PG', 'BEI.DE']\n",
    "\n",
    "sec_data = pd.DataFrame()\n",
    "\n",
    "for t in tickers:\n",
    "    sec_data[t] = wb.DataReader(t, data_source = 'yahoo', start='2007-1-1')['Adj Close']"
   ]
  },
  {
   "cell_type": "code",
   "execution_count": 3,
   "id": "f139e38e",
   "metadata": {},
   "outputs": [
    {
     "data": {
      "text/html": [
       "<div>\n",
       "<style scoped>\n",
       "    .dataframe tbody tr th:only-of-type {\n",
       "        vertical-align: middle;\n",
       "    }\n",
       "\n",
       "    .dataframe tbody tr th {\n",
       "        vertical-align: top;\n",
       "    }\n",
       "\n",
       "    .dataframe thead th {\n",
       "        text-align: right;\n",
       "    }\n",
       "</style>\n",
       "<table border=\"1\" class=\"dataframe\">\n",
       "  <thead>\n",
       "    <tr style=\"text-align: right;\">\n",
       "      <th></th>\n",
       "      <th>PG</th>\n",
       "      <th>BEI.DE</th>\n",
       "    </tr>\n",
       "    <tr>\n",
       "      <th>Date</th>\n",
       "      <th></th>\n",
       "      <th></th>\n",
       "    </tr>\n",
       "  </thead>\n",
       "  <tbody>\n",
       "    <tr>\n",
       "      <th>2022-08-02</th>\n",
       "      <td>141.949997</td>\n",
       "      <td>102.000000</td>\n",
       "    </tr>\n",
       "    <tr>\n",
       "      <th>2022-08-03</th>\n",
       "      <td>144.880005</td>\n",
       "      <td>102.250000</td>\n",
       "    </tr>\n",
       "    <tr>\n",
       "      <th>2022-08-04</th>\n",
       "      <td>144.649994</td>\n",
       "      <td>102.250000</td>\n",
       "    </tr>\n",
       "    <tr>\n",
       "      <th>2022-08-05</th>\n",
       "      <td>144.720001</td>\n",
       "      <td>101.849998</td>\n",
       "    </tr>\n",
       "    <tr>\n",
       "      <th>2022-08-08</th>\n",
       "      <td>145.270004</td>\n",
       "      <td>102.750000</td>\n",
       "    </tr>\n",
       "  </tbody>\n",
       "</table>\n",
       "</div>"
      ],
      "text/plain": [
       "                    PG      BEI.DE\n",
       "Date                              \n",
       "2022-08-02  141.949997  102.000000\n",
       "2022-08-03  144.880005  102.250000\n",
       "2022-08-04  144.649994  102.250000\n",
       "2022-08-05  144.720001  101.849998\n",
       "2022-08-08  145.270004  102.750000"
      ]
     },
     "execution_count": 3,
     "metadata": {},
     "output_type": "execute_result"
    }
   ],
   "source": [
    "sec_data.tail()"
   ]
  },
  {
   "cell_type": "code",
   "execution_count": 4,
   "id": "4b87683f",
   "metadata": {},
   "outputs": [],
   "source": [
    "sec_returns = np.log(sec_data / sec_data.shift(1))"
   ]
  },
  {
   "cell_type": "code",
   "execution_count": 5,
   "id": "2dd85742",
   "metadata": {},
   "outputs": [
    {
     "data": {
      "text/html": [
       "<div>\n",
       "<style scoped>\n",
       "    .dataframe tbody tr th:only-of-type {\n",
       "        vertical-align: middle;\n",
       "    }\n",
       "\n",
       "    .dataframe tbody tr th {\n",
       "        vertical-align: top;\n",
       "    }\n",
       "\n",
       "    .dataframe thead th {\n",
       "        text-align: right;\n",
       "    }\n",
       "</style>\n",
       "<table border=\"1\" class=\"dataframe\">\n",
       "  <thead>\n",
       "    <tr style=\"text-align: right;\">\n",
       "      <th></th>\n",
       "      <th>PG</th>\n",
       "      <th>BEI.DE</th>\n",
       "    </tr>\n",
       "    <tr>\n",
       "      <th>Date</th>\n",
       "      <th></th>\n",
       "      <th></th>\n",
       "    </tr>\n",
       "  </thead>\n",
       "  <tbody>\n",
       "    <tr>\n",
       "      <th>2007-01-03</th>\n",
       "      <td>NaN</td>\n",
       "      <td>NaN</td>\n",
       "    </tr>\n",
       "    <tr>\n",
       "      <th>2007-01-04</th>\n",
       "      <td>-0.007621</td>\n",
       "      <td>0.006544</td>\n",
       "    </tr>\n",
       "    <tr>\n",
       "      <th>2007-01-05</th>\n",
       "      <td>-0.008625</td>\n",
       "      <td>-0.020772</td>\n",
       "    </tr>\n",
       "    <tr>\n",
       "      <th>2007-01-08</th>\n",
       "      <td>0.002203</td>\n",
       "      <td>0.000202</td>\n",
       "    </tr>\n",
       "    <tr>\n",
       "      <th>2007-01-09</th>\n",
       "      <td>-0.002517</td>\n",
       "      <td>-0.022858</td>\n",
       "    </tr>\n",
       "    <tr>\n",
       "      <th>...</th>\n",
       "      <td>...</td>\n",
       "      <td>...</td>\n",
       "    </tr>\n",
       "    <tr>\n",
       "      <th>2022-08-02</th>\n",
       "      <td>-0.006670</td>\n",
       "      <td>-0.001470</td>\n",
       "    </tr>\n",
       "    <tr>\n",
       "      <th>2022-08-03</th>\n",
       "      <td>0.020431</td>\n",
       "      <td>0.002448</td>\n",
       "    </tr>\n",
       "    <tr>\n",
       "      <th>2022-08-04</th>\n",
       "      <td>-0.001589</td>\n",
       "      <td>0.000000</td>\n",
       "    </tr>\n",
       "    <tr>\n",
       "      <th>2022-08-05</th>\n",
       "      <td>0.000484</td>\n",
       "      <td>-0.003920</td>\n",
       "    </tr>\n",
       "    <tr>\n",
       "      <th>2022-08-08</th>\n",
       "      <td>0.003793</td>\n",
       "      <td>0.008798</td>\n",
       "    </tr>\n",
       "  </tbody>\n",
       "</table>\n",
       "<p>3927 rows × 2 columns</p>\n",
       "</div>"
      ],
      "text/plain": [
       "                  PG    BEI.DE\n",
       "Date                          \n",
       "2007-01-03       NaN       NaN\n",
       "2007-01-04 -0.007621  0.006544\n",
       "2007-01-05 -0.008625 -0.020772\n",
       "2007-01-08  0.002203  0.000202\n",
       "2007-01-09 -0.002517 -0.022858\n",
       "...              ...       ...\n",
       "2022-08-02 -0.006670 -0.001470\n",
       "2022-08-03  0.020431  0.002448\n",
       "2022-08-04 -0.001589  0.000000\n",
       "2022-08-05  0.000484 -0.003920\n",
       "2022-08-08  0.003793  0.008798\n",
       "\n",
       "[3927 rows x 2 columns]"
      ]
     },
     "execution_count": 5,
     "metadata": {},
     "output_type": "execute_result"
    }
   ],
   "source": [
    "sec_returns"
   ]
  },
  {
   "cell_type": "markdown",
   "id": "60d9e3c5",
   "metadata": {},
   "source": [
    "# PG"
   ]
  },
  {
   "cell_type": "code",
   "execution_count": 6,
   "id": "6fd99b5b",
   "metadata": {},
   "outputs": [
    {
     "data": {
      "text/plain": [
       "0.0003230221491040838"
      ]
     },
     "execution_count": 6,
     "metadata": {},
     "output_type": "execute_result"
    }
   ],
   "source": [
    "sec_returns['PG'].mean()"
   ]
  },
  {
   "cell_type": "code",
   "execution_count": 7,
   "id": "e3c785c3",
   "metadata": {},
   "outputs": [
    {
     "data": {
      "text/plain": [
       "0.08075553727602094"
      ]
     },
     "execution_count": 7,
     "metadata": {},
     "output_type": "execute_result"
    }
   ],
   "source": [
    "sec_returns['PG'].mean()*250"
   ]
  },
  {
   "cell_type": "code",
   "execution_count": 8,
   "id": "b2c4edfb",
   "metadata": {},
   "outputs": [
    {
     "data": {
      "text/plain": [
       "0.011872449859550356"
      ]
     },
     "execution_count": 8,
     "metadata": {},
     "output_type": "execute_result"
    }
   ],
   "source": [
    "## pandas.DataFrame.std()\n",
    "## Calculates standard deviation\n",
    "\n",
    "sec_returns['PG'].std()"
   ]
  },
  {
   "cell_type": "code",
   "execution_count": 9,
   "id": "1acbbcfe",
   "metadata": {},
   "outputs": [
    {
     "data": {
      "text/plain": [
       "0.18771991481162653"
      ]
     },
     "execution_count": 9,
     "metadata": {},
     "output_type": "execute_result"
    }
   ],
   "source": [
    "## To annualize the above standard deviation\n",
    "## var*250 = s^2 *250\n",
    "## sqrt(var*250) = sqrt(s^2 * 250)\n",
    "## s * 250 ^ 1/2\n",
    "sec_returns['PG'].std()*250**0.5"
   ]
  },
  {
   "cell_type": "markdown",
   "id": "f9646f23",
   "metadata": {},
   "source": [
    "# Beiersdorf"
   ]
  },
  {
   "cell_type": "code",
   "execution_count": 10,
   "id": "f39e9e79",
   "metadata": {},
   "outputs": [
    {
     "data": {
      "text/plain": [
       "0.00021778020443205512"
      ]
     },
     "execution_count": 10,
     "metadata": {},
     "output_type": "execute_result"
    }
   ],
   "source": [
    "sec_returns['BEI.DE'].mean()"
   ]
  },
  {
   "cell_type": "code",
   "execution_count": 11,
   "id": "8f8ce004",
   "metadata": {},
   "outputs": [
    {
     "data": {
      "text/plain": [
       "0.05444505110801378"
      ]
     },
     "execution_count": 11,
     "metadata": {},
     "output_type": "execute_result"
    }
   ],
   "source": [
    "sec_returns['BEI.DE'].mean() * 250"
   ]
  },
  {
   "cell_type": "code",
   "execution_count": 12,
   "id": "dff99666",
   "metadata": {},
   "outputs": [
    {
     "data": {
      "text/plain": [
       "0.013845783182241608"
      ]
     },
     "execution_count": 12,
     "metadata": {},
     "output_type": "execute_result"
    }
   ],
   "source": [
    "sec_returns['BEI.DE'].std()"
   ]
  },
  {
   "cell_type": "code",
   "execution_count": 13,
   "id": "d1924a85",
   "metadata": {},
   "outputs": [
    {
     "data": {
      "text/plain": [
       "0.21892105422368843"
      ]
     },
     "execution_count": 13,
     "metadata": {},
     "output_type": "execute_result"
    }
   ],
   "source": [
    "sec_returns['BEI.DE'].std() * 250 **0.5"
   ]
  },
  {
   "cell_type": "code",
   "execution_count": 14,
   "id": "08ea0d8b",
   "metadata": {},
   "outputs": [],
   "source": [
    "## to put both means and stds of both stocks together\n",
    "## create a double array using double brackets\n",
    "## each additional pair of brackets increases the\n",
    "## dimension of the numpy object by 1"
   ]
  },
  {
   "cell_type": "code",
   "execution_count": 15,
   "id": "88971824",
   "metadata": {},
   "outputs": [
    {
     "data": {
      "text/plain": [
       "PG        0.080756\n",
       "BEI.DE    0.054445\n",
       "dtype: float64"
      ]
     },
     "execution_count": 15,
     "metadata": {},
     "output_type": "execute_result"
    }
   ],
   "source": [
    "sec_returns[['PG','BEI.DE']].mean() * 250"
   ]
  },
  {
   "cell_type": "code",
   "execution_count": 16,
   "id": "8e2c4c20",
   "metadata": {},
   "outputs": [
    {
     "data": {
      "text/plain": [
       "PG        0.187720\n",
       "BEI.DE    0.218921\n",
       "dtype: float64"
      ]
     },
     "execution_count": 16,
     "metadata": {},
     "output_type": "execute_result"
    }
   ],
   "source": [
    "sec_returns[['PG', 'BEI.DE']].std() * 250 ** 0.5"
   ]
  },
  {
   "cell_type": "code",
   "execution_count": 17,
   "id": "0f1b95b4",
   "metadata": {},
   "outputs": [],
   "source": [
    "## We could have done this calculations with out Numpy\n",
    "## But this technique is useful for recording the values\n",
    "## of the means in one matrix\n",
    "## and the std in another matrix"
   ]
  },
  {
   "cell_type": "markdown",
   "id": "922719b3",
   "metadata": {},
   "source": [
    "# Calculating the Covariance between Securities"
   ]
  },
  {
   "cell_type": "markdown",
   "id": "4c78e3cc",
   "metadata": {},
   "source": [
    "$$\n",
    "cov (x,y) = \\Sigma(x_i - x)(y_i-y) / (n-1)\n",
    "$$"
   ]
  },
  {
   "cell_type": "code",
   "execution_count": 18,
   "id": "118ec75d",
   "metadata": {},
   "outputs": [],
   "source": [
    "## if cov(x,y) > 0 --> the two securities move in the same direction\n",
    "## if cov(x,y) < 0 --> the two securities move in the opposite direction\n",
    "## if cov(x,y) = 0 --> the two securities are independant\n"
   ]
  },
  {
   "cell_type": "markdown",
   "id": "25d3546d",
   "metadata": {},
   "source": [
    "# Measuring the Correlation between Securities"
   ]
  },
  {
   "cell_type": "code",
   "execution_count": 19,
   "id": "dab14495",
   "metadata": {},
   "outputs": [],
   "source": [
    "## Correlation adjusts covariance\n",
    "## corr(x,y) = 1 --> perfect positive correlation\n",
    "## The entire variability of the second security is explained by the first security\n",
    "\n",
    "## So, for every $1 increase of stock y is due to $1 increase of stock x"
   ]
  },
  {
   "cell_type": "code",
   "execution_count": 20,
   "id": "a0683b81",
   "metadata": {},
   "outputs": [],
   "source": [
    "## Variables that determine share prices:\n",
    "## Industry growth\n",
    "## Revenue growth\n",
    "## Profitability\n",
    "## Regulatory environment"
   ]
  },
  {
   "cell_type": "code",
   "execution_count": 21,
   "id": "5c900a07",
   "metadata": {},
   "outputs": [],
   "source": [
    "## corr(x,y) = 0 --> Zero correlation \n",
    "## Implies the variability of each security is independent\n",
    "\n",
    "## So, for every $1 increase of a stock is independent to the firm\n"
   ]
  },
  {
   "cell_type": "code",
   "execution_count": 22,
   "id": "d0e9347b",
   "metadata": {},
   "outputs": [],
   "source": [
    "## corr(x,y) = -1 --> perfect negative correlation\n",
    "## The entire variability of the second security is explained by a counter movement by the first security\n",
    "\n",
    "## corr(x,y) = [-1 to 0)\n",
    "## The stock securities move in opposite directions"
   ]
  },
  {
   "cell_type": "markdown",
   "id": "a8c361bb",
   "metadata": {},
   "source": [
    "# Covariance and Correlation"
   ]
  },
  {
   "cell_type": "markdown",
   "id": "a88089cc",
   "metadata": {},
   "source": [
    "\\begin{eqnarray*}\n",
    "Covariance Matrix: \\  \\   \n",
    "\\Sigma = \\begin{bmatrix}\n",
    "        \\sigma_{1}^2 \\ \\sigma_{12} \\ \\dots \\ \\sigma_{1I} \\\\\n",
    "        \\sigma_{21} \\ \\sigma_{2}^2 \\ \\dots \\ \\sigma_{2I} \\\\\n",
    "        \\vdots \\ \\vdots \\ \\ddots \\ \\vdots \\\\\n",
    "        \\sigma_{I1} \\ \\sigma_{I2} \\ \\dots \\ \\sigma_{I}^2\n",
    "    \\end{bmatrix}\n",
    "\\end{eqnarray*}"
   ]
  },
  {
   "cell_type": "code",
   "execution_count": 23,
   "id": "d1157504",
   "metadata": {},
   "outputs": [],
   "source": [
    "## the diagnol of a covariance mathrix is the variance of each variable\n",
    "## all other spots on the matrix are the covariances between the variable\n",
    "\n",
    "## pandas.DataFrame.var() -- calculates variance"
   ]
  },
  {
   "cell_type": "code",
   "execution_count": 24,
   "id": "a1a24f52",
   "metadata": {},
   "outputs": [
    {
     "data": {
      "text/plain": [
       "0.00014095506566753728"
      ]
     },
     "execution_count": 24,
     "metadata": {},
     "output_type": "execute_result"
    }
   ],
   "source": [
    "PG_var = sec_returns['PG'].var()\n",
    "PG_var"
   ]
  },
  {
   "cell_type": "code",
   "execution_count": 25,
   "id": "926f1016",
   "metadata": {},
   "outputs": [
    {
     "data": {
      "text/plain": [
       "0.00019170571192964454"
      ]
     },
     "execution_count": 25,
     "metadata": {},
     "output_type": "execute_result"
    }
   ],
   "source": [
    "BEI_var = sec_returns['BEI.DE'].var()\n",
    "BEI_var"
   ]
  },
  {
   "cell_type": "code",
   "execution_count": 26,
   "id": "b79596c9",
   "metadata": {},
   "outputs": [
    {
     "data": {
      "text/plain": [
       "0.03523876641688432"
      ]
     },
     "execution_count": 26,
     "metadata": {},
     "output_type": "execute_result"
    }
   ],
   "source": [
    "PG_var_a = sec_returns['PG'].var() * 250\n",
    "PG_var_a"
   ]
  },
  {
   "cell_type": "code",
   "execution_count": 27,
   "id": "4d3fc07a",
   "metadata": {},
   "outputs": [
    {
     "data": {
      "text/plain": [
       "0.04792642798241114"
      ]
     },
     "execution_count": 27,
     "metadata": {},
     "output_type": "execute_result"
    }
   ],
   "source": [
    "BEI_var_a = sec_returns['BEI.DE'].var() * 250\n",
    "BEI_var_a"
   ]
  },
  {
   "cell_type": "code",
   "execution_count": 28,
   "id": "86140cce",
   "metadata": {},
   "outputs": [],
   "source": [
    "## pandas.DataFrame.cov()\n",
    "## computes pairwise covariance of columns"
   ]
  },
  {
   "cell_type": "code",
   "execution_count": 29,
   "id": "a5a2217e",
   "metadata": {},
   "outputs": [
    {
     "data": {
      "text/html": [
       "<div>\n",
       "<style scoped>\n",
       "    .dataframe tbody tr th:only-of-type {\n",
       "        vertical-align: middle;\n",
       "    }\n",
       "\n",
       "    .dataframe tbody tr th {\n",
       "        vertical-align: top;\n",
       "    }\n",
       "\n",
       "    .dataframe thead th {\n",
       "        text-align: right;\n",
       "    }\n",
       "</style>\n",
       "<table border=\"1\" class=\"dataframe\">\n",
       "  <thead>\n",
       "    <tr style=\"text-align: right;\">\n",
       "      <th></th>\n",
       "      <th>PG</th>\n",
       "      <th>BEI.DE</th>\n",
       "    </tr>\n",
       "  </thead>\n",
       "  <tbody>\n",
       "    <tr>\n",
       "      <th>PG</th>\n",
       "      <td>0.000141</td>\n",
       "      <td>0.000044</td>\n",
       "    </tr>\n",
       "    <tr>\n",
       "      <th>BEI.DE</th>\n",
       "      <td>0.000044</td>\n",
       "      <td>0.000192</td>\n",
       "    </tr>\n",
       "  </tbody>\n",
       "</table>\n",
       "</div>"
      ],
      "text/plain": [
       "              PG    BEI.DE\n",
       "PG      0.000141  0.000044\n",
       "BEI.DE  0.000044  0.000192"
      ]
     },
     "execution_count": 29,
     "metadata": {},
     "output_type": "execute_result"
    }
   ],
   "source": [
    "cov_matrix = sec_returns.cov()\n",
    "cov_matrix"
   ]
  },
  {
   "cell_type": "code",
   "execution_count": 30,
   "id": "b561f5c0",
   "metadata": {},
   "outputs": [
    {
     "data": {
      "text/html": [
       "<div>\n",
       "<style scoped>\n",
       "    .dataframe tbody tr th:only-of-type {\n",
       "        vertical-align: middle;\n",
       "    }\n",
       "\n",
       "    .dataframe tbody tr th {\n",
       "        vertical-align: top;\n",
       "    }\n",
       "\n",
       "    .dataframe thead th {\n",
       "        text-align: right;\n",
       "    }\n",
       "</style>\n",
       "<table border=\"1\" class=\"dataframe\">\n",
       "  <thead>\n",
       "    <tr style=\"text-align: right;\">\n",
       "      <th></th>\n",
       "      <th>PG</th>\n",
       "      <th>BEI.DE</th>\n",
       "    </tr>\n",
       "  </thead>\n",
       "  <tbody>\n",
       "    <tr>\n",
       "      <th>PG</th>\n",
       "      <td>0.035239</td>\n",
       "      <td>0.011108</td>\n",
       "    </tr>\n",
       "    <tr>\n",
       "      <th>BEI.DE</th>\n",
       "      <td>0.011108</td>\n",
       "      <td>0.047926</td>\n",
       "    </tr>\n",
       "  </tbody>\n",
       "</table>\n",
       "</div>"
      ],
      "text/plain": [
       "              PG    BEI.DE\n",
       "PG      0.035239  0.011108\n",
       "BEI.DE  0.011108  0.047926"
      ]
     },
     "execution_count": 30,
     "metadata": {},
     "output_type": "execute_result"
    }
   ],
   "source": [
    "cov_matrix_a = sec_returns.cov() * 250\n",
    "cov_matrix_a"
   ]
  },
  {
   "cell_type": "code",
   "execution_count": 31,
   "id": "c82666d2",
   "metadata": {},
   "outputs": [],
   "source": [
    "## pandas.DataFrame.corr()\n",
    "## computes paiwise correlation of columns\n",
    "\n",
    "## corr(x,y) = Cov(x/y) / std(x)*std(y)"
   ]
  },
  {
   "cell_type": "code",
   "execution_count": 32,
   "id": "351741c5",
   "metadata": {},
   "outputs": [
    {
     "data": {
      "text/html": [
       "<div>\n",
       "<style scoped>\n",
       "    .dataframe tbody tr th:only-of-type {\n",
       "        vertical-align: middle;\n",
       "    }\n",
       "\n",
       "    .dataframe tbody tr th {\n",
       "        vertical-align: top;\n",
       "    }\n",
       "\n",
       "    .dataframe thead th {\n",
       "        text-align: right;\n",
       "    }\n",
       "</style>\n",
       "<table border=\"1\" class=\"dataframe\">\n",
       "  <thead>\n",
       "    <tr style=\"text-align: right;\">\n",
       "      <th></th>\n",
       "      <th>PG</th>\n",
       "      <th>BEI.DE</th>\n",
       "    </tr>\n",
       "  </thead>\n",
       "  <tbody>\n",
       "    <tr>\n",
       "      <th>PG</th>\n",
       "      <td>1.000000</td>\n",
       "      <td>0.269817</td>\n",
       "    </tr>\n",
       "    <tr>\n",
       "      <th>BEI.DE</th>\n",
       "      <td>0.269817</td>\n",
       "      <td>1.000000</td>\n",
       "    </tr>\n",
       "  </tbody>\n",
       "</table>\n",
       "</div>"
      ],
      "text/plain": [
       "              PG    BEI.DE\n",
       "PG      1.000000  0.269817\n",
       "BEI.DE  0.269817  1.000000"
      ]
     },
     "execution_count": 32,
     "metadata": {},
     "output_type": "execute_result"
    }
   ],
   "source": [
    "corr_matrix = sec_returns.corr()\n",
    "corr_matrix"
   ]
  },
  {
   "cell_type": "code",
   "execution_count": 33,
   "id": "11a9b522",
   "metadata": {},
   "outputs": [],
   "source": [
    "## Note - This is not the correlation between the price\n",
    "## of the two equities\n",
    "\n",
    "## corr(prices) vs corr(returns)\n",
    "\n",
    "## corr(prices) - focuses on the stock price levels\n",
    "\n",
    "## corr(returns) - reflects the dependence between\n",
    "## prices at different times and focuses on the \n",
    "## returns of your portfolio"
   ]
  },
  {
   "cell_type": "markdown",
   "id": "311372ef",
   "metadata": {},
   "source": [
    "# Calculating Portfolio Risk"
   ]
  },
  {
   "cell_type": "code",
   "execution_count": 34,
   "id": "febee6f6",
   "metadata": {},
   "outputs": [],
   "source": [
    "## Inputs needed:\n",
    "## Standard deviation of stocks\n",
    "## Correlation between the stocks"
   ]
  },
  {
   "cell_type": "markdown",
   "id": "2dc2edd4",
   "metadata": {},
   "source": [
    "### Equal weigthing scheme:"
   ]
  },
  {
   "cell_type": "code",
   "execution_count": 37,
   "id": "beb8d6d8",
   "metadata": {},
   "outputs": [],
   "source": [
    "weights = np.array([0.5,0.5])"
   ]
  },
  {
   "cell_type": "markdown",
   "id": "6ea3707f",
   "metadata": {},
   "source": [
    "### Portfolio Variance"
   ]
  },
  {
   "cell_type": "code",
   "execution_count": 38,
   "id": "c0416f66",
   "metadata": {},
   "outputs": [
    {
     "data": {
      "text/plain": [
       "0.026345346016059583"
      ]
     },
     "execution_count": 38,
     "metadata": {},
     "output_type": "execute_result"
    }
   ],
   "source": [
    "pfolio_var = np.dot(weights.T, np.dot(sec_returns.cov() * 250, weights))\n",
    "pfolio_var"
   ]
  },
  {
   "cell_type": "markdown",
   "id": "38e8b5f8",
   "metadata": {},
   "source": [
    "### Portfolio Volatility"
   ]
  },
  {
   "cell_type": "code",
   "execution_count": 39,
   "id": "7c798516",
   "metadata": {},
   "outputs": [
    {
     "data": {
      "text/plain": [
       "0.16231249494743027"
      ]
     },
     "execution_count": 39,
     "metadata": {},
     "output_type": "execute_result"
    }
   ],
   "source": [
    "pfolio_vol = (np.dot(weights.T, np.dot(sec_returns.cov() * 250 , weights ))) ** 0.5\n",
    "pfolio_vol"
   ]
  },
  {
   "cell_type": "code",
   "execution_count": 42,
   "id": "09069002",
   "metadata": {},
   "outputs": [
    {
     "name": "stdout",
     "output_type": "stream",
     "text": [
      "16.231%\n"
     ]
    }
   ],
   "source": [
    "print (str(round(pfolio_vol,5) * 100) + '%')"
   ]
  },
  {
   "cell_type": "markdown",
   "id": "a87b18ce",
   "metadata": {},
   "source": [
    "# Understanding Systematic and Idiosyncratic Risk"
   ]
  },
  {
   "cell_type": "code",
   "execution_count": 43,
   "id": "85ded6be",
   "metadata": {},
   "outputs": [],
   "source": [
    "## Portfolio Variance has two components\n",
    "## The variance of the securities\n",
    "## and the correlation of the securities"
   ]
  },
  {
   "cell_type": "code",
   "execution_count": null,
   "id": "51c73c65",
   "metadata": {},
   "outputs": [],
   "source": [
    "## So we have two types of risk:\n",
    "\n",
    "## Systematic - Un-diversifiable - cannot be eliminated\n",
    "\n",
    "## The components of Un-diversifiable risk depend\n",
    "## on the variance of each individual security\n",
    "## determinants - recession of the economy\n",
    "##              - low consumer spending\n",
    "##              - wars\n",
    "##              - Forces of nature\n",
    "\n",
    "## & Un-systemtic - diversifiable - Idiosyncratic risk\n",
    "\n",
    "## Idiosyncratic risk is aka company specific risk\n",
    "## The components of un-systematic risk is driven \n",
    "## By company-specific events or industry specific\n",
    "\n",
    "## Diversifiable risk can be eliminated if we invest in \n",
    "## non-correlated assets in different industries\n",
    "\n",
    "## In common practice a portfolio that is built with\n",
    "## more than 25 stocks from different sectors (not correlated)\n",
    "## un-systematic risk can almost be set to zero"
   ]
  },
  {
   "cell_type": "markdown",
   "id": "c7323d6d",
   "metadata": {},
   "source": [
    "# Calculating Diversifiable and Non-Diversifiable Risk of a Portfolio"
   ]
  },
  {
   "cell_type": "code",
   "execution_count": 44,
   "id": "f2d6a807",
   "metadata": {},
   "outputs": [],
   "source": [
    "weights = np.array([0.5, 0.5])\n"
   ]
  },
  {
   "cell_type": "code",
   "execution_count": 45,
   "id": "87474ec2",
   "metadata": {},
   "outputs": [
    {
     "data": {
      "text/plain": [
       "0.5"
      ]
     },
     "execution_count": 45,
     "metadata": {},
     "output_type": "execute_result"
    }
   ],
   "source": [
    "weights[0]"
   ]
  },
  {
   "cell_type": "code",
   "execution_count": 46,
   "id": "1054a5b3",
   "metadata": {},
   "outputs": [
    {
     "data": {
      "text/plain": [
       "0.5"
      ]
     },
     "execution_count": 46,
     "metadata": {},
     "output_type": "execute_result"
    }
   ],
   "source": [
    "weights[1]"
   ]
  },
  {
   "cell_type": "markdown",
   "id": "1cd9952c",
   "metadata": {},
   "source": [
    "### Diversifiable Risk(un-systhematic):"
   ]
  },
  {
   "cell_type": "code",
   "execution_count": 50,
   "id": "543dfca0",
   "metadata": {},
   "outputs": [],
   "source": [
    "## diversifiable risk = portfolio variance - weighthed annual variances\n"
   ]
  },
  {
   "cell_type": "code",
   "execution_count": 47,
   "id": "b495eb72",
   "metadata": {},
   "outputs": [
    {
     "data": {
      "text/plain": [
       "PG    0.035239\n",
       "dtype: float64"
      ]
     },
     "execution_count": 47,
     "metadata": {},
     "output_type": "execute_result"
    }
   ],
   "source": [
    "PG_var_a = sec_returns[['PG']].var() * 250\n",
    "PG_var_a"
   ]
  },
  {
   "cell_type": "code",
   "execution_count": 49,
   "id": "98dcfe6c",
   "metadata": {},
   "outputs": [
    {
     "data": {
      "text/plain": [
       "BEI.DE    0.047926\n",
       "dtype: float64"
      ]
     },
     "execution_count": 49,
     "metadata": {},
     "output_type": "execute_result"
    }
   ],
   "source": [
    "BEI_var_a = sec_returns[['BEI.DE']].var() * 250\n",
    "BEI_var_a"
   ]
  },
  {
   "cell_type": "code",
   "execution_count": 52,
   "id": "16d8a4d2",
   "metadata": {},
   "outputs": [
    {
     "data": {
      "text/plain": [
       "BEI.DE   NaN\n",
       "PG       NaN\n",
       "dtype: float64"
      ]
     },
     "execution_count": 52,
     "metadata": {},
     "output_type": "execute_result"
    }
   ],
   "source": [
    "dr = pfolio_var - (weights[0] ** 2 * PG_var_a) - (weights[1] ** 2 * BEI_var_a)\n",
    "dr"
   ]
  },
  {
   "cell_type": "code",
   "execution_count": 53,
   "id": "cc895ffd",
   "metadata": {},
   "outputs": [
    {
     "data": {
      "text/plain": [
       "0.03523876641688432"
      ]
     },
     "execution_count": 53,
     "metadata": {},
     "output_type": "execute_result"
    }
   ],
   "source": [
    "float(PG_var_a)"
   ]
  },
  {
   "cell_type": "code",
   "execution_count": 54,
   "id": "6652caed",
   "metadata": {},
   "outputs": [
    {
     "data": {
      "text/plain": [
       "0.03523876641688432"
      ]
     },
     "execution_count": 54,
     "metadata": {},
     "output_type": "execute_result"
    }
   ],
   "source": [
    "PG_var_a = sec_returns['PG'].var() * 250\n",
    "PG_var_a"
   ]
  },
  {
   "cell_type": "code",
   "execution_count": 55,
   "id": "82f2db80",
   "metadata": {},
   "outputs": [
    {
     "data": {
      "text/plain": [
       "0.04792642798241114"
      ]
     },
     "execution_count": 55,
     "metadata": {},
     "output_type": "execute_result"
    }
   ],
   "source": [
    "BEI_var_a = sec_returns['BEI.DE'].var() * 250\n",
    "BEI_var_a"
   ]
  },
  {
   "cell_type": "code",
   "execution_count": 57,
   "id": "9ce33ac5",
   "metadata": {},
   "outputs": [
    {
     "data": {
      "text/plain": [
       "0.005554047416235717"
      ]
     },
     "execution_count": 57,
     "metadata": {},
     "output_type": "execute_result"
    }
   ],
   "source": [
    "dr = pfolio_var - (weights[0] ** 2 * PG_var_a) - (weights[1] ** 2 * BEI_var_a)\n",
    "dr"
   ]
  },
  {
   "cell_type": "code",
   "execution_count": 60,
   "id": "a17eda42",
   "metadata": {},
   "outputs": [
    {
     "name": "stdout",
     "output_type": "stream",
     "text": [
      "0.555%\n"
     ]
    }
   ],
   "source": [
    "print(str(round(dr*100, 3)) + '%')"
   ]
  },
  {
   "cell_type": "markdown",
   "id": "8221d24f",
   "metadata": {},
   "source": [
    "### Non-Diversifiable Risk(systhematic):"
   ]
  },
  {
   "cell_type": "code",
   "execution_count": 61,
   "id": "ec63607f",
   "metadata": {},
   "outputs": [
    {
     "data": {
      "text/plain": [
       "0.020791298599823864"
      ]
     },
     "execution_count": 61,
     "metadata": {},
     "output_type": "execute_result"
    }
   ],
   "source": [
    "n_dr_1 = pfolio_var - dr\n",
    "n_dr_1"
   ]
  },
  {
   "cell_type": "code",
   "execution_count": 62,
   "id": "f99b35e3",
   "metadata": {},
   "outputs": [
    {
     "data": {
      "text/plain": [
       "0.020791298599823864"
      ]
     },
     "execution_count": 62,
     "metadata": {},
     "output_type": "execute_result"
    }
   ],
   "source": [
    "n_dr_2 = (weights[0] ** 2 * PG_var_a) + (weights[1] ** 2 * BEI_var_a)\n",
    "n_dr_2"
   ]
  },
  {
   "cell_type": "code",
   "execution_count": 63,
   "id": "c68d931a",
   "metadata": {},
   "outputs": [
    {
     "data": {
      "text/plain": [
       "True"
      ]
     },
     "execution_count": 63,
     "metadata": {},
     "output_type": "execute_result"
    }
   ],
   "source": [
    "n_dr_1==n_dr_2"
   ]
  },
  {
   "cell_type": "code",
   "execution_count": null,
   "id": "ac745af0",
   "metadata": {},
   "outputs": [],
   "source": []
  }
 ],
 "metadata": {
  "kernelspec": {
   "display_name": "Python 3.10.0 64-bit",
   "language": "python",
   "name": "python3"
  },
  "language_info": {
   "codemirror_mode": {
    "name": "ipython",
    "version": 3
   },
   "file_extension": ".py",
   "mimetype": "text/x-python",
   "name": "python",
   "nbconvert_exporter": "python",
   "pygments_lexer": "ipython3",
   "version": "3.10.0"
  },
  "vscode": {
   "interpreter": {
    "hash": "26de051ba29f2982a8de78e945f0abaf191376122a1563185a90213a26c5da77"
   }
  }
 },
 "nbformat": 4,
 "nbformat_minor": 5
}
